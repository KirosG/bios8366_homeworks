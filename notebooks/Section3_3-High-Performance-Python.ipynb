{
 "cells": [
  {
   "cell_type": "markdown",
   "metadata": {},
   "source": [
    "\n",
    "# High Performance Python\n",
    "\n",
    "Python is slower than compiled languages for a variety of reasons:\n",
    "\n",
    "### Python is Dynamically Typed rather than Statically Typed.\n",
    "\n",
    "What this means is that at the time the program executes, the interpreter doesn't know the type of the variables that are defined. For example, the difference between a C variable and a Python variable is summarized by this diagram:\n",
    "\n",
    "![](http://jakevdp.github.io/images/cint_vs_pyint.png)\n",
    "\n",
    "For a variable in C, the compiler knows the type by its very definition. For a variable in Python, all you know at the time the program executes is that it's some sort of Python object.\n",
    "\n",
    "So if you write the following in C:\n",
    "\n",
    "```C\n",
    "int a = 1;\n",
    "int b = 2;\n",
    "int c = a + b;\n",
    "```\n",
    "\n",
    "the C compiler knows from the start that a and b are integers: they simply can't be anything else! With this knowledge, it can call the routine which adds two integers, returning another integer which is just a simple value in memory. As a rough schematic, the sequence of events looks like this:\n",
    "\n",
    "**C Addition**\n",
    "\n",
    "1. Assign <int> 1 to a\n",
    "2. Assign <int> 2 to b\n",
    "3. call binary_add<int, int>(a, b)\n",
    "4. Assign the result to c\n",
    "\n",
    "The equivalent code in Python looks like this:\n",
    "\n",
    "```python\n",
    "a = 1\n",
    "b = 2\n",
    "c = a + b\n",
    "```\n",
    "\n",
    "here the interpreter knows only that 1 and 2 are objects, but not what type of object they are. So the The interpreter must inspect PyObject_HEAD for each variable to find the type information, and then call the appropriate summation routine for the two types. Finally it must create and initialize a new Python object to hold the return value. The sequence of events looks roughly like this:\n",
    "\n",
    "**Python Addition**\n",
    "\n",
    "1. Assign 1 to a\n",
    "    - Set a->PyObject_HEAD->typecode to integer\n",
    "    - Set a->val = 1\n",
    "2. Assign 2 to b\n",
    "    - Set b->PyObject_HEAD->typecode to integer\n",
    "    - Set b->val = 2\n",
    "3. call binary_add(a, b)\n",
    "    - find typecode in a->PyObject_HEAD\n",
    "    - a is an integer; value is a->val\n",
    "    - find typecode in b->PyObject_HEAD\n",
    "    - b is an integer; value is b->val\n",
    "    - call binary_add<int, int>(a->val, b->val)\n",
    "    - result of this is result, and is an integer.\n",
    "4. Create a Python object c\n",
    "    - set c->PyObject_HEAD->typecode to integer\n",
    "    - set c->val to result\n",
    "\n",
    "The dynamic typing means that there are a lot more steps involved with any operation. This is a primary reason that Python is slow compared to C for operations on numerical data.\n",
    "\n",
    "### Python is interpreted rather than compiled.\n",
    "\n",
    "We saw above one difference between interpreted and compiled code. A smart compiler can look ahead and optimize for repeated or unneeded operations, which can result in speed-ups. Compiler optimization is its own beast, and I'm personally not qualified to say much about it, so I'll stop there. \n",
    "\n",
    "### Python's object model can lead to inefficient memory access\n",
    "\n",
    "We saw above the extra type info layer when moving from a C integer to a Python integer. Now imagine you have many such integers and want to do some sort of batch operation on them. In Python you might use the standard List object, while in C you would likely use some sort of buffer-based array.\n",
    "\n",
    "A NumPy array in its simplest form is a Python object build around a C array. That is, it has a pointer to a contiguous data buffer of values. A Python list, on the other hand, has a pointer to a contiguous buffer of pointers, each of which points to a Python object which in turn has references to its data (in this case, integers). This is a schematic of what the two might look like:\n",
    "\n",
    "![](http://jakevdp.github.io/images/array_vs_list.png)\n",
    "\n",
    "You can see that if you're doing some operation which steps through data in sequence, the numpy layout will be much more efficient than the Python layout, both in the cost of storage and the cost of access."
   ]
  },
  {
   "cell_type": "markdown",
   "metadata": {},
   "source": [
    "## Speeding up statistical computations in Python\n",
    "\n",
    "In the age of \"big data\" and sophisitcated Bayesian and statistical learning algorithms, many are interested in optimizing the performance of the high-level languages that we use to analyse data.\n",
    "\n",
    "[NumPy](http://numpy.scipy.org/) gets us part of the way there on Python:\n",
    "\n",
    "* Storage of multidimensional data\n",
    "* Efficient data access\n",
    "* Efficient in-memory storage\n",
    "* Fast methods and functions for data manipulation\n",
    "\n",
    "Ffor many applications, this is sufficient to drastically improve performance. However, there is plenty of scope for improving Python's performance in situations where speed matters.\n",
    "\n",
    "Pure Python and Python with NumPy are not particularly fast. Below are some recent performance benchmarks comparing several computing languages (taken directly from the [Julia website](http://julialang.org)):\n",
    "\n",
    "\n",
    "<div class=\"figure\">\n",
    "<table class=\"benchmarks\">\n",
    "<colgroup>\n",
    "<col class=\"name\" />\n",
    "<col class=\"relative\" span=\"11\" />\n",
    "</colgroup>\n",
    "<thead>\n",
    "<tr><td></td><th class=\"system\">Fortran</th><th class=\"system\">Julia</th><th class=\"system\">Python</th><th class=\"system\">R</th><th class=\"system\">Matlab</th><th class=\"system\">Octave</th><th class=\"system\">Mathematica</th><th class=\"system\">JavaScript</th><th class=\"system\">Go</th><th class=\"system\">LuaJIT</th><th class=\"system\">Java</th></tr>\n",
    "<tr><td></td><td class=\"version\">gcc 5.1.1\n",
    "</td><td class=\"version\">0.4.0\n",
    "</td><td class=\"version\">3.4.3\n",
    "</td><td class=\"version\">3.2.2\n",
    "</td><td class=\"version\">R2015b\n",
    "</td><td class=\"version\">4.0.0\n",
    "</td><td class=\"version\">10.2.0\n",
    "</td><td class=\"version\">V8 3.28.71.19\n",
    "</td><td class=\"version\">go1.5\n",
    "</td><td class=\"version\">gsl-shell 2.3.1\n",
    "</td><td class=\"version\">1.8.0_45\n",
    "</td></tr>\n",
    "</thead>\n",
    "<tbody>\n",
    "<tr><th>fib</th><td class=\"data\">0.70</td><td class=\"data\">2.11</td><td class=\"data\">77.76</td><td class=\"data\">533.52</td><td class=\"data\">26.89</td><td class=\"data\">9324.35</td><td class=\"data\">118.53</td><td class=\"data\">3.36</td><td class=\"data\">1.86</td><td class=\"data\">1.71</td><td class=\"data\">1.21</td></tr>\n",
    "<tr><th>parse_int</th><td class=\"data\">5.05</td><td class=\"data\">1.45</td><td class=\"data\">17.02</td><td class=\"data\">45.73</td><td class=\"data\">802.52</td><td class=\"data\">9581.44</td><td class=\"data\">15.02</td><td class=\"data\">6.06</td><td class=\"data\">1.20</td><td class=\"data\">5.77</td><td class=\"data\">3.35</td></tr>\n",
    "<tr><th>quicksort</th><td class=\"data\">1.31</td><td class=\"data\">1.15</td><td class=\"data\">32.89</td><td class=\"data\">264.54</td><td class=\"data\">4.92</td><td class=\"data\">1866.01</td><td class=\"data\">43.23</td><td class=\"data\">2.70</td><td class=\"data\">1.29</td><td class=\"data\">2.03</td><td class=\"data\">2.60</td></tr>\n",
    "<tr><th>mandel</th><td class=\"data\">0.81</td><td class=\"data\">0.79</td><td class=\"data\">15.32</td><td class=\"data\">53.16</td><td class=\"data\">7.58</td><td class=\"data\">451.81</td><td class=\"data\">5.13</td><td class=\"data\">0.66</td><td class=\"data\">1.11</td><td class=\"data\">0.67</td><td class=\"data\">1.35</td></tr>\n",
    "<tr><th>pi_sum</th><td class=\"data\">1.00</td><td class=\"data\">1.00</td><td class=\"data\">21.99</td><td class=\"data\">9.56</td><td class=\"data\">1.00</td><td class=\"data\">299.31</td><td class=\"data\">1.69</td><td class=\"data\">1.01</td><td class=\"data\">1.00</td><td class=\"data\">1.00</td><td class=\"data\">1.00</td></tr>\n",
    "<tr><th>rand_mat_stat</th><td class=\"data\">1.45</td><td class=\"data\">1.66</td><td class=\"data\">17.93</td><td class=\"data\">14.56</td><td class=\"data\">14.52</td><td class=\"data\">30.93</td><td class=\"data\">5.95</td><td class=\"data\">2.30</td><td class=\"data\">2.96</td><td class=\"data\">3.27</td><td class=\"data\">3.92</td></tr>\n",
    "<tr><th>rand_mat_mul</th><td class=\"data\">3.48</td><td class=\"data\">1.02</td><td class=\"data\">1.14</td><td class=\"data\">1.57</td><td class=\"data\">1.12</td><td class=\"data\">1.12</td><td class=\"data\">1.30</td><td class=\"data\">15.07</td><td class=\"data\">1.42</td><td class=\"data\">1.16</td><td class=\"data\">2.36</td></tr>\n",
    "</tbody>\n",
    "</table>\n",
    "\n",
    "<p class=\"caption\"><b>Figure:</b>\n",
    "benchmark times relative to C (smaller is better, C performance = 1.0).\n",
    "</p>\n",
    "</div>\n",
    "\n",
    "So, while fast relative to some scientific compution choices (*e.g.* R, Matlab), Python sometimes needs to be tweaked in order to make it a competitive choice for implementing modern statistical methods. We will cover two approachable ways of improving the performance of Python.\n",
    "\n",
    "> One does have to be careful when interpreting benchmarks. They involve many assumptions about how algorithms are implemented that may not be applicable to real-world applications in a particular language. \n",
    "\n",
    "\n",
    "## Profiling\n",
    "\n",
    "Before you barrel ahead and prematurely optimize your Python code, it is important to understand **why** and **where** your code is slow. This is achieved by systematically accounting for the resources that your code is using, such as memory, CPU time or data transfer. This process is broadly referred to as ***Profiling***, and it allows you to identify where the performance bottlenecks in your code lie.\n",
    "\n",
    "Here, we will concentrate on optimizing performance for **CPU-bound** problems.\n",
    "\n",
    "There are a number of tools to help you profile your code.\n",
    "\n",
    "### `time`\n",
    "\n",
    "For those of you on UNIX platforms, the built-in utility `time` can be used to assess how long your code takes to run."
   ]
  },
  {
   "cell_type": "code",
   "execution_count": 5,
   "metadata": {},
   "outputs": [
    {
     "name": "stdout",
     "output_type": "stream",
     "text": [
      "mu       3.940684\n",
      "sigma    2.237755\n",
      "dtype: float64\n",
      "\n",
      "real\t0m1.804s\n",
      "user\t0m1.568s\n",
      "sys\t0m0.181s\n"
     ]
    }
   ],
   "source": [
    "!time python ../examples/abc.py"
   ]
  },
  {
   "cell_type": "markdown",
   "metadata": {},
   "source": [
    "The output from `time` can be interpreted as:\n",
    "\n",
    "* `real`: elapsed (wall) time\n",
    "* `user`: time spent in your code\n",
    "* `sys`: time spent in system (kernel) functions\n",
    "\n",
    "The last 2 quantities account for the cycles used by your program. The remaining `real` time is often due to waiting for information either from disk or a network connection (I/O).\n",
    "\n",
    "Python also has a `time` module (and function) that is more rudimentary; it simply returns the time, in seconds from the Epoch (1/1/1970)."
   ]
  },
  {
   "cell_type": "code",
   "execution_count": 6,
   "metadata": {},
   "outputs": [
    {
     "data": {
      "text/plain": [
       "1505830610.859128"
      ]
     },
     "execution_count": 6,
     "metadata": {},
     "output_type": "execute_result"
    }
   ],
   "source": [
    "import time\n",
    "time.time()"
   ]
  },
  {
   "cell_type": "markdown",
   "metadata": {},
   "source": [
    "We can use this for profiling by differencing the times before and after running some code of interest:"
   ]
  },
  {
   "cell_type": "code",
   "execution_count": 7,
   "metadata": {},
   "outputs": [
    {
     "data": {
      "text/plain": [
       "0.019472837448120117"
      ]
     },
     "execution_count": 7,
     "metadata": {},
     "output_type": "execute_result"
    }
   ],
   "source": [
    "import numpy as np\n",
    "start_time = time.time()\n",
    "np.product(range(1, 100000))\n",
    "end_time = time.time()\n",
    "\n",
    "end_time - start_time"
   ]
  },
  {
   "cell_type": "markdown",
   "metadata": {},
   "source": [
    "Note, however that it does not provide a breakdown of where the code spends its time.\n",
    "\n",
    "### IPython magic: `%timeit`, `%run` and `%prun`\n",
    "\n",
    "IPython has three built-in \"magic\" functions that are useful for profiling your code. \n",
    "\n",
    "The `%timeit` magic executes a Python statement or expressions in a loop to see how long we expect it to take for any given call. Additionally, it repeats the loop a certain number of times, and returns the best result.\n",
    "\n",
    "As an example, consider a Python implementation of the **trapezoidal rule**, a method from numerical analysis for approximating a definite integral. Specifically, it allows us to approximate:\n",
    "\n",
    "$$\\int_a^b f(x) dx$$\n",
    "\n",
    "using the approximation:\n",
    "\n",
    "$$\\int_a^b f(x) dx \\approx (b-a) \\frac{f(b) + f(a)}{2}$$\n",
    "\n",
    "Rather than use a single interval for this estimate, we break the interval down into $n$ subintervals, to obtain a more accurate approximation."
   ]
  },
  {
   "cell_type": "code",
   "execution_count": 8,
   "metadata": {
    "collapsed": true
   },
   "outputs": [],
   "source": [
    "def f(x):\n",
    "    return 2*x*x + 3*x + 1\n",
    "      \n",
    "def trapez(a, b, n):\n",
    "    h = (b-a)/n \n",
    "    sumy = 0\n",
    "    x = a\n",
    "    for i in range(n):\n",
    "        x += h\n",
    "        sumy += f(x)\n",
    "    sumy += 0.5*(f(a) + f(b))\n",
    "    return sumy*h"
   ]
  },
  {
   "cell_type": "code",
   "execution_count": 9,
   "metadata": {},
   "outputs": [
    {
     "data": {
      "text/plain": [
       "122.6930668799846"
      ]
     },
     "execution_count": 9,
     "metadata": {},
     "output_type": "execute_result"
    }
   ],
   "source": [
    "trapez(1, 5, 10000)"
   ]
  },
  {
   "cell_type": "markdown",
   "metadata": {},
   "source": [
    "To confirm that this works, we can compare this to the symbolic solution, using Sympy:"
   ]
  },
  {
   "cell_type": "code",
   "execution_count": 10,
   "metadata": {},
   "outputs": [
    {
     "data": {
      "text/plain": [
       "122.666666666667"
      ]
     },
     "execution_count": 10,
     "metadata": {},
     "output_type": "execute_result"
    }
   ],
   "source": [
    "import sympy as sym\n",
    "\n",
    "xs = sym.symbols('xs')\n",
    "\n",
    "fx = 2*xs*xs + 3*xs + 1\n",
    "\n",
    "ifx = sym.integrate(fx, (xs, 1, 5))\n",
    "ifx.evalf()"
   ]
  },
  {
   "cell_type": "code",
   "execution_count": 11,
   "metadata": {},
   "outputs": [
    {
     "name": "stdout",
     "output_type": "stream",
     "text": [
      "2.79 ms ± 210 µs per loop (mean ± std. dev. of 7 runs, 100 loops each)\n"
     ]
    }
   ],
   "source": [
    "%timeit trapez(1, 5, 10000)"
   ]
  },
  {
   "cell_type": "markdown",
   "metadata": {},
   "source": [
    "`%timeit` tries to pick suitable values for the number of loops and repeats; these values can be overriden by specifying `-n` and `-r` values, respectively.\n",
    "\n",
    "The `%run` command with a `-p` option allows you to run complete programs under the control of the Python profiler. It writes the output to the help pane, which opens at the bottom of the page."
   ]
  },
  {
   "cell_type": "code",
   "execution_count": 12,
   "metadata": {
    "collapsed": true
   },
   "outputs": [],
   "source": [
    "# This code redirects pager output to a regular cell\n",
    "from IPython.core import page\n",
    "page.page = print"
   ]
  },
  {
   "cell_type": "code",
   "execution_count": 13,
   "metadata": {
    "scrolled": true
   },
   "outputs": [
    {
     "name": "stdout",
     "output_type": "stream",
     "text": [
      "mu       3.516243\n",
      "sigma    1.987408\n",
      "dtype: float64\n",
      "         1053818 function calls (1050488 primitive calls) in 1.373 seconds\n",
      "\n",
      "   Ordered by: internal time\n",
      "\n",
      "   ncalls  tottime  percall  cumtime  percall filename:lineno(function)\n",
      "    28046    0.334    0.000    0.572    0.000 _methods.py:86(_var)\n",
      "    85878    0.192    0.000    0.192    0.000 {method 'reduce' of 'numpy.ufunc' objects}\n",
      "    28047    0.109    0.000    0.109    0.000 {method 'normal' of 'mtrand.RandomState' objects}\n",
      "    28046    0.093    0.000    0.674    0.000 _methods.py:133(_std)\n",
      "    28046    0.079    0.000    0.213    0.000 _methods.py:53(_mean)\n",
      "    56092    0.071    0.000    0.079    0.000 _methods.py:43(_count_reduce_items)\n",
      "        1    0.050    0.050    1.099    1.099 abc.py:4(abc)\n",
      "      178    0.039    0.000    0.039    0.000 {built-in method marshal.loads}\n",
      "    85887    0.029    0.000    0.029    0.000 {built-in method numpy.core.multiarray.array}\n",
      "173566/173425    0.029    0.000    0.031    0.000 {built-in method builtins.isinstance}\n",
      "    85870    0.022    0.000    0.051    0.000 numeric.py:534(asanyarray)\n",
      "    87807    0.019    0.000    0.019    0.000 {built-in method builtins.hasattr}\n",
      "114573/114419    0.018    0.000    0.020    0.000 {built-in method builtins.issubclass}\n",
      "    23/21    0.017    0.001    0.030    0.001 {built-in method _imp.create_dynamic}\n",
      "  632/625    0.017    0.000    0.051    0.000 {built-in method builtins.__build_class__}\n",
      "    14023    0.016    0.000    0.016    0.000 {method 'uniform' of 'mtrand.RandomState' objects}\n",
      "    28046    0.015    0.000    0.689    0.000 {method 'std' of 'numpy.ndarray' objects}\n",
      "    28046    0.014    0.000    0.227    0.000 {method 'mean' of 'numpy.ndarray' objects}\n",
      "    28080    0.012    0.000    0.012    0.000 {built-in method builtins.max}\n",
      "      889    0.011    0.000    0.011    0.000 {method 'sub' of '_sre.SRE_Pattern' objects}\n",
      "      963    0.010    0.000    0.010    0.000 {built-in method posix.stat}\n",
      "      634    0.008    0.000    0.008    0.000 {method 'findall' of '_sre.SRE_Pattern' objects}\n",
      "      178    0.006    0.000    0.008    0.000 <frozen importlib._bootstrap_external>:830(get_data)\n",
      "        1    0.005    0.005    0.005    0.005 {method 'close' of '_io.BufferedRandom' objects}\n",
      "    224/1    0.005    0.000    1.373    1.373 {built-in method builtins.exec}\n",
      "      432    0.004    0.000    0.022    0.000 <frozen importlib._bootstrap_external>:1233(find_spec)\n",
      "    28566    0.004    0.000    0.004    0.000 {built-in method builtins.abs}\n",
      "        3    0.004    0.001    0.004    0.001 {built-in method posix.read}\n",
      "        3    0.004    0.001    0.004    0.001 {built-in method _posixsubprocess.fork_exec}\n",
      "        4    0.003    0.001    0.003    0.001 {method 'read' of '_io.BufferedReader' objects}\n",
      "      310    0.003    0.000    0.033    0.000 <frozen importlib._bootstrap>:861(_find_spec)\n",
      "      178    0.003    0.000    0.003    0.000 {method 'read' of '_io.FileIO' objects}\n",
      "      634    0.003    0.000    0.025    0.000 textwrap.py:414(dedent)\n",
      "      178    0.003    0.000    0.003    0.000 <frozen importlib._bootstrap_external>:430(_validate_bytecode_header)\n",
      "16889/16826    0.002    0.000    0.003    0.000 {built-in method builtins.len}\n",
      "    12148    0.002    0.000    0.002    0.000 {method 'startswith' of 'str' objects}\n",
      "        1    0.002    0.002    0.002    0.002 {method 'get_filename' of 'zipimport.zipimporter' objects}\n",
      "     2276    0.002    0.000    0.006    0.000 <frozen importlib._bootstrap_external>:57(_path_join)\n",
      "        1    0.002    0.002    0.002    0.002 {method 'load_module' of 'zipimport.zipimporter' objects}\n",
      "     3407    0.002    0.000    0.002    0.000 {built-in method builtins.getattr}\n",
      "    371/1    0.002    0.000    0.272    0.272 <frozen importlib._bootstrap>:958(_find_and_load)\n",
      "     2276    0.002    0.000    0.003    0.000 <frozen importlib._bootstrap_external>:59(<listcomp>)\n",
      "    371/1    0.002    0.000    0.272    0.272 <frozen importlib._bootstrap>:931(_find_and_load_unlocked)\n",
      "      664    0.002    0.000    0.002    0.000 <frozen importlib._bootstrap>:77(acquire)\n",
      "        1    0.002    0.002    0.002    0.002 {method 'readlines' of '_io._IOBase' objects}\n",
      "       29    0.002    0.000    0.002    0.000 {built-in method posix.listdir}\n",
      "3404/3400    0.002    0.000    0.002    0.000 {method 'join' of 'str' objects}\n",
      "     1732    0.001    0.000    0.008    0.000 fromnumeric.py:1886(any)\n",
      "      178    0.001    0.000    0.058    0.000 <frozen importlib._bootstrap_external>:743(get_code)\n",
      "      664    0.001    0.000    0.002    0.000 <frozen importlib._bootstrap>:102(release)\n",
      "      356    0.001    0.000    0.003    0.000 <frozen importlib._bootstrap_external>:263(cache_from_source)\n",
      "      664    0.001    0.000    0.002    0.000 <frozen importlib._bootstrap>:159(_get_module_lock)\n",
      "      310    0.001    0.000    0.028    0.000 <frozen importlib._bootstrap_external>:1117(_get_spec)\n",
      "    204/1    0.001    0.000    0.271    0.271 <frozen importlib._bootstrap>:641(_load_unlocked)\n",
      "      201    0.001    0.000    0.005    0.000 <frozen importlib._bootstrap>:493(_init_module_attrs)\n",
      "      601    0.001    0.000    0.025    0.000 _decorators.py:183(__call__)\n",
      "     4915    0.001    0.000    0.001    0.000 {method 'rstrip' of 'str' objects}\n",
      "      430    0.001    0.000    0.004    0.000 copy.py:66(copy)\n",
      "    78/14    0.001    0.000    0.004    0.000 pyparsing.py:3375(parseImpl)\n",
      "        1    0.001    0.001    0.009    0.009 machar.py:116(_do_init)\n",
      "   306/14    0.001    0.000    0.004    0.000 pyparsing.py:1347(_parseNoCache)\n",
      "     1591    0.001    0.000    0.001    0.000 {built-in method builtins.setattr}\n",
      "    67/30    0.001    0.000    0.003    0.000 sre_parse.py:470(_parse)\n",
      "        1    0.001    0.001    0.001    0.001 cpuinfo.py:642(Win32CPUInfo)\n",
      "     2373    0.001    0.000    0.001    0.000 <frozen importlib._bootstrap>:208(_verbose_message)\n",
      "1207/1054    0.001    0.000    0.092    0.000 <frozen importlib._bootstrap>:989(_handle_fromlist)\n",
      "       13    0.001    0.000    0.006    0.000 ops.py:45(_create_methods)\n",
      "      572    0.001    0.000    0.007    0.000 re.py:286(_compile)\n",
      "    119/6    0.001    0.000    0.002    0.000 abc.py:194(__subclasscheck__)\n",
      "      577    0.001    0.000    0.007    0.000 __init__.py:909(__setitem__)\n",
      "     1737    0.001    0.000    0.004    0.000 {method 'any' of 'numpy.ndarray' objects}\n",
      "      236    0.001    0.000    0.001    0.000 pyparsing.py:1121(__init__)\n",
      "      203    0.001    0.000    0.003    0.000 <frozen importlib._bootstrap_external>:524(spec_from_file_location)\n",
      "     1905    0.001    0.000    0.001    0.000 {method 'rpartition' of 'str' objects}\n",
      "      201    0.001    0.000    0.001    0.000 <frozen importlib._bootstrap>:304(__exit__)\n",
      "        3    0.001    0.000    0.010    0.003 subprocess.py:586(__init__)\n",
      "    178/1    0.001    0.000    0.271    0.271 <frozen importlib._bootstrap_external>:672(exec_module)\n",
      "      371    0.001    0.000    0.004    0.000 <frozen importlib._bootstrap>:146(__enter__)\n",
      "      178    0.001    0.000    0.040    0.000 <frozen importlib._bootstrap_external>:485(_compile_bytecode)\n",
      "        9    0.001    0.000    0.001    0.000 moments.py:457(_rolling_func)\n",
      "      293    0.001    0.000    0.002    0.000 <frozen importlib._bootstrap>:178(_lock_unlock_module)\n",
      "      429    0.001    0.000    0.002    0.000 copy.py:268(_reconstruct)\n",
      "        1    0.001    0.001    0.002    0.002 testing.py:1(<module>)\n",
      "      463    0.001    0.000    0.001    0.000 {method 'format' of 'str' objects}\n",
      "   105/25    0.001    0.000    0.001    0.000 sre_compile.py:64(_compile)\n",
      "      178    0.001    0.000    0.001    0.000 {built-in method _imp._fix_co_filename}\n",
      "     1250    0.001    0.000    0.001    0.000 <frozen importlib._bootstrap>:838(__exit__)\n",
      "      664    0.001    0.000    0.001    0.000 {method 'update' of 'dict' objects}\n",
      "       19    0.001    0.000    0.001    0.000 generic.py:6(create_pandas_abc_type)\n",
      "        3    0.001    0.000    0.009    0.003 subprocess.py:1200(_execute_child)\n",
      "      370    0.001    0.000    0.001    0.000 <frozen importlib._bootstrap>:57(__init__)\n",
      "      930    0.000    0.000    0.010    0.000 <frozen importlib._bootstrap_external>:75(_path_stat)\n",
      "      191    0.000    0.000    0.000    0.000 _decorators.py:135(__call__)\n",
      "     1250    0.000    0.000    0.001    0.000 <frozen importlib._bootstrap>:834(__enter__)\n",
      "      429    0.000    0.000    0.001    0.000 {method '__reduce_ex__' of 'object' objects}\n",
      "      744    0.000    0.000    0.000    0.000 {built-in method _thread.allocate_lock}\n",
      "      642    0.000    0.000    0.000    0.000 {built-in method __new__ of type object at 0x10d3f3720}\n",
      "      201    0.000    0.000    0.002    0.000 <frozen importlib._bootstrap_external>:1228(_get_spec)\n",
      "     1737    0.000    0.000    0.003    0.000 _methods.py:37(_any)\n",
      "  201/199    0.000    0.000    0.036    0.000 <frozen importlib._bootstrap>:553(module_from_spec)\n",
      "      201    0.000    0.000    0.002    0.000 <frozen importlib._bootstrap_external>:361(_get_cached)\n",
      "        3    0.000    0.000    0.014    0.005 cpuinfo.py:36(getoutput)\n",
      "      429    0.000    0.000    0.004    0.000 pyparsing.py:1144(copy)\n",
      "       99    0.000    0.000    0.001    0.000 functools.py:44(update_wrapper)\n",
      "      468    0.000    0.000    0.002    0.000 <frozen importlib._bootstrap_external>:1080(_path_importer_cache)\n",
      "      320    0.000    0.000    0.005    0.000 <frozen importlib._bootstrap_external>:85(_path_is_mode_type)\n",
      "     1914    0.000    0.000    0.000    0.000 {built-in method _imp.release_lock}\n",
      "       24    0.000    0.000    0.000    0.000 {built-in method posix.getcwd}\n",
      "        1    0.000    0.000    0.001    0.001 __init__.py:1060(_rc_params_in_file)\n",
      "        3    0.000    0.000    0.004    0.001 subprocess.py:798(communicate)\n",
      "      356    0.000    0.000    0.001    0.000 <frozen importlib._bootstrap_external>:63(_path_split)\n",
      "      326    0.000    0.000    0.000    0.000 <frozen importlib._bootstrap>:355(__init__)\n",
      "       46    0.000    0.000    0.001    0.000 config.py:411(register_option)\n",
      "        3    0.000    0.000    0.007    0.002 __init__.py:905(__init__)\n",
      "      310    0.000    0.000    0.028    0.000 <frozen importlib._bootstrap_external>:1149(find_spec)\n",
      "   160/80    0.000    0.000    0.000    0.000 sre_parse.py:173(getwidth)\n",
      "      371    0.000    0.000    0.001    0.000 <frozen importlib._bootstrap>:153(__exit__)\n",
      "      320    0.000    0.000    0.001    0.000 <frozen importlib._bootstrap>:852(_find_spec_legacy)\n",
      "      379    0.000    0.000    0.003    0.000 <frozen importlib._bootstrap>:389(cached)\n",
      "      489    0.000    0.000    0.000    0.000 sre_parse.py:232(__next)\n",
      "       29    0.000    0.000    0.001    0.000 <frozen importlib._bootstrap_external>:1067(_path_hooks)\n",
      "      322    0.000    0.000    0.000    0.000 {method 'match' of '_sre.SRE_Pattern' objects}\n",
      "      221    0.000    0.000    0.001    0.000 {built-in method builtins.any}\n",
      "     1328    0.000    0.000    0.000    0.000 {built-in method _thread.get_ident}\n",
      "       84    0.000    0.000    0.001    0.000 pyparsing.py:3238(__init__)\n",
      "      392    0.000    0.000    0.000    0.000 sre_parse.py:163(__getitem__)\n",
      "        1    0.000    0.000    0.001    0.001 base.py:99(Index)\n",
      "  254/252    0.000    0.000    0.000    0.000 pyparsing.py:349(__init__)\n",
      "      759    0.000    0.000    0.000    0.000 {method 'split' of 'str' objects}\n",
      "        1    0.000    0.000    0.000    0.000 {built-in method builtins.compile}\n",
      "       22    0.000    0.000    0.003    0.000 traceback.py:313(extract)\n",
      "      178    0.000    0.000    0.000    0.000 <frozen importlib._bootstrap>:35(_new_module)\n",
      "       38    0.000    0.000    0.000    0.000 sre_compile.py:250(_optimize_charset)\n",
      "      601    0.000    0.000    0.000    0.000 _decorators.py:176(__init__)\n",
      "      178    0.000    0.000    0.002    0.000 <frozen importlib._bootstrap_external>:840(path_stats)\n",
      "        1    0.000    0.000    0.002    0.002 test_numexpr.py:12(<module>)\n",
      "      178    0.000    0.000    0.000    0.000 <frozen importlib._bootstrap_external>:393(_check_name_wrapper)\n",
      "      429    0.000    0.000    0.000    0.000 _weakrefset.py:70(__contains__)\n",
      "        8    0.000    0.000    0.000    0.000 {built-in method io.open}\n",
      "      201    0.000    0.000    0.000    0.000 <frozen importlib._bootstrap>:297(__enter__)\n",
      "      291    0.000    0.000    0.005    0.000 <frozen importlib._bootstrap_external>:94(_path_isfile)\n",
      "    52/25    0.000    0.000    0.003    0.000 sre_parse.py:407(_parse_sub)\n",
      "     1786    0.000    0.000    0.000    0.000 {method 'append' of 'list' objects}\n",
      "     1250    0.000    0.000    0.000    0.000 {built-in method _imp.acquire_lock}\n",
      "        1    0.000    0.000    0.001    0.001 strings.py:1365(StringMethods)\n",
      "      356    0.000    0.000    0.000    0.000 <frozen importlib._bootstrap_external>:52(_r_long)\n",
      "     1081    0.000    0.000    0.000    0.000 {method 'get' of 'dict' objects}\n",
      "       29    0.000    0.000    0.002    0.000 <frozen importlib._bootstrap_external>:1281(_fill_cache)\n",
      "    320/1    0.000    0.000    0.271    0.271 <frozen importlib._bootstrap>:197(_call_with_frames_removed)\n",
      "        1    0.000    0.000    0.016    0.016 pyparsing.py:61(<module>)\n",
      "       84    0.000    0.000    0.000    0.000 lazy.py:145(lazy)\n",
      "      371    0.000    0.000    0.000    0.000 <frozen importlib._bootstrap>:142(__init__)\n",
      "       11    0.000    0.000    0.001    0.000 pyparsing.py:2631(__init__)\n",
      "      432    0.000    0.000    0.000    0.000 <frozen importlib._bootstrap_external>:37(_relax_case)\n",
      "   105/54    0.000    0.000    0.135    0.003 {built-in method builtins.__import__}\n",
      "       67    0.000    0.000    0.001    0.000 pyparsing.py:3697(__init__)\n",
      "        1    0.000    0.000    0.000    0.000 _color_data.py:995(<dictcomp>)\n",
      "      126    0.000    0.000    0.000    0.000 expr.py:152(<genexpr>)\n",
      "       68    0.000    0.000    0.002    0.000 ops.py:1171(_arith_method_FRAME)\n",
      "       67    0.000    0.000    0.001    0.000 pyparsing.py:3368(__init__)\n",
      "        1    0.000    0.000    0.006    0.006 frequencies.py:1(<module>)\n",
      "      429    0.000    0.000    0.000    0.000 copyreg.py:87(__newobj__)\n",
      "      243    0.000    0.000    0.005    0.000 re.py:184(sub)\n",
      "      356    0.000    0.000    0.000    0.000 {built-in method from_bytes}\n",
      "      804    0.000    0.000    0.000    0.000 <frozen importlib._bootstrap>:307(<genexpr>)\n",
      "      646    0.000    0.000    0.000    0.000 {built-in method posix.fspath}\n",
      "      233    0.000    0.000    0.000    0.000 <frozen importlib._bootstrap>:402(parent)\n",
      "       25    0.000    0.000    0.006    0.000 sre_compile.py:557(compile)\n",
      "      184    0.000    0.000    0.001    0.000 abc.py:178(__instancecheck__)\n",
      "      370    0.000    0.000    0.000    0.000 ops.py:60(names)\n",
      "        1    0.000    0.000    0.000    0.000 {built-in method numexpr.interpreter._set_num_threads}\n",
      "        1    0.000    0.000    0.004    0.004 expr.py:2(<module>)\n",
      "      310    0.000    0.000    0.000    0.000 {built-in method _imp.is_frozen}\n",
      "        1    0.000    0.000    0.002    0.002 generic.py:97(NDFrame)\n",
      "     34/5    0.000    0.000    0.001    0.000 pyparsing.py:3297(streamline)\n",
      "      270    0.000    0.000    0.001    0.000 re.py:169(match)\n",
      "       38    0.000    0.000    0.000    0.000 {method 'strftime' of 'datetime.date' objects}\n",
      "        1    0.000    0.000    0.002    0.002 expressions.py:11(<module>)\n",
      "        1    0.000    0.000    0.028    0.028 rcsetup.py:15(<module>)\n",
      "        3    0.000    0.000    0.008    0.003 common.py:1(<module>)\n",
      "        9    0.000    0.000    0.000    0.000 {built-in method builtins.dir}\n",
      "        1    0.000    0.000    0.000    0.000 offsets.py:2692(Tick)\n",
      "       29    0.000    0.000    0.000    0.000 <frozen importlib._bootstrap_external>:1196(__init__)\n",
      "        3    0.000    0.000    0.000    0.000 expr.py:216(disallowed)\n",
      "   121/59    0.000    0.000    0.003    0.000 pyparsing.py:3341(copy)\n",
      "        1    0.000    0.000    0.000    0.000 stata.py:702(StataMissingValue)\n",
      "      361    0.000    0.000    0.000    0.000 sre_parse.py:253(get)\n",
      "        5    0.000    0.000    0.004    0.001 __init__.py:359(namedtuple)\n",
      "        1    0.000    0.000    0.002    0.002 common.py:3(<module>)\n",
      "      370    0.000    0.000    0.000    0.000 <frozen importlib._bootstrap>:173(cb)\n",
      "        1    0.000    0.000    0.029    0.029 ops.py:5(<module>)\n",
      "       28    0.000    0.000    0.001    0.000 panel.py:1502(_panel_arith_method)\n",
      "       33    0.000    0.000    0.000    0.000 {method 'split' of '_sre.SRE_Pattern' objects}\n",
      "      178    0.000    0.000    0.000    0.000 <frozen importlib._bootstrap_external>:800(__init__)\n",
      "       31    0.000    0.000    0.000    0.000 version.py:307(parse)\n",
      "        1    0.000    0.000    0.047    0.047 __init__.py:101(<module>)\n",
      "      254    0.000    0.000    0.000    0.000 pyparsing.py:340(__new__)\n",
      "      242    0.000    0.000    0.000    0.000 {method 'endswith' of 'str' objects}\n",
      "        3    0.000    0.000    0.000    0.000 subprocess.py:1403(wait)\n",
      "    58/10    0.000    0.000    0.004    0.000 pyparsing.py:3266(leaveWhitespace)\n",
      "      200    0.000    0.000    0.000    0.000 {method 'extend' of 'list' objects}\n",
      "      310    0.000    0.000    0.000    0.000 <frozen importlib._bootstrap>:771(find_spec)\n",
      "   121/59    0.000    0.000    0.003    0.000 pyparsing.py:3343(<listcomp>)\n",
      "       13    0.000    0.000    0.001    0.000 ops.py:149(add_methods)\n",
      "       25    0.000    0.000    0.003    0.000 sre_parse.py:844(parse)\n",
      "       52    0.000    0.000    0.000    0.000 expressions.py:87(ophelper)\n",
      "        4    0.000    0.000    0.000    0.000 generic.py:214(_setup_axes)\n",
      "       92    0.000    0.000    0.000    0.000 _weakrefset.py:58(__iter__)\n",
      "       40    0.000    0.000    0.001    0.000 ops.py:1033(_flex_method_SERIES)\n",
      "      628    0.000    0.000    0.000    0.000 {method 'lower' of 'str' objects}\n",
      "       25    0.000    0.000    0.001    0.000 sre_compile.py:482(_compile_info)\n",
      "       50    0.000    0.000    0.000    0.000 enum.py:801(__and__)\n",
      "        1    0.000    0.000    0.001    0.001 interval.py:95(IntervalIndex)\n",
      "       28    0.000    0.000    0.001    0.000 pyparsing.py:2757(__init__)\n",
      "        4    0.000    0.000    0.003    0.001 generic.py:6036(_add_numeric_operations)\n",
      "       41    0.000    0.000    0.000    0.000 groupby.py:2745(_whitelist_method_generator)\n",
      "        1    0.000    0.000    0.010    0.010 cpuinfo.py:49(command_info)\n",
      "        1    0.000    0.000    0.038    0.038 base.py:1(<module>)\n",
      "        1    0.000    0.000    0.186    0.186 groupby.py:1(<module>)\n",
      "       29    0.000    0.000    0.000    0.000 <frozen importlib._bootstrap_external>:1310(<setcomp>)\n",
      "        1    0.000    0.000    0.003    0.003 offsets.py:1(<module>)\n",
      "        1    0.000    0.000    0.009    0.009 algorithms.py:4(<module>)\n",
      "        1    0.000    0.000    0.002    0.002 series.py:105(Series)\n",
      "       11    0.000    0.000    0.001    0.000 abc.py:132(__new__)\n",
      "        1    0.000    0.000    0.112    0.112 frame.py:10(<module>)\n",
      "      137    0.000    0.000    0.000    0.000 rcsetup.py:122(validate_bool)\n",
      "       37    0.000    0.000    0.000    0.000 pyparsing.py:2390(__init__)\n",
      "      201    0.000    0.000    0.000    0.000 <frozen importlib._bootstrap>:293(__init__)\n",
      "        1    0.000    0.000    0.000    0.000 dates.py:1498(DateConverter)\n",
      "      106    0.000    0.000    0.000    0.000 __init__.py:23(find_module)\n",
      "        1    0.000    0.000    0.002    0.002 frame.py:213(DataFrame)\n",
      "       61    0.000    0.000    0.000    0.000 pyparsing.py:2804(__str__)\n",
      "       74    0.000    0.000    0.000    0.000 _weakrefset.py:36(__init__)\n",
      "       72    0.000    0.000    0.001    0.000 rcsetup.py:375(validate_color)\n",
      "        1    0.000    0.000    0.004    0.004 parsers.py:3(<module>)\n",
      "      833    0.000    0.000    0.000    0.000 {method 'strip' of 'str' objects}\n",
      "       50    0.000    0.000    0.001    0.000 rcsetup.py:98(<listcomp>)\n",
      "        1    0.000    0.000    0.000    0.000 {built-in method posix.open}\n",
      "        1    0.000    0.000    0.271    0.271 __init__.py:5(<module>)\n",
      "        1    0.000    0.000    0.005    0.005 internals.py:1(<module>)\n",
      "      140    0.000    0.000    0.000    0.000 pyparsing.py:1328(preParse)\n",
      "       44    0.000    0.000    0.000    0.000 pyparsing.py:2791(parseImpl)\n",
      "       14    0.000    0.000    0.000    0.000 colors.py:151(_to_rgba_no_colorcycle)\n",
      "        1    0.000    0.000    0.003    0.003 _core.py:3(<module>)\n",
      "       38    0.000    0.000    0.001    0.000 sre_compile.py:223(_compile_charset)\n",
      "        1    0.000    0.000    0.001    0.001 nanops.py:1(<module>)\n",
      "      337    0.000    0.000    0.000    0.000 ops.py:145(<genexpr>)\n",
      "    24/12    0.000    0.000    0.001    0.000 pyparsing.py:3525(parseImpl)\n",
      "      268    0.000    0.000    0.000    0.000 {built-in method builtins.min}\n",
      "       54    0.000    0.000    0.000    0.000 base.py:194(_create_delegator_property)\n",
      "        1    0.000    0.000    0.003    0.003 datetimelike.py:3(<module>)\n",
      "       23    0.000    0.000    0.003    0.000 pyparsing.py:1016(_trim_arity)\n",
      "       37    0.000    0.000    0.000    0.000 posixpath.py:73(join)\n",
      "      372    0.000    0.000    0.000    0.000 __init__.py:189(bind_method)\n",
      "        1    0.000    0.000    0.000    0.000 colors.py:89(<dictcomp>)\n",
      "        1    0.000    0.000    0.000    0.000 colors.py:898(LogNorm)\n",
      "        1    0.000    0.000    0.016    0.016 dates.py:110(<module>)\n",
      "        1    0.000    0.000    0.000    0.000 rrule.py:7(<module>)\n",
      "        3    0.000    0.000    0.000    0.000 os.py:607(get_exec_path)\n",
      "      214    0.000    0.000    0.000    0.000 six.py:184(find_module)\n",
      "       33    0.000    0.000    0.001    0.000 generic.py:6327(_make_stat_function)\n",
      "        1    0.000    0.000    0.083    0.083 series.py:3(<module>)\n",
      "       99    0.000    0.000    0.000    0.000 functools.py:74(wraps)\n",
      "       25    0.000    0.000    0.000    0.000 sre_parse.py:76(__init__)\n",
      "      213    0.000    0.000    0.000    0.000 sre_parse.py:171(append)\n",
      "        1    0.000    0.000    0.027    0.027 __init__.py:22(<module>)\n",
      "        1    0.000    0.000    0.005    0.005 config_init.py:11(<module>)\n",
      "        7    0.000    0.000    0.027    0.004 api.py:3(<module>)\n",
      "        1    0.000    0.000    0.005    0.005 cpuinfo.py:72(key_value_from_command)\n",
      "      128    0.000    0.000    0.001    0.000 colors.py:107(_is_nth_color)\n",
      "        1    0.000    0.000    0.066    0.066 _converter.py:1(<module>)\n",
      "        1    0.000    0.000    0.006    0.006 pyparsing.py:5377(pyparsing_common)\n",
      "      310    0.000    0.000    0.000    0.000 <frozen importlib._bootstrap>:698(find_spec)\n",
      "      100    0.000    0.000    0.000    0.000 enum.py:515(__new__)\n",
      "        3    0.000    0.000    0.000    0.000 {pandas._libs.lib.maybe_convert_objects}\n",
      "        9    0.000    0.000    0.000    0.000 base.py:178(_add_delegate_accessors)\n",
      "       12    0.000    0.000    0.000    0.000 ops.py:1249(_flex_comp_method_FRAME)\n",
      "        1    0.000    0.000    0.001    0.001 multi.py:51(MultiIndex)\n",
      "        1    0.000    0.000    0.001    0.001 datetimes.py:2(<module>)\n",
      "       21    0.000    0.000    0.003    0.000 pyparsing.py:1227(setParseAction)\n",
      "      258    0.000    0.000    0.000    0.000 sre_parse.py:248(match)\n",
      "       24    0.000    0.000    0.000    0.000 getlimits.py:507(__init__)\n",
      "       66    0.000    0.000    0.001    0.000 pyparsing.py:1799(__add__)\n",
      "      139    0.000    0.000    0.000    0.000 sre_parse.py:285(tell)\n",
      "    49/13    0.000    0.000    0.001    0.000 typing.py:1166(__subclasscheck__)\n",
      "        4    0.000    0.000    0.000    0.000 base.py:3847(_add_numeric_methods_binary)\n",
      "       29    0.000    0.000    0.001    0.000 <frozen importlib._bootstrap_external>:1322(path_hook_for_FileFinder)\n",
      "        3    0.000    0.000    0.000    0.000 {method 'close' of '_io.BufferedReader' objects}\n",
      "      100    0.000    0.000    0.000    0.000 enum.py:265(__call__)\n",
      "        1    0.000    0.000    0.002    0.002 array.py:3(<module>)\n",
      "      229    0.000    0.000    0.000    0.000 {method 'replace' of 'str' objects}\n",
      "       20    0.000    0.000    0.000    0.000 os.py:664(__getitem__)\n",
      "        4    0.000    0.000    0.000    0.000 datetimes.py:215(_join_i8_wrapper)\n",
      "        1    0.000    0.000    0.013    0.013 timedeltas.py:1(<module>)\n",
      "    23/21    0.000    0.000    0.030    0.001 <frozen importlib._bootstrap_external>:919(create_module)\n",
      "       15    0.000    0.000    0.000    0.000 {method 'setter' of 'property' objects}\n",
      "        1    0.000    0.000    0.001    0.001 strings.py:1(<module>)\n",
      "        1    0.000    0.000    0.015    0.015 generic.py:2(<module>)\n",
      "        9    0.000    0.000    0.000    0.000 {built-in method posix.close}\n",
      "       22    0.000    0.000    0.003    0.000 traceback.py:196(extract_stack)\n",
      "        1    0.000    0.000    0.000    0.000 version.py:198(__init__)\n",
      "        1    0.000    0.000    0.001    0.001 cbook.py:7(<module>)\n",
      "        1    0.000    0.000    0.002    0.002 pytables.py:4(<module>)\n",
      "        1    0.000    0.000    0.000    0.000 _color_data.py:1(<module>)\n",
      "        1    0.000    0.000    0.000    0.000 categorical.py:170(Categorical)\n",
      "        1    0.000    0.000    0.004    0.004 format.py:5(<module>)\n",
      "       11    0.000    0.000    0.000    0.000 cbook.py:188(deprecate)\n",
      "       66    0.000    0.000    0.002    0.000 traceback.py:279(line)\n",
      "        1    0.000    0.000    0.001    0.001 groupby.py:950(GroupBy)\n",
      "      124    0.000    0.000    0.000    0.000 pyparsing.py:2131(__str__)\n",
      "        1    0.000    0.000    0.000    0.000 transforms.py:1803(Affine2D)\n",
      "       44    0.000    0.000    0.000    0.000 re.py:249(escape)\n",
      "      136    0.000    0.000    0.000    0.000 {method 'find' of 'bytearray' objects}\n",
      "        1    0.000    0.000    0.001    0.001 multi.py:3(<module>)\n",
      "       22    0.000    0.000    0.003    0.000 pyparsing.py:1024(extract_stack)\n",
      "        1    0.000    0.000    0.000    0.000 sorting.py:1(<module>)\n",
      "        1    0.000    0.000    0.000    0.000 timedeltas.py:83(TimedeltaIndex)\n",
      "        1    0.000    0.000    0.000    0.000 __init__.py:1200(<listcomp>)\n",
      "       50    0.000    0.000    0.002    0.000 rcsetup.py:77(f)\n",
      "       70    0.000    0.000    0.001    0.000 colors.py:113(is_color_like)\n",
      "       85    0.000    0.000    0.000    0.000 pyparsing.py:2346(__init__)\n",
      "       72    0.000    0.000    0.000    0.000 _weakrefset.py:26(__exit__)\n",
      "      109    0.000    0.000    0.000    0.000 sre_parse.py:111(__init__)\n",
      "       11    0.000    0.000    0.000    0.000 sre_compile.py:378(<listcomp>)\n",
      "        1    0.000    0.000    0.000    0.000 __init__.py:1157(<listcomp>)\n",
      "       25    0.000    0.000    0.000    0.000 {built-in method _sre.compile}\n",
      "       66    0.000    0.000    0.002    0.000 linecache.py:15(getline)\n",
      "       55    0.000    0.000    0.005    0.000 cpuinfo.py:59(command_by_line)\n",
      "       16    0.000    0.000    0.000    0.000 generic.py:6367(_make_cum_function)\n",
      "        1    0.000    0.000    1.373    1.373 interactiveshell.py:2417(safe_execfile)\n",
      "        1    0.000    0.000    0.000    0.000 groupby.py:3333(NDFrameGroupBy)\n",
      "        1    0.000    0.000    0.001    0.001 necompiler.py:11(<module>)\n",
      "        1    0.000    0.000    0.000    0.000 datetimes.py:164(DatetimeIndex)\n",
      "       75    0.000    0.000    0.000    0.000 _weakrefset.py:81(add)\n",
      "       25    0.000    0.000    0.002    0.000 sre_compile.py:542(_code)\n",
      "       26    0.000    0.000    0.000    0.000 sre_parse.py:223(__init__)\n",
      "        4    0.000    0.000    0.000    0.000 warnings.py:449(__enter__)\n",
      "        1    0.000    0.000    0.015    0.015 cpuinfo.py:461(__init__)\n",
      "        1    0.000    0.000    0.000    0.000 expressions.py:7(<module>)\n",
      "       26    0.000    0.000    0.001    0.000 pyparsing.py:3981(parseImpl)\n",
      "       14    0.000    0.000    0.000    0.000 {method 'find_loader' of 'zipimport.zipimporter' objects}\n",
      "        5    0.000    0.000    0.000    0.000 base.py:3761(_add_numeric_methods_disabled)\n",
      "       86    0.000    0.000    0.000    0.000 pyparsing.py:3417(<genexpr>)\n",
      "       24    0.000    0.000    0.001    0.000 pyparsing.py:3917(parseImpl)\n",
      "        1    0.000    0.000    0.000    0.000 html.py:148(_HtmlFrameParser)\n",
      "    32/16    0.000    0.000    0.000    0.000 typing.py:1191(__setattr__)\n",
      "        1    0.000    0.000    0.003    0.003 __init__.py:9(<module>)\n",
      "       46    0.000    0.000    0.001    0.000 config.py:720(inner)\n",
      "      191    0.000    0.000    0.000    0.000 _decorators.py:129(__init__)\n",
      "        1    0.000    0.000    0.002    0.002 period.py:2(<module>)\n",
      "        1    0.000    0.000    0.001    0.001 window.py:1057(Rolling)\n",
      "      150    0.000    0.000    0.000    0.000 sre_parse.py:159(__len__)\n",
      "       45    0.000    0.000    0.000    0.000 pyparsing.py:1167(setName)\n",
      "      138    0.000    0.000    0.000    0.000 pyparsing.py:2039(setWhitespaceChars)\n",
      "       35    0.000    0.000    0.000    0.000 {built-in method _codecs.utf_8_decode}\n",
      "        3    0.000    0.000    0.000    0.000 iostream.py:180(schedule)\n",
      "       58    0.000    0.000    0.001    0.000 colors.py:128(to_rgba)\n",
      "      232    0.000    0.000    0.000    0.000 <frozen importlib._bootstrap_external>:1202(<genexpr>)\n",
      "        1    0.000    0.000    0.215    0.215 api.py:5(<module>)\n",
      "        1    0.000    0.000    0.000    0.000 utils.py:11(<module>)\n",
      "       27    0.000    0.000    0.000    0.000 offsets.py:51(apply_wraps)\n",
      "       76    0.000    0.000    0.000    0.000 pyparsing.py:186(__init__)\n",
      "        1    0.000    0.000    0.000    0.000 {method 'splitlines' of 'str' objects}\n",
      "      152    0.000    0.000    0.000    0.000 {built-in method builtins.all}\n",
      "        1    0.000    0.000    0.001    0.001 window.py:1321(Expanding)\n",
      "      168    0.000    0.000    0.000    0.000 pyparsing.py:3248(<genexpr>)\n",
      "        1    0.000    0.000    0.003    0.003 packers.py:39(<module>)\n",
      "        1    0.000    0.000    0.001    0.001 category.py:30(CategoricalIndex)\n",
      "        1    0.000    0.000    0.001    0.001 category.py:1(<module>)\n",
      "        1    0.000    0.000    0.001    0.001 moments.py:4(<module>)\n",
      "       72    0.000    0.000    0.000    0.000 _weakrefset.py:20(__enter__)\n",
      "        1    0.000    0.000    0.001    0.001 __init__.py:26(<module>)\n",
      "        1    0.000    0.000    0.000    0.000 __init__.py:885(RcParams)\n",
      "        2    0.000    0.000    0.000    0.000 textwrap.py:233(_wrap_chunks)\n",
      "       75    0.000    0.000    0.000    0.000 __init__.py:255(set_function_name)\n",
      "       18    0.000    0.000    0.000    0.000 _decorators.py:64(_deprecate_kwarg)\n",
      "       24    0.000    0.000    0.000    0.000 rcsetup.py:55(__init__)\n",
      "       20    0.000    0.000    0.000    0.000 pyparsing.py:2685(parseImpl)\n",
      "        1    0.000    0.000    0.000    0.000 offsets.py:2837(Nano)\n",
      "        1    0.000    0.000    0.004    0.004 window.py:7(<module>)\n",
      "      287    0.000    0.000    0.000    0.000 __init__.py:894(<genexpr>)\n",
      "       28    0.000    0.000    0.000    0.000 pyparsing.py:2720(__str__)\n",
      "       58    0.000    0.000    0.003    0.000 pyparsing.py:3270(<listcomp>)\n",
      "        1    0.000    0.000    0.001    0.001 resample.py:1(<module>)\n",
      "        8    0.000    0.000    0.000    0.000 posixpath.py:152(dirname)\n",
      "       21    0.000    0.000    0.000    0.000 sre_compile.py:441(_get_charset_prefix)\n",
      "        2    0.000    0.000    0.000    0.000 lazy.py:135(__new__)\n",
      "       19    0.000    0.000    0.004    0.000 __init__.py:1(<module>)\n",
      "        1    0.000    0.000    0.005    0.005 __init__.py:1137(rc_params_from_file)\n",
      "      201    0.000    0.000    0.000    0.000 <frozen importlib._bootstrap>:410(has_location)\n",
      "    35/23    0.000    0.000    0.000    0.000 sre_compile.py:414(_get_literal_prefix)\n",
      "       48    0.000    0.000    0.000    0.000 pyparsing.py:1046(wrapper)\n",
      "       26    0.000    0.000    0.002    0.000 pyparsing.py:3837(parseImpl)\n",
      "        1    0.000    0.000    0.002    0.002 colors.py:57(<module>)\n",
      "        1    0.000    0.000    0.006    0.006 reshape.py:3(<module>)\n",
      "      236    0.000    0.000    0.000    0.000 {built-in method builtins.chr}\n",
      "       66    0.000    0.000    0.000    0.000 linecache.py:147(lazycache)\n",
      "       22    0.000    0.000    0.000    0.000 compilerop.py:136(check_linecache_ipython)\n",
      "       54    0.000    0.000    0.000    0.000 rcsetup.py:67(__call__)\n",
      "      137    0.000    0.000    0.000    0.000 expr.py:145(<lambda>)\n",
      "      178    0.000    0.000    0.000    0.000 <frozen importlib._bootstrap_external>:825(get_filename)\n",
      "       66    0.000    0.000    0.002    0.000 linecache.py:37(getlines)\n",
      "        1    0.000    0.000    0.001    0.001 interval.py:1(<module>)\n",
      "        1    0.000    0.000    0.000    0.000 period.py:125(PeriodIndex)\n",
      "     39/1    0.000    0.000    0.000    0.000 copy.py:132(deepcopy)\n",
      "        7    0.000    0.000    0.000    0.000 nanops.py:81(__call__)\n",
      "       26    0.000    0.000    0.000    0.000 pyparsing.py:1545(resetCache)\n",
      "        1    0.000    0.000    0.011    0.011 transforms.py:30(<module>)\n",
      "       33    0.000    0.000    0.000    0.000 os.py:792(fsencode)\n",
      "       13    0.000    0.000    0.000    0.000 contextlib.py:129(contextmanager)\n",
      "       22    0.000    0.000    0.000    0.000 linecache.py:53(checkcache)\n",
      "        1    0.000    0.000    0.006    0.006 cast.py:1(<module>)\n",
      "        1    0.000    0.000    0.000    0.000 function.py:19(<module>)\n",
      "        1    0.000    0.000    0.063    0.063 api.py:1(<module>)\n",
      "        2    0.000    0.000    0.000    0.000 base.py:152(__new__)\n",
      "       14    0.000    0.000    0.004    0.000 pyparsing.py:1586(parseString)\n",
      "        1    0.000    0.000    0.001    0.001 pyparsing.py:4853(_makeTags)\n",
      "        1    0.000    0.000    0.000    0.000 colors.py:73(__init__)\n",
      "        1    0.000    0.000    0.013    0.013 ticker.py:167(<module>)\n",
      "        1    0.000    0.000    0.001    0.001 panel.py:108(Panel)\n",
      "        1    0.000    0.000    0.003    0.003 panel.py:3(<module>)\n",
      "        1    0.000    0.000    0.001    0.001 excel.py:3(<module>)\n",
      "        4    0.000    0.000    0.083    0.021 __init__.py:3(<module>)\n",
      "       20    0.000    0.000    0.000    0.000 os.py:740(encode)\n",
      "       11    0.000    0.000    0.000    0.000 sre_compile.py:376(_mk_bitmap)\n",
      "        1    0.000    0.000    0.000    0.000 test_numexpr.py:750(test_strings)\n",
      "        1    0.000    0.000    0.000    0.000 timedeltas.py:3(<module>)\n",
      "       12    0.000    0.000    0.000    0.000 generic.py:6347(_make_stat_function_ddof)\n",
      "        1    0.000    0.000    0.001    0.001 stata.py:11(<module>)\n",
      "        2    0.000    0.000    0.000    0.000 missing.py:3(<module>)\n",
      "       23    0.000    0.000    0.000    0.000 <frozen importlib._bootstrap_external>:927(exec_module)\n",
      "       25    0.000    0.000    0.000    0.000 sre_parse.py:84(opengroup)\n",
      "       33    0.000    0.000    0.000    0.000 subprocess.py:1256(<genexpr>)\n",
      "        1    0.000    0.000    0.007    0.007 categorical.py:3(<module>)\n",
      "        1    0.000    0.000    0.000    0.000 datetimes.py:1(<module>)\n",
      "        1    0.000    0.000    0.000    0.000 path.py:31(Path)\n",
      "       34    0.000    0.000    0.000    0.000 base.py:208(_create_delegator_method)\n",
      "        1    0.000    0.000    0.000    0.000 base.py:781(IndexOpsMixin)\n",
      "      102    0.000    0.000    0.000    0.000 pyparsing.py:2137(streamline)\n",
      "        6    0.000    0.000    0.000    0.000 {built-in method posix.pipe}\n",
      "       56    0.000    0.000    0.000    0.000 pyparsing.py:2409(parseImpl)\n",
      "    33/10    0.000    0.000    0.004    0.000 pyparsing.py:3721(leaveWhitespace)\n",
      "       14    0.000    0.000    0.002    0.000 <frozen importlib._bootstrap_external>:1102(_legacy_get_spec)\n",
      "      251    0.000    0.000    0.000    0.000 {method 'add' of 'set' objects}\n",
      "       59    0.000    0.000    0.006    0.000 re.py:231(compile)\n",
      "       28    0.000    0.000    0.000    0.000 sre_parse.py:342(_escape)\n",
      "        1    0.000    0.000    0.000    0.000 {pandas._libs.lib.clean_index_list}\n",
      "        1    0.000    0.000    0.005    0.005 base.py:3(<module>)\n",
      "        7    0.000    0.000    0.003    0.000 ops.py:170(add_special_arithmetic_methods)\n",
      "        1    0.000    0.000    0.027    0.027 __init__.py:2(<module>)\n",
      "        1    0.000    0.000    0.000    0.000 test_numexpr.py:299(test_evaluate)\n",
      "        2    0.000    0.000    0.001    0.000 numeric.py:1(<module>)\n",
      "      178    0.000    0.000    0.000    0.000 <frozen importlib._bootstrap_external>:669(create_module)\n",
      "      100    0.000    0.000    0.000    0.000 sre_parse.py:81(groups)\n",
      "        1    0.000    0.000    0.001    0.001 groupby.py:2806(SeriesGroupBy)\n",
      "        2    0.000    0.000    0.001    0.000 rcsetup.py:805(validate_cycler)\n",
      "        1    0.000    0.000    0.002    0.002 fontconfig_pattern.py:71(__init__)\n",
      "        1    0.000    0.000    0.001    0.001 series.py:88(SparseSeries)\n",
      "        1    0.000    0.000    0.000    0.000 merge.py:3(<module>)\n",
      "      115    0.000    0.000    0.000    0.000 {method 'items' of 'dict' objects}\n",
      "       30    0.000    0.000    0.000    0.000 sre_compile.py:388(_simple)\n",
      "       19    0.000    0.000    0.000    0.000 sre_parse.py:294(_class_escape)\n",
      "       88    0.000    0.000    0.000    0.000 traceback.py:286(walk_stack)\n",
      "       16    0.000    0.000    0.000    0.000 config.py:78(_get_single_key)\n",
      "       15    0.000    0.000    0.000    0.000 printing.py:157(pprint_thing)\n",
      "        1    0.000    0.000    0.000    0.000 internals.py:74(Block)\n",
      "       24    0.000    0.000    0.000    0.000 rcsetup.py:65(<listcomp>)\n",
      "     23/7    0.000    0.000    0.000    0.000 pyparsing.py:3740(streamline)\n",
      "        1    0.000    0.000    0.002    0.002 series.py:4(<module>)\n",
      "       51    0.000    0.000    0.000    0.000 {method 'encode' of 'str' objects}\n",
      "       72    0.000    0.000    0.000    0.000 _weakrefset.py:52(_commit_removals)\n",
      "        8    0.000    0.000    0.000    0.000 base.py:3956(_make_logical_function)\n",
      "        8    0.000    0.000    0.000    0.000 generic.py:6402(_make_logical_function)\n",
      "       84    0.000    0.000    0.000    0.000 rcsetup.py:156(validate_float)\n",
      "    34/26    0.000    0.000    0.000    0.000 pyparsing.py:3412(__str__)\n",
      "       17    0.000    0.000    0.000    0.000 pyparsing.py:3518(__init__)\n",
      "        1    0.000    0.000    0.001    0.001 panelnd.py:8(create_nd_panel_factory)\n",
      "       18    0.000    0.000    0.000    0.000 re.py:324(_subx)\n",
      "        2    0.000    0.000    0.000    0.000 lazy.py:80(__new__)\n",
      "        1    0.000    0.000    0.016    0.016 cpuinfo.py:24(<module>)\n",
      "        1    0.000    0.000    0.000    0.000 offsets.py:2807(Day)\n",
      "      158    0.000    0.000    0.000    0.000 pyparsing.py:3370(<genexpr>)\n",
      "       25    0.000    0.000    0.000    0.000 pyparsing.py:3975(__init__)\n",
      "       33    0.000    0.000    0.000    0.000 {built-in method builtins.repr}\n",
      "        2    0.000    0.000    0.000    0.000 iostream.py:342(write)\n",
      "       11    0.000    0.000    0.000    0.000 nanops.py:44(__init__)\n",
      "       19    0.000    0.000    0.000    0.000 expressions.py:176(binop)\n",
      "       12    0.000    0.000    0.003    0.000 fontconfig_pattern.py:119(parse)\n",
      "      138    0.000    0.000    0.000    0.000 expr.py:147(<genexpr>)\n",
      "        1    0.000    0.000    0.002    0.002 linecache.py:82(updatecache)\n",
      "        1    0.000    0.000    0.000    0.000 array.py:162(SparseArray)\n",
      "       66    0.000    0.000    0.000    0.000 traceback.py:239(__init__)\n",
      "       52    0.000    0.000    0.000    0.000 pyparsing.py:388(__getitem__)\n",
      "      281    0.000    0.000    0.000    0.000 pyparsing.py:2634(<genexpr>)\n",
      "      115    0.000    0.000    0.000    0.000 expr.py:157(<lambda>)\n",
      "        1    0.000    0.000    0.001    0.001 ops.py:2(<module>)\n",
      "      134    0.000    0.000    0.000    0.000 {method '__contains__' of 'frozenset' objects}\n",
      "       14    0.000    0.000    0.000    0.000 expr.py:150(_filter_nodes)\n",
      "       23    0.000    0.000    0.000    0.000 <frozen importlib._bootstrap_external>:908(__init__)\n",
      "        1    0.000    0.000    0.000    0.000 {built-in method posix.unlink}\n",
      "       49    0.000    0.000    0.000    0.000 posixpath.py:39(_get_sep)\n",
      "        8    0.000    0.000    0.001    0.000 typing.py:898(__extrahook__)\n",
      "        1    0.000    0.000    0.000    0.000 {pandas._libs.lib.to_object_array}\n",
      "        1    0.000    0.000    0.003    0.003 config.py:49(<module>)\n",
      "        1    0.000    0.000    0.000    0.000 datetimelike.py:125(DatetimeIndexOpsMixin)\n",
      "        1    0.000    0.000    0.000    0.000 format.py:1887(get_result_as_array)\n",
      "       54    0.000    0.000    0.000    0.000 pyparsing.py:483(haskeys)\n",
      "        1    0.000    0.000    0.001    0.001 _misc.py:3(<module>)\n",
      "        1    0.000    0.000    0.002    0.002 frame.py:4(<module>)\n",
      "      106    0.000    0.000    0.000    0.000 {method 'partition' of 'str' objects}\n",
      "       65    0.000    0.000    0.000    0.000 {built-in method builtins.iter}\n",
      "       35    0.000    0.000    0.000    0.000 codecs.py:318(decode)\n",
      "        1    0.000    0.000    0.000    0.000 window.py:1570(EWM)\n",
      "        1    0.000    0.000    0.000    0.000 resample.py:33(Resampler)\n",
      "       22    0.000    0.000    0.000    0.000 {built-in method _imp.is_builtin}\n",
      "       19    0.000    0.000    0.000    0.000 version.py:331(_cmp)\n",
      "      252    0.000    0.000    0.000    0.000 ops.py:66(<lambda>)\n",
      "        1    0.000    0.000    0.000    0.000 offsets.py:2812(Hour)\n",
      "        2    0.000    0.000    0.006    0.003 generic.py:6180(_add_series_or_dataframe_operations)\n",
      "        1    0.000    0.000    0.000    0.000 internals.py:2724(BlockManager)\n",
      "        2    0.000    0.000    0.000    0.000 series.py:139(__init__)\n",
      "       29    0.000    0.000    0.000    0.000 <frozen importlib._bootstrap_external>:99(_path_isdir)\n",
      "       15    0.000    0.000    0.000    0.000 printing.py:186(as_escaped_unicode)\n",
      "        2    0.000    0.000    0.000    0.000 concat.py:3(<module>)\n",
      "        5    0.000    0.000    0.000    0.000 base.py:3914(_add_numeric_methods_unary)\n",
      "        1    0.000    0.000    0.000    0.000 indexing.py:3(<module>)\n",
      "        1    0.000    0.000    0.001    0.001 csv.py:4(<module>)\n",
      "        2    0.000    0.000    0.000    0.000 __init__.py:1042(_open_file_or_url)\n",
      "       16    0.000    0.000    0.000    0.000 pyparsing.py:640(__iadd__)\n",
      "       11    0.000    0.000    0.000    0.000 pyparsing.py:4543(_escapeRegexRangeChars)\n",
      "       72    0.000    0.000    0.000    0.000 _weakrefset.py:16(__init__)\n",
      "      112    0.000    0.000    0.000    0.000 {built-in method _struct.unpack}\n",
      "        1    0.000    0.000    1.373    1.373 py3compat.py:182(execfile)\n",
      "       37    0.000    0.000    0.000    0.000 typing.py:1040(_abc_negative_cache)\n",
      "       25    0.000    0.000    0.000    0.000 typing.py:1054(_abc_negative_cache_version)\n",
      "        1    0.000    0.000    0.000    0.000 version.py:343(_cmpkey)\n",
      "       31    0.000    0.000    0.000    0.000 version.py:302(__init__)\n",
      "       31    0.000    0.000    0.000    0.000 version.py:312(<listcomp>)\n",
      "       18    0.000    0.000    0.000    0.000 ops.py:1352(_comp_method_PANEL)\n",
      "        1    0.000    0.000    0.000    0.000 range.py:1(<module>)\n",
      "        1    0.000    0.000    0.000    0.000 accessors.py:3(<module>)\n",
      "        2    0.000    0.000    0.000    0.000 cycler.py:349(by_key)\n",
      "       14    0.000    0.000    0.000    0.000 copyreg.py:96(_slotnames)\n",
      "        6    0.000    0.000    0.000    0.000 six.py:91(__get__)\n",
      "       28    0.000    0.000    0.000    0.000 dtypes.py:84(is_dtype)\n",
      "        1    0.000    0.000    0.001    0.001 generic.py:1(<module>)\n",
      "       27    0.000    0.000    0.000    0.000 pyparsing.py:4208(__init__)\n",
      "       12    0.000    0.000    0.000    0.000 pyparsing.py:4735(<lambda>)\n",
      "        1    0.000    0.000    0.000    0.000 pytables.py:1(<module>)\n",
      "       25    0.000    0.000    0.000    0.000 sre_parse.py:828(fix_flags)\n",
      "        1    0.000    0.000    0.000    0.000 tokenize.py:448(open)\n",
      "        1    0.000    0.000    0.001    0.001 groupby.py:3965(DataFrameGroupBy)\n",
      "       54    0.000    0.000    0.000    0.000 cpuinfo.py:77(<listcomp>)\n",
      "       26    0.000    0.000    0.000    0.000 array.py:45(_arith_method)\n",
      "      140    0.000    0.000    0.000    0.000 rcsetup.py:60(func)\n",
      "       53    0.000    0.000    0.000    0.000 pyparsing.py:3559(<genexpr>)\n",
      "     20/6    0.000    0.000    0.001    0.000 pyparsing.py:3715(parseImpl)\n",
      "        1    0.000    0.000    0.000    0.000 html.py:4(<module>)\n",
      "       80    0.000    0.000    0.000    0.000 {method '__subclasses__' of 'type' objects}\n",
      "       50    0.000    0.000    0.000    0.000 sre_compile.py:539(isstring)\n",
      "        1    0.000    0.000    1.372    1.372 abc.py:1(<module>)\n",
      "        1    0.000    0.000    0.000    0.000 groupby.py:359(_GroupBy)\n",
      "        1    0.000    0.000    0.000    0.000 offsets.py:2827(Milli)\n",
      "        1    0.000    0.000    0.000    0.000 offsets.py:2832(Micro)\n",
      "       11    0.000    0.000    0.000    0.000 cbook.py:52(_generate_deprecation_message)\n",
      "        8    0.000    0.000    0.000    0.000 rcsetup.py:886(validate_animation_writer_path)\n",
      "       10    0.000    0.000    0.005    0.000 pyparsing.py:4229(__init__)\n",
      "        1    0.000    0.000    0.000    0.000 _style.py:3(<module>)\n",
      "      159    0.000    0.000    0.000    0.000 expr.py:197(_node_not_implemented)\n",
      "       15    0.000    0.000    0.000    0.000 {method 'copy' of 'dict' objects}\n",
      "        9    0.000    0.000    0.000    0.000 contextlib.py:59(__init__)\n",
      "        1    0.000    0.000    0.000    0.000 numeric.py:660(require)\n",
      "        6    0.000    0.000    0.000    0.000 numeric.py:2667(seterr)\n",
      "       16    0.000    0.000    0.000    0.000 getlimits.py:532(max)\n",
      "        1    0.000    0.000    0.000    0.000 base.py:264(SelectionMixin)\n",
      "        3    0.000    0.000    0.000    0.000 internals.py:222(mgr_locs)\n",
      "       12    0.000    0.000    0.000    0.000 fontconfig_pattern.py:138(_family)\n",
      "       17    0.000    0.000    0.000    0.000 pyparsing.py:1926(__or__)\n",
      "       11    0.000    0.000    0.000    0.000 abc.py:135(<setcomp>)\n",
      "      5/1    0.000    0.000    0.000    0.000 copy.py:236(_deepcopy_dict)\n",
      "       62    0.000    0.000    0.000    0.000 lazy.py:92(lazy)\n",
      "       15    0.000    0.000    0.000    0.000 config.py:546(_get_root)\n",
      "       34    0.000    0.000    0.000    0.000 common.py:1722(_get_dtype_type)\n",
      "       28    0.000    0.000    0.000    0.000 nanops.py:46(<genexpr>)\n",
      "        6    0.000    0.000    0.000    0.000 groupby.py:1136(groupby_function)\n",
      "      151    0.000    0.000    0.000    0.000 ops.py:55(<lambda>)\n",
      "        1    0.000    0.000    0.000    0.000 offsets.py:2817(Minute)\n",
      "        1    0.000    0.000    0.000    0.000 offsets.py:2822(Second)\n",
      "        1    0.000    0.000    0.000    0.000 internals.py:4317(form_blocks)\n",
      "        1    0.000    0.000    0.006    0.006 __init__.py:781(matplotlib_fname)\n",
      "       20    0.000    0.000    0.000    0.000 rcsetup.py:359(validate_color_for_prop_cycle)\n",
      "       95    0.000    0.000    0.000    0.000 pyparsing.py:180(<genexpr>)\n",
      "       25    0.000    0.000    0.000    0.000 sre_parse.py:96(closegroup)\n",
      "        2    0.000    0.000    0.000    0.000 weakref.py:102(__init__)\n",
      "        4    0.000    0.000    0.000    0.000 warnings.py:428(__init__)\n",
      "        9    0.000    0.000    0.000    0.000 contextlib.py:157(helper)\n",
      "        3    0.000    0.000    0.000    0.000 function_base.py:2674(__init__)\n",
      "        7    0.000    0.000    0.000    0.000 offsets.py:197(_determine_offset)\n",
      "        1    0.000    0.000    0.000    0.000 format.py:1902(format_values_with)\n",
      "       74    0.000    0.000    0.000    0.000 pyparsing.py:2030(leaveWhitespace)\n",
      "        1    0.000    0.000    0.000    0.000 pyparsing.py:1080(ParserElement)\n",
      "        1    0.000    0.000    0.000    0.000 transforms.py:249(BboxBase)\n",
      "        1    0.000    0.000    0.000    0.000 expr.py:252(f)\n",
      "        1    0.000    0.000    0.001    0.001 json.py:2(<module>)\n",
      "       11    0.000    0.000    0.000    0.000 {method 'decode' of 'bytes' objects}\n",
      "        4    0.000    0.000    0.000    0.000 posixpath.py:230(expanduser)\n",
      "       40    0.000    0.000    0.000    0.000 typing.py:1110(__eq__)\n",
      "       46    0.000    0.000    0.000    0.000 <string>:12(__new__)\n",
      "        5    0.000    0.000    0.000    0.000 machar.py:100(<lambda>)\n",
      "        1    0.000    0.000    0.001    0.001 lazy.py:1(<module>)\n",
      "       17    0.000    0.000    0.000    0.000 __init__.py:177(iteritems)\n",
      "       15    0.000    0.000    0.000    0.000 config.py:96(_get_option)\n",
      "       31    0.000    0.000    0.000    0.000 config.py:561(_get_deprecated_option)\n",
      "       15    0.000    0.000    0.000    0.000 inference.py:396(is_sequence)\n",
      "        3    0.000    0.000    0.000    0.000 cast.py:868(maybe_cast_to_datetime)\n",
      "       11    0.000    0.000    0.000    0.000 nanops.py:52(__call__)\n",
      "       30    0.000    0.000    0.000    0.000 ops.py:648(_arith_method_SERIES)\n",
      "        1    0.000    0.000    0.000    0.000 utils.py:118(detect_number_of_threads)\n",
      "        4    0.000    0.000    0.000    0.000 series.py:2894(_sanitize_array)\n",
      "       18    0.000    0.000    0.000    0.000 rcsetup.py:662(__call__)\n",
      "      162    0.000    0.000    0.000    0.000 pyparsing.py:1343(postParse)\n",
      "       17    0.000    0.000    0.000    0.000 pyparsing.py:3554(__str__)\n",
      "       13    0.000    0.000    0.000    0.000 pyparsing.py:3759(__str__)\n",
      "        3    0.000    0.000    0.000    0.000 {method 'count' of 'list' objects}\n",
      "        3    0.000    0.000    0.000    0.000 {built-in method posix.waitpid}\n",
      "        3    0.000    0.000    0.000    0.000 {built-in method posix.urandom}\n",
      "        7    0.000    0.000    0.000    0.000 _collections_abc.py:657(get)\n",
      "        1    0.000    0.000    0.009    0.009 machar.py:98(__init__)\n",
      "       16    0.000    0.000    0.000    0.000 config.py:689(config_prefix)\n",
      "        1    0.000    0.000    0.001    0.001 hashing.py:3(<module>)\n",
      "        1    0.000    0.000    0.000    0.000 numeric.py:248(Float64Index)\n",
      "        1    0.000    0.000    0.000    0.000 internals.py:2876(_rebuild_blknos_and_blklocs)\n",
      "       10    0.000    0.000    0.000    0.000 rcsetup.py:305(__call__)\n",
      "       70    0.000    0.000    0.000    0.000 pyparsing.py:435(__bool__)\n",
      "        1    0.000    0.000    0.000    0.000 path.py:1032(_define_deprecated_functions)\n",
      "        1    0.000    0.000    0.000    0.000 path.py:13(<module>)\n",
      "        1    0.000    0.000    0.000    0.000 _core.py:62(MPLPlot)\n",
      "        6    0.000    0.000    0.000    0.000 {built-in method builtins.sorted}\n",
      "       60    0.000    0.000    0.000    0.000 _collections_abc.py:392(__subclasshook__)\n",
      "        1    0.000    0.000    0.000    0.000 twodim_base.py:139(eye)\n",
      "        1    0.000    0.000    0.000    0.000 tzinfo.py:1(<module>)\n",
      "        6    0.000    0.000    0.002    0.000 config.py:762(is_instance_factory)\n",
      "        3    0.000    0.000    0.000    0.000 missing.py:119(_isnull_ndarraylike)\n",
      "        6    0.000    0.000    0.004    0.001 ops.py:239(add_flex_arithmetic_methods)\n",
      "        1    0.000    0.000    0.000    0.000 expressions.py:390(ExpressionNode)\n",
      "        1    0.000    0.000    0.000    0.000 frequencies.py:51(Resolution)\n",
      "        4    0.000    0.000    0.000    0.000 fontconfig_pattern.py:158(_property)\n",
      "       10    0.000    0.000    0.000    0.000 pyparsing.py:3829(__init__)\n",
      "       97    0.000    0.000    0.000    0.000 pyparsing.py:4759(<genexpr>)\n",
      "        1    0.000    0.000    0.000    0.000 scope.py:3(<module>)\n",
      "        1    0.000    0.000    0.000    0.000 frame.py:36(SparseDataFrame)\n",
      "        1    0.000    0.000    0.000    0.000 pytables.py:378(ExprVisitor)\n",
      "      108    0.000    0.000    0.000    0.000 {built-in method _struct.pack}\n",
      "        6    0.000    0.000    0.000    0.000 numeric.py:2767(geterr)\n",
      "        1    0.000    0.000    0.000    0.000 nanops.py:299(nanmean)\n",
      "        1    0.000    0.000    0.000    0.000 groupby.py:1720(BaseGrouper)\n",
      "        7    0.000    0.000    0.000    0.000 base.py:3978(_add_logical_methods_disabled)\n",
      "       10    0.000    0.000    0.000    0.000 generic.py:258(set_axis)\n",
      "        1    0.000    0.000    0.000    0.000 window.py:357(Window)\n",
      "        1    0.000    0.000    0.006    0.006 __init__.py:228(_is_writable_dir)\n",
      "        1    0.000    0.000    0.006    0.006 __init__.py:625(_get_config_or_cache_dir)\n",
      "        6    0.000    0.000    0.000    0.000 pyparsing.py:4759(<lambda>)\n",
      "       44    0.000    0.000    0.000    0.000 colors.py:171(<genexpr>)\n",
      "        1    0.000    0.000    0.000    0.000 transforms.py:776(Bbox)\n",
      "       51    0.000    0.000    0.000    0.000 {built-in method sys._getframe}\n",
      "       32    0.000    0.000    0.000    0.000 {method 'groupdict' of '_sre.SRE_Match' objects}\n",
      "       26    0.000    0.000    0.000    0.000 calendar.py:58(__getitem__)\n",
      "        9    0.000    0.000    0.000    0.000 getlimits.py:518(min)\n",
      "       13    0.000    0.000    0.000    0.000 common.py:475(is_categorical_dtype)\n",
      "       32    0.000    0.000    0.000    0.000 generic.py:7(_check)\n",
      "        1    0.000    0.000    0.000    0.000 base.py:3702(_add_comparison_methods)\n",
      "        1    0.000    0.000    0.001    0.001 frame.py:261(__init__)\n",
      "       12    0.000    0.000    0.000    0.000 rcsetup.py:438(validate_fontsize)\n",
      "       15    0.000    0.000    0.000    0.000 pyparsing.py:2729(charsAsStr)\n",
      "        9    0.000    0.000    0.000    0.000 moments.py:674(_expanding_func)\n",
      "        1    0.000    0.000    0.000    0.000 sql.py:5(<module>)\n",
      "        1    0.000    0.000    0.000    0.000 pickle_compat.py:3(<module>)\n",
      "      196    0.000    0.000    0.000    0.000 {built-in method builtins.ord}\n",
      "        2    0.000    0.000    0.000    0.000 posixpath.py:329(normpath)\n",
      "        9    0.000    0.000    0.000    0.000 contextlib.py:85(__exit__)\n",
      "        3    0.000    0.000    0.000    0.000 subprocess.py:1337(_handle_exitstatus)\n",
      "        3    0.000    0.000    0.000    0.000 subprocess.py:1390(_try_wait)\n",
      "        1    0.000    0.000    0.000    0.000 shutil.py:1048(get_terminal_size)\n",
      "       48    0.000    0.000    0.000    0.000 base.py:3851(_make_evaluate_binop)\n",
      "        1    0.000    0.000    0.000    0.000 numeric.py:170(UInt64Index)\n",
      "        1    0.000    0.000    0.000    0.000 range.py:22(RangeIndex)\n",
      "        1    0.000    0.000    0.020    0.020 fontconfig_pattern.py:7(<module>)\n",
      "     12/2    0.000    0.000    0.000    0.000 pyparsing.py:1904(makeOptionalList)\n",
      "        2    0.000    0.000    0.000    0.000 _version.py:7(<module>)\n",
      "        1    0.000    0.000    0.000    0.000 units.py:44(<module>)\n",
      "       20    0.000    0.000    0.000    0.000 series.py:44(_arith_method)\n",
      "        5    0.000    0.000    0.000    0.000 _depr_module.py:26(__init__)\n",
      "        3    0.000    0.000    0.000    0.000 {method 'acquire' of '_thread.lock' objects}\n",
      "       42    0.000    0.000    0.000    0.000 {method 'group' of '_sre.SRE_Match' objects}\n",
      "        4    0.000    0.000    0.000    0.000 {method 'search' of '_sre.SRE_Pattern' objects}\n",
      "        3    0.000    0.000    0.000    0.000 {built-in method _csv.register_dialect}\n",
      "        3    0.000    0.000    0.000    0.000 numeric.py:3060(__init__)\n",
      "        1    0.000    0.000    0.000    0.000 tzfile.py:4(<module>)\n",
      "        1    0.000    0.000    0.000    0.000 common.py:19(<listcomp>)\n",
      "        1    0.000    0.000    0.000    0.000 _decorators.py:1(<module>)\n",
      "        1    0.000    0.000    0.064    0.064 index.py:2(<module>)\n",
      "        2    0.000    0.000    0.000    0.000 range.py:125(_simple_new)\n",
      "       21    0.000    0.000    0.000    0.000 datetimes.py:62(_field_accessor)\n",
      "        5    0.000    0.000    0.000    0.000 generic.py:1599(_create_indexer)\n",
      "        1    0.000    0.000    0.001    0.001 series.py:974(__unicode__)\n",
      "        1    0.000    0.000    0.000    0.000 subprocess.py:14(<module>)\n",
      "       30    0.000    0.000    0.000    0.000 rcsetup.py:213(validate_int)\n",
      "       12    0.000    0.000    0.003    0.000 rcsetup.py:455(validate_font_properties)\n",
      "       12    0.000    0.000    0.000    0.000 fontconfig_pattern.py:150(_families)\n",
      "       94    0.000    0.000    0.000    0.000 pyparsing.py:4868(<genexpr>)\n",
      "        1    0.000    0.000    0.000    0.000 cycler.py:41(<module>)\n",
      "        1    0.000    0.000    0.000    0.000 _tools.py:3(<module>)\n",
      "        1    0.000    0.000    0.000    0.000 engines.py:3(<module>)\n",
      "        1    0.000    0.000    0.000    0.000 plotting.py:1(<module>)\n",
      "        6    0.000    0.000    0.000    0.000 excel.py:154(register_writer)\n",
      "       31    0.000    0.000    0.000    0.000 {method 'startswith' of 'bytes' objects}\n",
      "       65    0.000    0.000    0.000    0.000 {method 'pop' of 'list' objects}\n",
      "        1    0.000    0.000    0.001    0.001 {built-in method builtins.print}\n",
      "       14    0.000    0.000    0.000    0.000 version.py:51(__lt__)\n",
      "      4/2    0.000    0.000    0.000    0.000 common.py:1766(_get_dtype_from_object)\n",
      "        1    0.000    0.000    0.000    0.000 offsets.py:990(get_calendar)\n",
      "       31    0.000    0.000    0.000    0.000 offsets.py:2937(<genexpr>)\n",
      "        1    0.000    0.000    0.000    0.000 expr.py:265(BaseExprVisitor)\n",
      "        1    0.000    0.000    0.000    0.000 tile.py:3(<module>)\n",
      "        3    0.000    0.000    0.000    0.000 pytables.py:1472(__init__)\n",
      "       72    0.000    0.000    0.000    0.000 {method 'remove' of 'set' objects}\n",
      "       19    0.000    0.000    0.000    0.000 {built-in method builtins.next}\n",
      "        2    0.000    0.000    0.000    0.000 {built-in method posix.sysconf}\n",
      "        3    0.000    0.000    0.001    0.000 abc.py:151(register)\n",
      "       25    0.000    0.000    0.000    0.000 __init__.py:422(<genexpr>)\n",
      "        3    0.000    0.000    0.000    0.000 warnings.py:143(simplefilter)\n",
      "        2    0.000    0.000    0.000    0.000 decoder.py:334(decode)\n",
      "        3    0.000    0.000    0.000    0.000 subprocess.py:203(_cleanup)\n",
      "        3    0.000    0.000    0.000    0.000 subprocess.py:1146(_get_handles)\n",
      "        3    0.000    0.000    0.000    0.000 threading.py:1104(is_alive)\n",
      "        1    0.000    0.000    0.000    0.000 locale.py:631(getpreferredencoding)\n",
      "        8    0.000    0.000    0.000    0.000 random.py:222(_randbelow)\n",
      "        1    0.000    0.000    0.000    0.000 __init__.py:203(parse_version)\n",
      "        1    0.000    0.000    0.000    0.000 lazy.py:168(<listcomp>)\n",
      "       15    0.000    0.000    0.000    0.000 config.py:223(__call__)\n",
      "        1    0.000    0.000    0.000    0.000 dtypes.py:165(DatetimeTZDtype)\n",
      "        7    0.000    0.000    0.000    0.000 nanops.py:77(__init__)\n",
      "        1    0.000    0.000    0.000    0.000 nanops.py:188(_get_values)\n",
      "      132    0.000    0.000    0.000    0.000 ops.py:57(<lambda>)\n",
      "        1    0.000    0.000    0.000    0.000 numeric.py:112(Int64Index)\n",
      "        7    0.000    0.000    0.000    0.000 offsets.py:191(__init__)\n",
      "        1    0.000    0.000    0.000    0.000 frame.py:5689(_list_to_arrays)\n",
      "        5    0.000    0.000    0.000    0.000 generic.py:6230(_doc_parms)\n",
      "        2    0.000    0.000    0.000    0.000 format.py:2244(just)\n",
      "        1    0.000    0.000    0.000    0.000 window.py:60(_Window)\n",
      "       12    0.000    0.000    0.000    0.000 pyparsing.py:3181(parseImpl)\n",
      "       15    0.000    0.000    0.000    0.000 pyparsing.py:3995(__str__)\n",
      "        2    0.000    0.000    0.000    0.000 cycler.py:191(_from_iter)\n",
      "        1    0.000    0.000    0.005    0.005 eval.py:4(<module>)\n",
      "        1    0.000    0.000    0.000    0.000 list.py:1(<module>)\n",
      "        1    0.000    0.000    0.000    0.000 pickle.py:1(<module>)\n",
      "        4    0.000    0.000    0.000    0.000 sre_parse.py:266(getuntil)\n",
      "       25    0.000    0.000    0.000    0.000 __init__.py:424(<genexpr>)\n",
      "        1    0.000    0.000    0.000    0.000 sre_parse.py:876(parse_template)\n",
      "        1    0.000    0.000    0.000    0.000 tempfile.py:157(__next__)\n",
      "        1    0.000    0.000    0.000    0.000 tempfile.py:571(TemporaryFile)\n",
      "       28    0.000    0.000    0.000    0.000 typing.py:852(_gorg)\n",
      "        1    0.000    0.000    0.000    0.000 <string>:5(Components)\n",
      "        1    0.000    0.000    0.000    0.000 inference.py:1(<module>)\n",
      "        1    0.000    0.000    0.000    0.000 terminal.py:23(get_terminal_size)\n",
      "        3    0.000    0.000    0.000    0.000 _decorators.py:191(indent)\n",
      "       40    0.000    0.000    0.000    0.000 base.py:3765(_make_invalid_op)\n",
      "       35    0.000    0.000    0.000    0.000 ops.py:209(_wrap_inplace_method)\n",
      "        1    0.000    0.000    0.000    0.000 cpuinfo.py:119(LinuxCPUInfo)\n",
      "        1    0.000    0.000    0.000    0.000 cpuinfo.py:458(DarwinCPUInfo)\n",
      "       27    0.000    0.000    0.000    0.000 expressions.py:193(func)\n",
      "       10    0.000    0.000    0.000    0.000 offsets.py:106(apply_index_wraps)\n",
      "        1    0.000    0.000    0.000    0.000 offsets.py:135(DateOffset)\n",
      "        3    0.000    0.000    0.000    0.000 generic.py:117(__init__)\n",
      "        1    0.000    0.000    0.000    0.000 internals.py:4473(_stack_arrays)\n",
      "        1    0.000    0.000    0.000    0.000 window.py:811(_Rolling_and_Expanding)\n",
      "       10    0.000    0.000    0.000    0.000 __init__.py:934(__getitem__)\n",
      "        6    0.000    0.000    0.000    0.000 pyparsing.py:1181(setResultsName)\n",
      "        2    0.000    0.000    0.002    0.001 pyparsing.py:4741(srange)\n",
      "        1    0.000    0.000    0.000    0.000 pytables.py:2932(Table)\n",
      "        6    0.000    0.000    0.000    0.000 {method 'remove' of 'list' objects}\n",
      "       23    0.000    0.000    0.000    0.000 {built-in method _imp.exec_dynamic}\n",
      "        3    0.000    0.000    0.000    0.000 subprocess.py:753(__del__)\n",
      "        1    0.000    0.000    0.000    0.000 lazy.py:114(<listcomp>)\n",
      "        1    0.000    0.000    0.000    0.000 __init__.py:329(wrapper)\n",
      "        2    0.000    0.000    0.000    0.000 {pandas._libs.lib.infer_dtype}\n",
      "       16    0.000    0.000    0.000    0.000 config.py:528(_select_options)\n",
      "       15    0.000    0.000    0.000    0.000 config.py:602(_warn_if_deprecated)\n",
      "        1    0.000    0.000    0.001    0.001 printing.py:3(<module>)\n",
      "        1    0.000    0.000    0.002    0.002 dtypes.py:1(<module>)\n",
      "       50    0.000    0.000    0.000    0.000 common.py:32(outer)\n",
      "       18    0.000    0.000    0.000    0.000 _decorators.py:19(deprecate_kwarg)\n",
      "        1    0.000    0.000    0.000    0.000 groupby.py:2277(BinGrouper)\n",
      "        4    0.000    0.000    0.000    0.000 base.py:3939(_add_logical_methods)\n",
      "        1    0.000    0.000    0.000    0.000 ops.py:281(_Op)\n",
      "        1    0.000    0.000    0.000    0.000 datetimelike.py:64(TimelikeOps)\n",
      "        3    0.000    0.000    0.000    0.000 generic.py:3083(__setattr__)\n",
      "        1    0.000    0.000    0.000    0.000 generic.py:6328(stat_func)\n",
      "        3    0.000    0.000    0.000    0.000 internals.py:2683(make_block)\n",
      "        1    0.000    0.000    0.001    0.001 format.py:243(to_string)\n",
      "        3    0.000    0.000    0.000    0.000 __init__.py:161(compare_versions)\n",
      "        3    0.000    0.000    0.000    0.000 __init__.py:335(wrapper)\n",
      "        8    0.000    0.000    0.000    0.000 rcsetup.py:317(<listcomp>)\n",
      "        3    0.000    0.000    0.000    0.000 pyparsing.py:3142(__init__)\n",
      "       46    0.000    0.000    0.000    0.000 pyparsing.py:3521(<genexpr>)\n",
      "        2    0.000    0.000    0.000    0.000 pyparsing.py:4428(delimitedList)\n",
      "        7    0.000    0.000    0.000    0.000 pyparsing.py:4803(tokenMap)\n",
      "        7    0.000    0.000    0.000    0.000 rrule.py:68(__init__)\n",
      "        1    0.000    0.000    0.000    0.000 align.py:2(<module>)\n",
      "        1    0.000    0.000    0.000    0.000 pivot.py:4(<module>)\n",
      "        1    0.000    0.000    0.000    0.000 stata.py:941(StataReader)\n",
      "        3    0.000    0.000    0.002    0.001 <frozen importlib._bootstrap>:612(_load_backward_compatible)\n",
      "       36    0.000    0.000    0.000    0.000 {method 'end' of '_sre.SRE_Match' objects}\n",
      "        2    0.000    0.000    0.000    0.000 __init__.py:302(loads)\n",
      "        2    0.000    0.000    0.000    0.000 decoder.py:345(raw_decode)\n",
      "        1    0.000    0.000    0.000    0.000 tokenize.py:355(detect_encoding)\n",
      "        2    0.000    0.000    0.000    0.000 platform.py:1065(machine)\n",
      "        8    0.000    0.000    0.000    0.000 random.py:252(choice)\n",
      "        8    0.000    0.000    0.000    0.000 typing.py:1046(_abc_negative_cache)\n",
      "        8    0.000    0.000    0.000    0.000 typing.py:1060(_abc_negative_cache_version)\n",
      "        1    0.000    0.000    0.000    0.000 {pandas._libs.lib.isnullobj}\n",
      "       14    0.000    0.000    0.000    0.000 {built-in method pandas._libs.lib.isscalar}\n",
      "       22    0.000    0.000    0.000    0.000 config.py:755(inner)\n",
      "        1    0.000    0.000    0.000    0.000 <string>:5(DeprecatedOption)\n",
      "        1    0.000    0.000    0.000    0.000 printing.py:12(adjoin)\n",
      "        8    0.000    0.000    0.000    0.000 common.py:84(is_object_dtype)\n",
      "       21    0.000    0.000    0.000    0.000 function.py:31(__init__)\n",
      "        2    0.000    0.000    0.000    0.000 base.py:3746(_add_numeric_methods_add_sub_disabled)\n",
      "       12    0.000    0.000    0.000    0.000 ops.py:1293(_comp_method_FRAME)\n",
      "        1    0.000    0.000    0.000    0.000 indexing.py:88(_NDFrameIndexer)\n",
      "        1    0.000    0.000    0.000    0.000 internals.py:2516(SparseBlock)\n",
      "        1    0.000    0.000    0.000    0.000 format.py:2227(_make_fixed_width)\n",
      "        4    0.000    0.000    0.000    0.000 pyparsing.py:397(__setitem__)\n",
      "        3    0.000    0.000    0.000    0.000 pyparsing.py:1855(__mul__)\n",
      "        7    0.000    0.000    0.000    0.000 pyparsing.py:3076(__init__)\n",
      "        4    0.000    0.000    0.000    0.000 pyparsing.py:3807(__init__)\n",
      "       10    0.000    0.000    0.000    0.000 colors.py:203(<genexpr>)\n",
      "        2    0.000    0.000    0.001    0.001 panel.py:1484(_add_aggregate_operations)\n",
      "        1    0.000    0.000    0.000    0.000 pytables.py:2365(GenericFixed)\n",
      "       50    0.000    0.000    0.000    0.000 {built-in method builtins.callable}\n",
      "        7    0.000    0.000    0.000    0.000 genericpath.py:16(exists)\n",
      "        4    0.000    0.000    0.000    0.000 genericpath.py:39(isdir)\n",
      "        2    0.000    0.000    0.000    0.000 textwrap.py:381(fill)\n",
      "        1    0.000    0.000    0.000    0.000 tempfile.py:249(_mkstemp_inner)\n",
      "       24    0.000    0.000    0.000    0.000 config.py:719(wrap)\n",
      "        7    0.000    0.000    0.000    0.000 config.py:791(<listcomp>)\n",
      "        7    0.000    0.000    0.000    0.000 config.py:789(is_one_of_factory)\n",
      "        1    0.000    0.000    0.000    0.000 <string>:5(RegisteredOption)\n",
      "        3    0.000    0.000    0.000    0.000 dtypes.py:241(construct_from_string)\n",
      "        1    0.000    0.000    0.000    0.000 missing.py:247(array_equivalent)\n",
      "        2    0.000    0.000    0.000    0.000 common.py:205(_default_index)\n",
      "        5    0.000    0.000    0.000    0.000 base.py:234(__init__)\n",
      "        1    0.000    0.000    0.000    0.000 nanops.py:53(_f)\n",
      "        1    0.000    0.000    0.000    0.000 groupby.py:1132(_add_numeric_operations)\n",
      "        1    0.000    0.000    0.000    0.000 frozen.py:9(<module>)\n",
      "       20    0.000    0.000    0.000    0.000 ops.py:1320(_arith_method_PANEL)\n",
      "        8    0.000    0.000    0.000    0.000 datetimelike.py:159(_join_i8_wrapper)\n",
      "        3    0.000    0.000    0.000    0.000 datetimelike.py:632(_add_datetimelike_methods)\n",
      "        1    0.000    0.000    0.000    0.000 frame.py:5045(_reduce)\n",
      "        2    0.000    0.000    0.000    0.000 internals.py:4078(__init__)\n",
      "        1    0.000    0.000    0.000    0.000 internals.py:4070(SingleBlockManager)\n",
      "        4    0.000    0.000    0.000    0.000 rcsetup.py:233(validate_fonttype)\n",
      "        5    0.000    0.000    0.000    0.000 rcsetup.py:261(validate_backend)\n",
      "        8    0.000    0.000    0.000    0.000 fontconfig_pattern.py:144(_name)\n",
      "       12    0.000    0.000    0.000    0.000 fontconfig_pattern.py:151(<listcomp>)\n",
      "        1    0.000    0.000    0.000    0.000 transforms.py:2280(CompositeGenericTransform)\n",
      "        1    0.000    0.000    0.000    0.000 ticker.py:1619(MaxNLocator)\n",
      "        1    0.000    0.000    0.002    0.002 _core.py:1467(BoxPlot)\n",
      "        1    0.000    0.000    0.000    0.000 ops.py:44(Term)\n",
      "        1    0.000    0.000    0.002    0.002 panel4d.py:1(<module>)\n",
      "        1    0.000    0.000    0.000    0.000 _tester.py:3(<module>)\n",
      "        3    0.000    0.000    0.002    0.001 <frozen importlib._bootstrap>:419(spec_from_loader)\n",
      "       30    0.000    0.000    0.000    0.000 {method 'endswith' of 'bytes' objects}\n",
      "       14    0.000    0.000    0.000    0.000 {method 'get' of 'mappingproxy' objects}\n",
      "       12    0.000    0.000    0.000    0.000 {method 'lstrip' of 'str' objects}\n",
      "        6    0.000    0.000    0.000    0.000 {built-in method posix.WEXITSTATUS}\n",
      "        2    0.000    0.000    0.000    0.000 {method 'readline' of '_io.BufferedReader' objects}\n",
      "        3    0.000    0.000    0.000    0.000 codecs.py:308(__init__)\n",
      "        3    0.000    0.000    0.000    0.000 warnings.py:159(_add_filter)\n",
      "       14    0.000    0.000    0.000    0.000 calendar.py:77(__getitem__)\n",
      "        3    0.000    0.000    0.000    0.000 {method 'astype' of 'numpy.ndarray' objects}\n",
      "        4    0.000    0.000    0.000    0.000 {built-in method numpy.core.multiarray.empty}\n",
      "        1    0.000    0.000    0.000    0.000 exceptions.py:3(<module>)\n",
      "        1    0.000    0.000    0.000    0.000 {built-in method pandas._libs.lib.is_datetime_array}\n",
      "        4    0.000    0.000    0.000    0.000 common.py:508(is_string_dtype)\n",
      "        1    0.000    0.000    0.000    0.000 dtypes.py:8(ExtensionDtype)\n",
      "        3    0.000    0.000    0.000    0.000 dtypes.py:183(__new__)\n",
      "        4    0.000    0.000    0.000    0.000 dtypes.py:489(is_dtype)\n",
      "        5    0.000    0.000    0.000    0.000 missing.py:47(_isnull_new)\n",
      "        2    0.000    0.000    0.000    0.000 base.py:367(_simple_new)\n",
      "        5    0.000    0.000    0.000    0.000 base.py:3934(_add_numeric_methods)\n",
      "        7    0.000    0.000    0.000    0.000 base.py:3999(_ensure_index)\n",
      "        1    0.000    0.000    0.000    0.000 cpuinfo.py:549(SunOSCPUInfo)\n",
      "        2    0.000    0.000    0.000    0.000 utils.py:97(detect_number_of_cores)\n",
      "        1    0.000    0.000    0.000    0.000 category.py:688(_add_accessors)\n",
      "        1    0.000    0.000    0.000    0.000 numeric.py:21(NumericIndex)\n",
      "        2    0.000    0.000    0.000    0.000 range.py:45(__new__)\n",
      "        1    0.000    0.000    0.000    0.000 range.py:539(_add_numeric_methods_binary)\n",
      "        4    0.000    0.000    0.000    0.000 timedeltas.py:122(_join_i8_wrapper)\n",
      "        1    0.000    0.000    0.000    0.000 frame.py:5489(_arrays_to_mgr)\n",
      "        3    0.000    0.000    0.000    0.000 internals.py:102(__init__)\n",
      "        1    0.000    0.000    0.000    0.000 internals.py:3001(_verify_integrity)\n",
      "        1    0.000    0.000    0.000    0.000 format.py:1726(format_array)\n",
      "        1    0.000    0.000    0.000    0.000 _converter.py:48(register)\n",
      "       10    0.000    0.000    0.000    0.000 __init__.py:313(report)\n",
      "       10    0.000    0.000    0.000    0.000 __init__.py:347(ge)\n",
      "        2    0.000    0.000    0.000    0.000 rcsetup.py:477(validate_whiskers)\n",
      "       22    0.000    0.000    0.000    0.000 cycler.py:227(<genexpr>)\n",
      "        1    0.000    0.000    0.000    0.000 _version.py:20(get_versions)\n",
      "        1    0.000    0.000    0.000    0.000 transforms.py:1714(Affine2DBase)\n",
      "        1    0.000    0.000    0.000    0.000 pytables.py:1795(__init__)\n",
      "        1    0.000    0.000    0.000    0.000 pytables.py:2200(Fixed)\n",
      "       11    0.000    0.000    0.000    0.000 {method 'translate' of 'bytearray' objects}\n",
      "       16    0.000    0.000    0.000    0.000 {method 'expandtabs' of 'str' objects}\n",
      "       29    0.000    0.000    0.000    0.000 {method 'isidentifier' of 'str' objects}\n",
      "        8    0.000    0.000    0.000    0.000 os.py:744(decode)\n",
      "        8    0.000    0.000    0.000    0.000 six.py:580(iteritems)\n",
      "        5    0.000    0.000    0.000    0.000 six.py:159(_resolve)\n",
      "        2    0.000    0.000    0.000    0.000 six.py:195(load_module)\n",
      "        2    0.000    0.000    0.000    0.000 locale.py:565(getlocale)\n",
      "        2    0.000    0.000    0.000    0.000 textwrap.py:160(_split)\n",
      "       12    0.000    0.000    0.000    0.000 typing.py:912(__extrahook__)\n",
      "        2    0.000    0.000    0.000    0.000 version.py:57(__le__)\n",
      "        2    0.000    0.000    0.000    0.000 {method 'sum' of 'numpy.ndarray' objects}\n",
      "        6    0.000    0.000    0.000    0.000 {built-in method numpy.core.umath.seterrobj}\n",
      "       53    0.000    0.000    0.000    0.000 __init__.py:234(u_safe)\n",
      "        7    0.000    0.000    0.000    0.000 config.py:794(inner)\n",
      "        1    0.000    0.000    0.000    0.000 dtypes.py:279(PeriodDtype)\n",
      "        1    0.000    0.000    0.000    0.000 common.py:30(<listcomp>)\n",
      "        1    0.000    0.000    0.000    0.000 nanops.py:645(_get_counts)\n",
      "        1    0.000    0.000    0.000    0.000 groupby.py:178(Grouper)\n",
      "        1    0.000    0.000    0.000    0.000 base.py:1899(_format_with_header)\n",
      "       14    0.000    0.000    0.000    0.000 base.py:3982(_make_invalid_op)\n",
      "      4/2    0.000    0.000    0.000    0.000 cpuinfo.py:94(__getattr__)\n",
      "        1    0.000    0.000    0.003    0.003 __init__.py:11(<module>)\n",
      "       15    0.000    0.000    0.000    0.000 strings.py:1318(_noarg_wrapper)\n",
      "       19    0.000    0.000    0.000    0.000 strings.py:1354(copy)\n",
      "        1    0.000    0.000    0.000    0.000 strings.py:1893(StringAccessorMixin)\n",
      "        1    0.000    0.000    0.000    0.000 frequencies.py:809(_FrequencyInferer)\n",
      "        1    0.000    0.000    0.000    0.000 offsets.py:589(__init__)\n",
      "        1    0.000    0.000    0.000    0.000 offsets.py:973(__init__)\n",
      "        1    0.000    0.000    0.000    0.000 offsets.py:1167(SemiMonthOffset)\n",
      "        1    0.000    0.000    0.000    0.000 frame.py:5787(_homogenize)\n",
      "        5    0.000    0.000    0.000    0.000 generic.py:6232(<listcomp>)\n",
      "        1    0.000    0.000    0.000    0.000 internals.py:2084(CategoricalBlock)\n",
      "        1    0.000    0.000    0.000    0.000 internals.py:2779(__init__)\n",
      "        1    0.000    0.000    0.000    0.000 format.py:152(__init__)\n",
      "        4    0.000    0.000    0.000    0.000 series.py:2911(_try_cast)\n",
      "        1    0.000    0.000    0.000    0.000 window.py:684(_GroupByMixin)\n",
      "        1    0.000    0.000    0.000    0.000 __init__.py:704(_get_data_path)\n",
      "       14    0.000    0.000    0.000    0.000 pyparsing.py:437(__iter__)\n",
      "        4    0.000    0.000    0.000    0.000 pyparsing.py:1819(__radd__)\n",
      "        2    0.000    0.000    0.000    0.000 cycler.py:112(__init__)\n",
      "       19    0.000    0.000    0.000    0.000 cycler.py:212(<genexpr>)\n",
      "        1    0.000    0.000    0.000    0.000 dates.py:897(AutoDateLocator)\n",
      "        1    0.000    0.000    0.000    0.000 transforms.py:1130(Transform)\n",
      "        1    0.000    0.000    0.000    0.000 transforms.py:2031(IdentityTransform)\n",
      "        1    0.000    0.000    0.000    0.000 transforms.py:2077(BlendedGenericTransform)\n",
      "        1    0.000    0.000    0.000    0.000 _compat.py:3(<module>)\n",
      "        1    0.000    0.000    0.000    0.000 <string>:5(Boxplot)\n",
      "       22    0.000    0.000    0.000    0.000 expr.py:227(_op_maker)\n",
      "        1    0.000    0.000    0.000    0.000 _print_versions.py:1(<module>)\n",
      "        1    0.000    0.000    0.000    0.000 pytables.py:397(HDFStore)\n",
      "        1    0.000    0.000    0.000    0.000 pytables.py:1454(IndexCol)\n",
      "        1    0.000    0.000    0.000    0.000 pytables.py:3749(LegacyTable)\n",
      "        3    0.000    0.000    0.000    0.000 codecs.py:259(__init__)\n",
      "        2    0.000    0.000    0.000    0.000 _bootlocale.py:23(getpreferredencoding)\n",
      "        4    0.000    0.000    0.000    0.000 _collections_abc.py:664(__contains__)\n",
      "       30    0.000    0.000    0.000    0.000 sre_parse.py:167(__setitem__)\n",
      "        2    0.000    0.000    0.000    0.000 sre_parse.py:452(<listcomp>)\n",
      "        9    0.000    0.000    0.000    0.000 contextlib.py:79(__enter__)\n",
      "        3    0.000    0.000    0.000    0.000 threading.py:1062(_wait_for_tstate_lock)\n",
      "        1    0.000    0.000    0.000    0.000 tempfile.py:160(<listcomp>)\n",
      "        1    0.000    0.000    0.000    0.000 builtin_trap.py:46(__exit__)\n",
      "        1    0.000    0.000    0.000    0.000 <string>:1(<module>)\n",
      "        1    0.000    0.000    0.000    0.000 __init__.py:195(UTC)\n",
      "        1    0.000    0.000    0.000    0.000 console.py:3(<module>)\n",
      "        1    0.000    0.000    0.000    0.000 terminal.py:13(<module>)\n",
      "        9    0.000    0.000    0.000    0.000 common.py:333(is_datetime64tz_dtype)\n",
      "        1    0.000    0.000    0.000    0.000 dtypes.py:397(IntervalDtype)\n",
      "        1    0.000    0.000    0.000    0.000 common.py:302(groupby)\n",
      "        2    0.000    0.000    0.000    0.000 common.py:353(_asarray_tuplesafe)\n",
      "        1    0.000    0.000    0.000    0.000 frozen.py:17(FrozenList)\n",
      "        1    0.000    0.000    0.000    0.000 ops.py:337(_TimeOp)\n",
      "        1    0.000    0.000    0.000    0.000 cpuinfo.py:336(IRIXCPUInfo)\n",
      "        2    0.000    0.000    0.000    0.000 utils.py:141(__init__)\n",
      "       19    0.000    0.000    0.000    0.000 strings.py:1357(do_copy)\n",
      "        1    0.000    0.000    0.000    0.000 category.py:640(_add_comparison_methods)\n",
      "        1    0.000    0.000    0.000    0.000 internals.py:2864(_is_single_block)\n",
      "        1    0.000    0.000    0.000    0.000 internals.py:4441(_multi_blockify)\n",
      "        6    0.000    0.000    0.000    0.000 format.py:287(len)\n",
      "        2    0.000    0.000    0.000    0.000 series.py:284(_set_axis)\n",
      "        1    0.000    0.000    0.001    0.001 series.py:993(to_string)\n",
      "        1    0.000    0.000    0.000    0.000 __init__.py:257(Verbose)\n",
      "        2    0.000    0.000    0.000    0.000 rcsetup.py:272(validate_toolbar)\n",
      "        1    0.000    0.000    0.000    0.000 pyparsing.py:301(ParseResults)\n",
      "        9    0.000    0.000    0.000    0.000 pyparsing.py:3819(__str__)\n",
      "        7    0.000    0.000    0.000    0.000 pyparsing.py:3913(__init__)\n",
      "        1    0.000    0.000    0.000    0.000 colors.py:1085(PowerNorm)\n",
      "        2    0.000    0.000    0.000    0.000 cycler.py:55(_process_keys)\n",
      "       10    0.000    0.000    0.000    0.000 cycler.py:138(keys)\n",
      "        1    0.000    0.000    0.000    0.000 ticker.py:480(ScalarFormatter)\n",
      "        1    0.000    0.000    0.000    0.000 _compat.py:37(_mpl_ge_1_5_0)\n",
      "        1    0.000    0.000    0.000    0.000 list.py:12(SparseList)\n",
      "        1    0.000    0.000    0.000    0.000 date_converters.py:1(<module>)\n",
      "        1    0.000    0.000    0.000    0.000 pytables.py:1756(DataCol)\n",
      "        1    0.000    0.000    0.000    0.000 normalize.py:4(<module>)\n",
      "       26    0.000    0.000    0.000    0.000 {method 'clear' of 'dict' objects}\n",
      "        2    0.000    0.000    0.000    0.000 {method 'translate' of 'str' objects}\n",
      "        6    0.000    0.000    0.000    0.000 {built-in method builtins.delattr}\n",
      "        1    0.000    0.000    0.000    0.000 {built-in method posix.access}\n",
      "        1    0.000    0.000    0.000    0.000 {built-in method posix.get_terminal_size}\n",
      "        2    0.000    0.000    0.000    0.000 {built-in method _locale.nl_langinfo}\n",
      "        2    0.000    0.000    0.000    0.000 {method 'is_package' of 'zipimport.zipimporter' objects}\n",
      "        2    0.000    0.000    0.000    0.000 posixpath.py:367(abspath)\n",
      "        2    0.000    0.000    0.000    0.000 _collections_abc.py:72(_check_methods)\n",
      "        4    0.000    0.000    0.000    0.000 warnings.py:468(__exit__)\n",
      "        5    0.000    0.000    0.000    0.000 copy.py:252(_keep_alive)\n",
      "        6    0.000    0.000    0.000    0.000 six.py:80(_import_module)\n",
      "        4    0.000    0.000    0.000    0.000 six.py:577(itervalues)\n",
      "        2    0.000    0.000    0.000    0.000 textwrap.py:115(__init__)\n",
      "        2    0.000    0.000    0.000    0.000 textwrap.py:336(_split_chunks)\n",
      "        1    0.000    0.000    0.000    0.000 tempfile.py:146(rng)\n",
      "        2    0.000    0.000    0.000    0.000 {built-in method numpy.core.multiarray.datetime_data}\n",
      "        3    0.000    0.000    0.000    0.000 numeric.py:3064(__enter__)\n",
      "        3    0.000    0.000    0.000    0.000 numeric.py:3069(__exit__)\n",
      "        1    0.000    0.000    0.000    0.000 fromnumeric.py:2174(amax)\n",
      "       16    0.000    0.000    0.000    0.000 config.py:589(_translate_key)\n",
      "       12    0.000    0.000    0.000    0.000 algorithms.py:1174(_view_wrapper)\n",
      "        3    0.000    0.000    0.000    0.000 cast.py:759(maybe_castable)\n",
      "        5    0.000    0.000    0.000    0.000 common.py:190(is_categorical)\n",
      "        1    0.000    0.000    0.000    0.000 dtypes.py:110(CategoricalDtype)\n",
      "        6    0.000    0.000    0.000    0.000 _decorators.py:9(deprecate)\n",
      "        1    0.000    0.000    0.000    0.000 nanops.py:89(f)\n",
      "        1    0.000    0.000    0.000    0.000 base.py:1961(equals)\n",
      "        1    0.000    0.000    0.000    0.000 test_numexpr.py:679(test_int32_int64)\n",
      "        4    0.000    0.000    0.000    0.000 strings.py:1332(_pat_wrapper)\n",
      "        4    0.000    0.000    0.000    0.000 range.py:61(_ensure_int)\n",
      "        1    0.000    0.000    0.000    0.000 offsets.py:1560(Week)\n",
      "       12    0.000    0.000    0.000    0.000 period.py:53(_field_accessor)\n",
      "        1    0.000    0.000    0.000    0.000 frame.py:5049(f)\n",
      "        2    0.000    0.000    0.000    0.000 frame.py:5758(convert)\n",
      "        1    0.000    0.000    0.000    0.000 internals.py:1701(TimeDeltaBlock)\n",
      "        1    0.000    0.000    0.000    0.000 format.py:189(_get_footer)\n",
      "        1    0.000    0.000    0.000    0.000 format.py:353(DataFrameFormatter)\n",
      "        1    0.000    0.000    0.000    0.000 format.py:1766(__init__)\n",
      "        2    0.000    0.000    0.000    0.000 format.py:1861(base_formatter)\n",
      "        4    0.000    0.000    0.000    0.000 series.py:320(name)\n",
      "        1    0.000    0.000    0.000    0.000 _converter.py:187(DatetimeConverter)\n",
      "       11    0.000    0.000    0.000    0.000 cbook.py:139(deprecated)\n",
      "        1    0.000    0.000    0.000    0.000 pyparsing.py:182(ParseBaseException)\n",
      "        1    0.000    0.000    0.000    0.000 pyparsing.py:3039(__init__)\n",
      "       11    0.000    0.000    0.000    0.000 _color_data.py:34(<genexpr>)\n",
      "        1    0.000    0.000    0.000    0.000 cycler.py:77(Cycler)\n",
      "        1    0.000    0.000    0.000    0.000 dates.py:437(DateFormatter)\n",
      "        1    0.000    0.000    0.000    0.000 dates.py:725(DateLocator)\n",
      "        1    0.000    0.000    0.000    0.000 rrule.py:1390(_rrulestr)\n",
      "        2    0.000    0.000    0.000    0.000 _style.py:184(__init__)\n",
      "        1    0.000    0.000    0.000    0.000 _style.py:172(_Options)\n",
      "        1    0.000    0.000    0.000    0.000 _core.py:1128(BarPlot)\n",
      "        2    0.000    0.000    0.000    0.000 util.py:73(compose)\n",
      "        1    0.000    0.000    0.000    0.000 util.py:1(<module>)\n",
      "        1    0.000    0.000    0.000    0.000 excel.py:632(ExcelWriter)\n",
      "        1    0.000    0.000    0.000    0.000 <string>:5(ExtType)\n",
      "        3    0.000    0.000    0.000    0.000 {method 'rfind' of 'bytes' objects}\n",
      "        5    0.000    0.000    0.000    0.000 {method 'rfind' of 'str' objects}\n",
      "       11    0.000    0.000    0.000    0.000 {built-in method _warnings._filters_mutated}\n",
      "        1    0.000    0.000    0.000    0.000 re.py:314(_compile_repl)\n",
      "        2    0.000    0.000    0.000    0.000 tokenize.py:385(find_cookie)\n",
      "        2    0.000    0.000    0.000    0.000 six.py:209(is_package)\n",
      "        2    0.000    0.000    0.000    0.000 locale.py:379(normalize)\n",
      "        2    0.000    0.000    0.000    0.000 textwrap.py:342(wrap)\n",
      "        1    0.000    0.000    0.000    0.000 tempfile.py:118(_sanitize_params)\n",
      "        2    0.000    0.000    0.000    0.000 iostream.py:297(_schedule_flush)\n",
      "        1    0.000    0.000    0.000    0.000 {built-in method numpy.core.multiarray.zeros}\n",
      "        1    0.000    0.000    0.000    0.000 {built-in method numpy.core.multiarray.putmask}\n",
      "       12    0.000    0.000    0.000    0.000 {built-in method numpy.core.umath.geterrobj}\n",
      "        1    0.000    0.000    0.000    0.000 numeric.py:2365(identity)\n",
      "        3    0.000    0.000    0.000    0.000 function_base.py:213(iterable)\n",
      "        1    0.000    0.000    0.000    0.000 tzinfo.py:16(memorized_timedelta)\n",
      "        8    0.000    0.000    0.000    0.000 config.py:782(inner)\n",
      "        3    0.000    0.000    0.000    0.000 inference.py:233(is_list_like)\n",
      "        1    0.000    0.000    0.000    0.000 console.py:14(detect_console_encoding)\n",
      "        4    0.000    0.000    0.000    0.000 common.py:439(is_interval_dtype)\n",
      "        6    0.000    0.000    0.000    0.000 common.py:1673(_get_dtype)\n",
      "        2    0.000    0.000    0.000    0.000 common.py:1823(_validate_date_like_dtype)\n",
      "        4    0.000    0.000    0.000    0.000 dtypes.py:367(is_dtype)\n",
      "        3    0.000    0.000    0.000    0.000 {built-in method pandas._libs.algos.ensure_object}\n",
      "        1    0.000    0.000    0.000    0.000 _validators.py:4(<module>)\n",
      "        5    0.000    0.000    0.000    0.000 base.py:559(values)\n",
      "       20    0.000    0.000    0.000    0.000 base.py:3918(_make_evaluate_unary)\n",
      "        1    0.000    0.000    0.000    0.000 __config__.py:6(get_info)\n",
      "        1    0.000    0.000    0.000    0.000 test_numexpr.py:44(test_numexpr)\n",
      "        7    0.000    0.000    0.000    0.000 range.py:446(__len__)\n",
      "        1    0.000    0.000    0.000    0.000 offsets.py:1969(QuarterEnd)\n",
      "        1    0.000    0.000    0.000    0.000 offsets.py:2258(FY5253)\n",
      "        6    0.000    0.000    0.000    0.000 offsets.py:2685(_tick_comp)\n",
      "       14    0.000    0.000    0.000    0.000 generic.py:233(<genexpr>)\n",
      "        1    0.000    0.000    0.000    0.000 generic.py:6160(_add_series_only_operations)\n",
      "        1    0.000    0.000    0.000    0.000 internals.py:1427(ScalarBlock)\n",
      "        9    0.000    0.000    0.000    0.000 internals.py:2822(<genexpr>)\n",
      "        3    0.000    0.000    0.000    0.000 internals.py:2820(shape)\n",
      "        1    0.000    0.000    0.000    0.000 internals.py:4306(create_block_manager_from_arrays)\n",
      "        1    0.000    0.000    0.000    0.000 internals.py:5123(JoinUnit)\n",
      "        3    0.000    0.000    0.000    0.000 format.py:290(justify)\n",
      "        2    0.000    0.000    0.000    0.000 format.py:324(_get_adjustment)\n",
      "        1    0.000    0.000    0.000    0.000 format.py:1042(HTMLFormatter)\n",
      "        1    0.000    0.000    0.000    0.000 __init__.py:747(_get_data_path_cached)\n",
      "        1    0.000    0.000    0.011    0.011 __init__.py:1011(rc_params)\n",
      "        1    0.000    0.000    0.000    0.000 cbook.py:1522(MemoryMonitor)\n",
      "        2    0.000    0.000    0.000    0.000 rcsetup.py:190(validate_axisbelow)\n",
      "        1    0.000    0.000    0.000    0.000 fontconfig_pattern.py:36(FontconfigPatternParser)\n",
      "        4    0.000    0.000    0.000    0.000 pyparsing.py:292(__init__)\n",
      "        2    0.000    0.000    0.000    0.000 pyparsing.py:645(<listcomp>)\n",
      "        2    0.000    0.000    0.000    0.000 pyparsing.py:1265(addParseAction)\n",
      "        3    0.000    0.000    0.000    0.000 pyparsing.py:2004(__call__)\n",
      "        1    0.000    0.000    0.000    0.000 pyparsing.py:2953(CharsNotIn)\n",
      "        1    0.000    0.000    0.000    0.000 pyparsing.py:3234(ParseExpression)\n",
      "        2    0.000    0.000    0.000    0.000 cycler.py:468(cycler)\n",
      "        1    0.000    0.000    0.000    0.000 transforms.py:1655(AffineBase)\n",
      "        8    0.000    0.000    0.000    0.000 rrule.py:75(<genexpr>)\n",
      "        1    0.000    0.000    0.000    0.000 rrule.py:1281(rruleset)\n",
      "        1    0.000    0.000    0.000    0.000 ticker.py:790(LogFormatter)\n",
      "        1    0.000    0.000    0.000    0.000 scipy_sparse.py:5(<module>)\n",
      "       11    0.000    0.000    0.000    0.000 resample.py:133(_make_deprecated_binop)\n",
      "        1    0.000    0.000    0.000    0.000 plotting.py:9(<listcomp>)\n",
      "        2    0.000    0.000    0.000    0.000 parsers.py:499(_make_parser_function)\n",
      "        1    0.000    0.000    0.000    0.000 clipboards.py:1(<module>)\n",
      "        1    0.000    0.000    0.000    0.000 pytables.py:4278(AppendableMultiFrameTable)\n",
      "        1    0.000    0.000    0.000    0.000 table_schema.py:5(<module>)\n",
      "        1    0.000    0.000    0.000    0.000 <frozen importlib._bootstrap_external>:1336(_fix_up_module)\n",
      "       24    0.000    0.000    0.000    0.000 {method 'reverse' of 'list' objects}\n",
      "       50    0.000    0.000    0.000    0.000 {built-in method builtins.id}\n",
      "        2    0.000    0.000    0.000    0.000 {built-in method _locale.setlocale}\n",
      "        1    0.000    0.000    0.000    0.000 {method 'fileno' of '_io.TextIOWrapper' objects}\n",
      "        1    0.000    0.000    0.000    0.000 _collections_abc.py:252(__subclasshook__)\n",
      "        2    0.000    0.000    0.000    0.000 sre_compile.py:393(_generate_overlap_table)\n",
      "        3    0.000    0.000    0.000    0.000 subprocess.py:1355(_internal_poll)\n",
      "        1    0.000    0.000    0.000    0.000 threading.py:74(RLock)\n",
      "        2    0.000    0.000    0.000    0.000 platform.py:890(uname)\n",
      "        2    0.000    0.000    0.000    0.000 textwrap.py:146(_munge_whitespace)\n",
      "        2    0.000    0.000    0.000    0.000 textwrap.py:179(<listcomp>)\n",
      "        2    0.000    0.000    0.000    0.000 textwrap.py:356(fill)\n",
      "       11    0.000    0.000    0.000    0.000 {method 'getrandbits' of '_random.Random' objects}\n",
      "        1    0.000    0.000    0.000    0.000 {built-in method utcfromtimestamp}\n",
      "        1    0.000    0.000    0.000    0.000 syspathcontext.py:48(__enter__)\n",
      "        1    0.000    0.000    0.000    0.000 syspathcontext.py:55(__exit__)\n",
      "        4    0.000    0.000    0.000    0.000 version.py:207(<genexpr>)\n",
      "        3    0.000    0.000    0.000    0.000 iostream.py:87(_event_pipe)\n",
      "        2    0.000    0.000    0.000    0.000 iostream.py:284(_is_master_process)\n",
      "        2    0.000    0.000    0.000    0.000 {built-in method numpy.core.multiarray.arange}\n",
      "        6    0.000    0.000    0.000    0.000 numeric.py:463(asarray)\n",
      "        2    0.000    0.000    0.000    0.000 numeric.py:729(<genexpr>)\n",
      "       11    0.000    0.000    0.000    0.000 __init__.py:231(u)\n",
      "        1    0.000    0.000    0.000    0.000 __init__.py:376(OrderedDefaultdict)\n",
      "        2    0.000    0.000    0.000    0.000 {built-in method pandas._libs.lib.checknull}\n",
      "        1    0.000    0.000    0.000    0.000 config_init.py:494(_register_xlsx)\n",
      "        7    0.000    0.000    0.000    0.000 config.py:792(<listcomp>)\n",
      "        2    0.000    0.000    0.000    0.000 printing.py:52(<listcomp>)\n",
      "        1    0.000    0.000    0.000    0.000 cast.py:771(maybe_infer_to_datetimelike)\n",
      "        5    0.000    0.000    0.000    0.000 common.py:222(is_datetimetz)\n",
      "        3    0.000    0.000    0.000    0.000 common.py:296(is_datetime64_dtype)\n",
      "        4    0.000    0.000    0.000    0.000 common.py:371(is_timedelta64_dtype)\n",
      "        4    0.000    0.000    0.000    0.000 common.py:406(is_period_dtype)\n",
      "        2    0.000    0.000    0.000    0.000 common.py:1334(needs_i8_conversion)\n",
      "        1    0.000    0.000    0.000    0.000 common.py:1549(is_extension_type)\n",
      "        1    0.000    0.000    0.000    0.000 dtypes.py:126(__new__)\n",
      "        1    0.000    0.000    0.000    0.000 base.py:75(PandasObject)\n",
      "        3    0.000    0.000    0.000    0.000 nanops.py:48(check)\n",
      "        4    0.000    0.000    0.000    0.000 nanops.py:56(<genexpr>)\n",
      "        1    0.000    0.000    0.000    0.000 groupby.py:2389(Grouping)\n",
      "       10    0.000    0.000    0.000    0.000 base.py:528(__len__)\n",
      "        2    0.000    0.000    0.000    0.000 base.py:564(get_values)\n",
      "        2    0.000    0.000    0.000    0.000 base.py:1672(__getitem__)\n",
      "        1    0.000    0.000    0.000    0.000 base.py:1910(<listcomp>)\n",
      "        4    0.000    0.000    0.000    0.000 base.py:3750(_make_invalid_op)\n",
      "       12    0.000    0.000    0.000    0.000 ops.py:875(_bool_method_SERIES)\n",
      "        1    0.000    0.000    0.000    0.000 necompiler.py:77(ASTNode)\n",
      "        1    0.000    0.000    0.000    0.000 offsets.py:582(BusinessDay)\n",
      "        1    0.000    0.000    0.000    0.000 offsets.py:702(BusinessHourMixin)\n",
      "        1    0.000    0.000    0.000    0.000 offsets.py:1499(CustomBusinessMonthBegin)\n",
      "        1    0.000    0.000    0.000    0.000 offsets.py:2208(YearBegin)\n",
      "        1    0.000    0.000    0.000    0.000 frame.py:5595(_to_arrays)\n",
      "        1    0.000    0.000    0.000    0.000 generic.py:342(_get_axis_number)\n",
      "        2    0.000    0.000    0.000    0.000 generic.py:3067(__getattr__)\n",
      "        1    0.000    0.000    0.000    0.000 generic.py:3122(_protect_consolidate)\n",
      "        1    0.000    0.000    0.000    0.000 generic.py:3214(as_matrix)\n",
      "        1    0.000    0.000    0.000    0.000 internals.py:307(ftype)\n",
      "        1    0.000    0.000    0.000    0.000 internals.py:1450(NonConsolidatableMixIn)\n",
      "        1    0.000    0.000    0.000    0.000 internals.py:1833(ObjectBlock)\n",
      "        1    0.000    0.000    0.000    0.000 internals.py:2358(DatetimeTZBlock)\n",
      "        1    0.000    0.000    0.000    0.000 internals.py:3304(_consolidate_check)\n",
      "        1    0.000    0.000    0.000    0.000 format.py:172(_chk_truncate)\n",
      "        1    0.000    0.000    0.000    0.000 format.py:239(_get_formatted_values)\n",
      "        2    0.000    0.000    0.000    0.000 format.py:284(__init__)\n",
      "        1    0.000    0.000    0.000    0.000 format.py:298(EastAsianTextAdjustment)\n",
      "        1    0.000    0.000    0.000    0.000 format.py:1780(get_result)\n",
      "        1    0.000    0.000    0.000    0.000 format.py:1913(<listcomp>)\n",
      "        1    0.000    0.000    0.000    0.000 format.py:2261(_cond)\n",
      "        1    0.000    0.000    0.000    0.000 format.py:2301(EngFormatter)\n",
      "        1    0.000    0.000    0.000    0.000 window.py:719(_Rolling)\n",
      "        1    0.000    0.000    0.000    0.000 __init__.py:296(set_fileo)\n",
      "        4    0.000    0.000    0.000    0.000 __init__.py:324(wrap)\n",
      "        2    0.000    0.000    0.000    0.000 __init__.py:540(_get_home)\n",
      "        1    0.000    0.000    0.000    0.000 __init__.py:597(_get_xdg_config_dir)\n",
      "        1    0.000    0.000    0.000    0.000 cbook.py:336(_BoundMethodProxy)\n",
      "        1    0.000    0.000    0.000    0.000 cbook.py:1297(__init__)\n",
      "       11    0.000    0.000    0.000    0.000 rcsetup.py:76(_listify_validator)\n",
      "        2    0.000    0.000    0.000    0.000 rcsetup.py:112(validate_path_exists)\n",
      "        7    0.000    0.000    0.000    0.000 rcsetup.py:301(__init__)\n",
      "        2    0.000    0.000    0.000    0.000 rcsetup.py:329(__call__)\n",
      "        2    0.000    0.000    0.000    0.000 rcsetup.py:626(validate_bbox)\n",
      "        2    0.000    0.000    0.000    0.000 rcsetup.py:870(validate_hist_bins)\n",
      "        5    0.000    0.000    0.000    0.000 pyparsing.py:3923(__str__)\n",
      "        1    0.000    0.000    0.000    0.000 pyparsing.py:4141(__lshift__)\n",
      "        1    0.000    0.000    0.000    0.000 pyparsing.py:4212(Combine)\n",
      "        1    0.000    0.000    0.000    0.000 colors.py:584(LinearSegmentedColormap)\n",
      "        2    0.000    0.000    0.000    0.000 cycler.py:225(__iter__)\n",
      "        2    0.000    0.000    0.000    0.000 cycler.py:529(_cycler)\n",
      "        1    0.000    0.000    0.000    0.000 units.py:75(ConversionInterface)\n",
      "        1    0.000    0.000    0.000    0.000 dates.py:792(RRuleLocator)\n",
      "        1    0.000    0.000    0.000    0.000 transforms.py:59(TransformNode)\n",
      "        1    0.000    0.000    0.000    0.000 transforms.py:1534(TransformWrapper)\n",
      "        1    0.000    0.000    0.000    0.000 transforms.py:2672(TransformedPath)\n",
      "        1    0.000    0.000    0.000    0.000 ticker.py:336(FixedFormatter)\n",
      "        1    0.000    0.000    0.000    0.000 ticker.py:1245(Locator)\n",
      "        1    0.000    0.000    0.000    0.000 _core.py:898(LinePlot)\n",
      "        1    0.000    0.000    0.000    0.000 engines.py:40(AbstractEngine)\n",
      "        1    0.000    0.000    0.000    0.000 panelnd.py:1(<module>)\n",
      "        1    0.000    0.000    0.000    0.000 _depr_module.py:4(<module>)\n",
      "        1    0.000    0.000    0.000    0.000 merge.py:491(_MergeOperation)\n",
      "        1    0.000    0.000    0.000    0.000 parsers.py:1155(ParserBase)\n",
      "        1    0.000    0.000    0.000    0.000 parsers.py:1919(PythonParser)\n",
      "        1    0.000    0.000    0.000    0.000 excel.py:920(_Openpyxl20Writer)\n",
      "        1    0.000    0.000    0.000    0.000 pytables.py:30(Term)\n",
      "        1    0.000    0.000    0.000    0.000 html.py:384(_BeautifulSoupHtml5LibFrameParser)\n",
      "        1    0.000    0.000    0.000    0.000 sql.py:540(SQLTable)\n",
      "        1    0.000    0.000    0.000    0.000 sql.py:940(SQLDatabase)\n",
      "        1    0.000    0.000    0.000    0.000 feather_format.py:1(<module>)\n",
      "        1    0.000    0.000    0.003    0.003 testing.py:5(<module>)\n",
      "        8    0.000    0.000    0.000    0.000 {method 'keys' of 'dict' objects}\n",
      "        1    0.000    0.000    0.000    0.000 _collections_abc.py:349(__subclasshook__)\n",
      "        1    0.000    0.000    0.000    0.000 sre_parse.py:784(_parse_flags)\n",
      "        2    0.000    0.000    0.000    0.000 tokenize.py:379(read_or_stop)\n",
      "        2    0.000    0.000    0.000    0.000 locale.py:462(_parse_localename)\n",
      "        3    0.000    0.000    0.000    0.000 version.py:69(__ge__)\n",
      "        5    0.000    0.000    0.000    0.000 {method 'view' of 'numpy.ndarray' objects}\n",
      "        2    0.000    0.000    0.000    0.000 {built-in method numpy.core.multiarray.can_cast}\n",
      "        1    0.000    0.000    0.000    0.000 __init__.py:375(_FixedOffset)\n",
      "        1    0.000    0.000    0.000    0.000 __init__.py:117(lrange)\n",
      "        3    0.000    0.000    0.000    0.000 {pandas._libs.lib.values_from_object}\n",
      "        1    0.000    0.000    0.000    0.000 {built-in method pandas._libs.lib.array_equivalent_object}\n",
      "        1    0.000    0.000    0.000    0.000 config.py:178(__init__)\n",
      "        4    0.000    0.000    0.000    0.000 config.py:219(__init__)\n",
      "        2    0.000    0.000    0.000    0.000 config.py:477(deprecate_option)\n",
      "        1    0.000    0.000    0.000    0.000 printing.py:56(<listcomp>)\n",
      "        2    0.000    0.000    0.000    0.000 common.py:972(is_datetime64_any_dtype)\n",
      "        4    0.000    0.000    0.000    0.000 common.py:1508(is_bool_dtype)\n",
      "        3    0.000    0.000    0.000    0.000 dtypes.py:145(construct_from_string)\n",
      "        5    0.000    0.000    0.000    0.000 missing.py:26(isnull)\n",
      "        1    0.000    0.000    0.000    0.000 categorical.py:2043(CategoricalAccessor)\n",
      "        1    0.000    0.000    0.000    0.000 base.py:27(StringMixin)\n",
      "        3    0.000    0.000    0.000    0.000 base.py:736(_dispatch)\n",
      "        1    0.000    0.000    0.000    0.000 _decorators.py:227(docstring_wrapper)\n",
      "        2    0.000    0.000    0.000    0.000 nanops.py:446(_nanminmax)\n",
      "        1    0.000    0.000    0.000    0.000 groupby.py:337(GroupByPlot)\n",
      "        1    0.000    0.000    0.000    0.000 groupby.py:4291(PanelGroupBy)\n",
      "        1    0.000    0.000    0.000    0.000 groupby.py:4386(DataSplitter)\n",
      "        4    0.000    0.000    0.000    0.000 base.py:522(_reset_identity)\n",
      "        1    0.000    0.000    0.000    0.000 base.py:1884(format)\n",
      "        1    0.000    0.000    0.000    0.000 expressions.py:51(__init__)\n",
      "        1    0.000    0.000    0.000    0.000 utils.py:77(set_num_threads)\n",
      "        1    0.000    0.000    0.000    0.000 frequencies.py:27(FreqGroup)\n",
      "        8    0.000    0.000    0.000    0.000 frequencies.py:1221(<genexpr>)\n",
      "        7    0.000    0.000    0.000    0.000 offsets.py:202(<genexpr>)\n",
      "        1    0.000    0.000    0.000    0.000 offsets.py:947(CustomBusinessDay)\n",
      "        1    0.000    0.000    0.000    0.000 offsets.py:1142(MonthBegin)\n",
      "        1    0.000    0.000    0.000    0.000 offsets.py:1668(WeekOfMonth)\n",
      "        1    0.000    0.000    0.000    0.000 offsets.py:2018(QuarterBegin)\n",
      "        1    0.000    0.000    0.000    0.000 offsets.py:2482(FY5253Quarter)\n",
      "        1    0.000    0.000    0.000    0.000 offsets.py:2640(Easter)\n",
      "        1    0.000    0.000    0.000    0.000 easter.py:5(<module>)\n",
      "        1    0.000    0.000    0.000    0.000 generic.py:3135(f)\n",
      "        1    0.000    0.000    0.000    0.000 indexing.py:1770(_ScalarAccessIndexer)\n",
      "        4    0.000    0.000    0.000    0.000 internals.py:303(dtype)\n",
      "        1    0.000    0.000    0.000    0.000 internals.py:1677(DatetimeLikeBlockMixin)\n",
      "        1    0.000    0.000    0.000    0.000 internals.py:2214(DatetimeBlock)\n",
      "        3    0.000    0.000    0.000    0.000 internals.py:4194(dtype)\n",
      "        1    0.000    0.000    0.000    0.000 internals.py:4221(internal_values)\n",
      "        2    0.000    0.000    0.000    0.000 internals.py:4476(_asarray_compat)\n",
      "        1    0.000    0.000    0.000    0.000 format.py:293(adjoin)\n",
      "        1    0.000    0.000    0.000    0.000 format.py:1958(_format_strings)\n",
      "        1    0.000    0.000    0.000    0.000 format.py:2255(_trim_zeros)\n",
      "        1    0.000    0.000    0.000    0.000 csv.py:81(DictReader)\n",
      "        2    0.000    0.000    0.000    0.000 series.py:310(_set_subtyp)\n",
      "        3    0.000    0.000    0.000    0.000 series.py:331(dtype)\n",
      "        1    0.000    0.000    0.000    0.000 _converter.py:74(TimeConverter)\n",
      "        1    0.000    0.000    0.000    0.000 _converter.py:297(MilliSecondLocator)\n",
      "        1    0.000    0.000    0.000    0.000 _converter.py:871(TimeSeries_DateLocator)\n",
      "        2    0.000    0.000    0.000    0.000 __init__.py:285(set_level)\n",
      "        1    0.000    0.000    0.006    0.006 __init__.py:660(_get_configdir)\n",
      "        1    0.000    0.000    0.000    0.000 __init__.py:962(update)\n",
      "        1    0.000    0.000    0.000    0.000 __init__.py:1368(use)\n",
      "        1    0.000    0.000    0.000    0.000 cbook.py:1311(Stack)\n",
      "        2    0.000    0.000    0.000    0.000 rcsetup.py:550(validate_negative_linestyle_legacy)\n",
      "        2    0.000    0.000    0.000    0.000 rcsetup.py:602(validate_hinting)\n",
      "       16    0.000    0.000    0.000    0.000 pyparsing.py:294(__getitem__)\n",
      "        2    0.000    0.000    0.000    0.000 pyparsing.py:621(__getattr__)\n",
      "        1    0.000    0.000    0.000    0.000 pyparsing.py:1275(addCondition)\n",
      "        4    0.000    0.000    0.000    0.000 pyparsing.py:1998(__invert__)\n",
      "        3    0.000    0.000    0.000    0.000 pyparsing.py:2023(suppress)\n",
      "        1    0.000    0.000    0.000    0.000 pyparsing.py:2743(Regex)\n",
      "        2    0.000    0.000    0.000    0.000 pyparsing.py:3177(__init__)\n",
      "        1    0.000    0.000    0.000    0.000 pyparsing.py:3346(And)\n",
      "        1    0.000    0.000    0.000    0.000 pyparsing.py:3770(FollowedBy)\n",
      "        3    0.000    0.000    0.000    0.000 pyparsing.py:4270(__init__)\n",
      "        1    0.000    0.000    0.000    0.000 colors.py:281(ColorConverter)\n",
      "        1    0.000    0.000    0.000    0.000 dates.py:1320(MicrosecondLocator)\n",
      "        1    0.000    0.000    0.000    0.000 ticker.py:1345(IndexLocator)\n",
      "        1    0.000    0.000    0.000    0.000 ticker.py:2224(LogitLocator)\n",
      "        1    0.000    0.000    0.000    0.000 _core.py:2424(SeriesPlotMethods)\n",
      "        1    0.000    0.000    0.000    0.000 _core.py:2597(FramePlotMethods)\n",
      "        1    0.000    0.000    0.000    0.000 expr.py:686(PandasExprVisitor)\n",
      "        1    0.000    0.000    0.000    0.000 ops.py:178(Op)\n",
      "        1    0.000    0.000    0.000    0.000 ops.py:445(Div)\n",
      "        1    0.000    0.000    0.000    0.000 scope.py:80(Scope)\n",
      "        1    0.000    0.000    0.000    0.000 engines.py:100(NumExprEngine)\n",
      "       10    0.000    0.000    0.000    0.000 plotting.py:11(outer)\n",
      "        1    0.000    0.000    0.000    0.000 parsers.py:690(TextFileReader)\n",
      "        1    0.000    0.000    0.000    0.000 excel.py:1403(_XlwtWriter)\n",
      "        1    0.000    0.000    0.000    0.000 openpyxl_compat.py:5(<module>)\n",
      "        1    0.000    0.000    0.000    0.000 pytables.py:4104(AppendableFrameTable)\n",
      "        1    0.000    0.000    0.000    0.000 pytables.py:4229(GenericTable)\n",
      "        1    0.000    0.000    0.000    0.000 pytables.py:68(BinOp)\n",
      "        1    0.000    0.000    0.000    0.000 json.py:366(Parser)\n",
      "        1    0.000    0.000    0.000    0.000 sql.py:1254(SQLiteTable)\n",
      "        1    0.000    0.000    0.000    0.000 sql.py:1366(SQLiteDatabase)\n",
      "        1    0.000    0.000    0.000    0.000 stata.py:1854(StataWriter)\n",
      "        1    0.000    0.000    0.000    0.000 exceptions.py:1(<module>)\n",
      "        1    0.000    0.000    0.000    0.000 testing.py:71(set_testing_mode)\n",
      "        1    0.000    0.000    0.000    0.000 testing.py:2511(_AssertRaisesContextmanager)\n",
      "        2    0.000    0.000    0.000    0.000 {method 'strip' of 'bytes' objects}\n",
      "        4    0.000    0.000    0.000    0.000 {method 'insert' of 'list' objects}\n",
      "        8    0.000    0.000    0.000    0.000 {method 'pop' of 'dict' objects}\n",
      "        3    0.000    0.000    0.000    0.000 {built-in method posix.WIFSIGNALED}\n",
      "        2    0.000    0.000    0.000    0.000 {built-in method _functools.reduce}\n",
      "        1    0.000    0.000    0.000    0.000 {method 'seek' of '_io.BufferedReader' objects}\n",
      "        3    0.000    0.000    0.000    0.000 abc.py:9(abstractmethod)\n",
      "        2    0.000    0.000    0.000    0.000 weakref.py:288(update)\n",
      "        1    0.000    0.000    0.000    0.000 {built-in method math.log10}\n",
      "       34    0.000    0.000    0.000    0.000 copy.py:190(_deepcopy_atomic)\n",
      "        4    0.000    0.000    0.000    0.000 six.py:189(__get_module)\n",
      "        1    0.000    0.000    0.000    0.000 tempfile.py:97(_infer_return_type)\n",
      "        1    0.000    0.000    0.000    0.000 tempfile.py:235(_get_candidate_names)\n",
      "        2    0.000    0.000    0.000    0.000 _structures.py:33(__neg__)\n",
      "        7    0.000    0.000    0.000    0.000 _common.py:9(__init__)\n",
      "        1    0.000    0.000    0.000    0.000 {method 'copy' of 'numpy.ndarray' objects}\n",
      "        2    0.000    0.000    0.000    0.000 {method 'fill' of 'numpy.ndarray' objects}\n",
      "        1    0.000    0.000    0.000    0.000 _methods.py:25(_amax)\n",
      "        2    0.000    0.000    0.000    0.000 basic.py:1854(_preorder_traversal)\n",
      "        1    0.000    0.000    0.000    0.000 lazy.py:13(LazyDict)\n",
      "        1    0.000    0.000    0.000    0.000 lazy.py:67(LazyList)\n",
      "        1    0.000    0.000    0.000    0.000 tzinfo.py:69(StaticTzInfo)\n",
      "        1    0.000    0.000    0.000    0.000 tzinfo.py:149(DstTzInfo)\n",
      "        1    0.000    0.000    0.000    0.000 tzfile.py:16(_byte_string)\n",
      "        1    0.000    0.000    0.000    0.000 __init__.py:183(itervalues)\n",
      "        1    0.000    0.000    0.000    0.000 chainmap.py:1(<module>)\n",
      "        3    0.000    0.000    0.000    0.000 {built-in method pandas._libs.lib.is_integer}\n",
      "        1    0.000    0.000    0.000    0.000 config.py:170(get_default_val)\n",
      "        3    0.000    0.000    0.000    0.000 printing.py:47(justify)\n",
      "        3    0.000    0.000    0.000    0.000 printing.py:59(_join_unicode)\n",
      "        1    0.000    0.000    0.000    0.000 algorithms.py:994(SelectN)\n",
      "        1    0.000    0.000    0.000    0.000 algorithms.py:1078(SelectNFrame)\n",
      "        3    0.000    0.000    0.000    0.000 common.py:740(is_integer_dtype)\n",
      "        3    0.000    0.000    0.000    0.000 common.py:1099(is_datetime_or_timedelta_dtype)\n",
      "        5    0.000    0.000    0.000    0.000 common.py:1456(is_float_dtype)\n",
      "        1    0.000    0.000    0.001    0.001 base.py:42(__str__)\n",
      "        1    0.000    0.000    0.000    0.000 base.py:165(PandasDelegate)\n",
      "        1    0.000    0.000    0.000    0.000 base.py:230(AccessorProperty)\n",
      "        1    0.000    0.000    0.000    0.000 base.py:733(GroupByMixin)\n",
      "        1    0.000    0.000    0.000    0.000 _decorators.py:100(Substitution)\n",
      "        1    0.000    0.000    0.000    0.000 nanops.py:42(disallow)\n",
      "        1    0.000    0.000    0.000    0.000 nanops.py:252(_wrap_results)\n",
      "        1    0.000    0.000    0.000    0.000 nanops.py:754(_ensure_numeric)\n",
      "        4    0.000    0.000    0.000    0.000 missing.py:449(_interp_wrapper)\n",
      "        1    0.000    0.000    0.000    0.000 base.py:1578(is_all_dates)\n",
      "        6    0.000    0.000    0.000    0.000 base.py:3706(_make_compare)\n",
      "        1    0.000    0.000    0.000    0.000 frozen.py:84(FrozenNDArray)\n",
      "        1    0.000    0.000    0.000    0.000 __config__.py:3(<module>)\n",
      "        1    0.000    0.000    0.000    0.000 utils.py:136(CacheDict)\n",
      "        1    0.000    0.000    0.000    0.000 test_numexpr.py:564(Skip)\n",
      "        1    0.000    0.000    0.000    0.000 test_numexpr.py:671(test_int64)\n",
      "        1    0.000    0.000    0.000    0.000 test_numexpr.py:721(test_uint32_int64)\n",
      "        6    0.000    0.000    0.000    0.000 category.py:644(_make_compare)\n",
      "        2    0.000    0.000    0.000    0.000 range.py:152(_validate_dtype)\n",
      "        6    0.000    0.000    0.000    0.000 timedeltas.py:39(_td_index_cmp)\n",
      "        1    0.000    0.000    0.000    0.000 frequencies.py:92(<listcomp>)\n",
      "        1    0.000    0.000    0.000    0.000 offsets.py:524(BusinessMixin)\n",
      "        1    0.000    0.000    0.000    0.000 offsets.py:1114(MonthEnd)\n",
      "        1    0.000    0.000    0.000    0.000 offsets.py:1375(BusinessMonthEnd)\n",
      "        1    0.000    0.000    0.000    0.000 offsets.py:1439(CustomBusinessMonthEnd)\n",
      "        8    0.000    0.000    0.000    0.000 offsets.py:1665(<genexpr>)\n",
      "        1    0.000    0.000    0.000    0.000 offsets.py:1765(LastWeekOfMonth)\n",
      "        1    0.000    0.000    0.000    0.000 offsets.py:2053(YearOffset)\n",
      "        1    0.000    0.000    0.000    0.000 offsets.py:2077(BYearEnd)\n",
      "        1    0.000    0.000    0.000    0.000 offsets.py:2145(YearEnd)\n",
      "        1    0.000    0.000    0.000    0.000 datetimelike.py:39(DatelikeOps)\n",
      "        6    0.000    0.000    0.000    0.000 datetimes.py:101(_dt_index_cmp)\n",
      "        1    0.000    0.000    0.000    0.000 frame.py:5764(<listcomp>)\n",
      "        1    0.000    0.000    0.000    0.000 frame.py:5748(_convert_object_array)\n",
      "       10    0.000    0.000    0.000    0.000 generic.py:236(<genexpr>)\n",
      "        1    0.000    0.000    0.000    0.000 indexing.py:29(get_indexers_list)\n",
      "        1    0.000    0.000    0.000    0.000 indexing.py:1555(_iLocIndexer)\n",
      "        7    0.000    0.000    0.000    0.000 internals.py:185(mgr_locs)\n",
      "        1    0.000    0.000    0.000    0.000 internals.py:1574(FloatBlock)\n",
      "        1    0.000    0.000    0.000    0.000 internals.py:1654(IntBlock)\n",
      "        1    0.000    0.000    0.000    0.000 internals.py:1801(BoolBlock)\n",
      "        4    0.000    0.000    0.000    0.000 internals.py:2897(_get_items)\n",
      "        3    0.000    0.000    0.000    0.000 internals.py:2986(__len__)\n",
      "        2    0.000    0.000    0.000    0.000 internals.py:3003(<genexpr>)\n",
      "        1    0.000    0.000    0.000    0.000 internals.py:3438(as_matrix)\n",
      "        2    0.000    0.000    0.000    0.000 internals.py:4445(<lambda>)\n",
      "        1    0.000    0.000    0.000    0.000 internals.py:4482(_shape_compat)\n",
      "        1    0.000    0.000    0.000    0.000 format.py:96(CategoricalFormatter)\n",
      "        1    0.000    0.000    0.000    0.000 format.py:227(_get_formatted_index)\n",
      "        1    0.000    0.000    0.000    0.000 format.py:332(TableFormatter)\n",
      "        1    0.000    0.000    0.000    0.000 format.py:1836(__init__)\n",
      "        1    0.000    0.000    0.000    0.000 format.py:2250(<listcomp>)\n",
      "        1    0.000    0.000    0.000    0.000 format.py:2262(<listcomp>)\n",
      "        1    0.000    0.000    0.000    0.000 format.py:2263(<listcomp>)\n",
      "        1    0.000    0.000    0.000    0.000 format.py:2270(<listcomp>)\n",
      "        1    0.000    0.000    0.000    0.000 csv.py:24(Dialect)\n",
      "        1    0.000    0.000    0.000    0.000 csv.py:166(Sniffer)\n",
      "        3    0.000    0.000    0.000    0.000 series.py:90(_coerce_method)\n",
      "        2    0.000    0.000    0.000    0.000 series.py:461(__len__)\n",
      "        1    0.000    0.000    0.000    0.000 accessors.py:176(TimedeltaProperties)\n",
      "        1    0.000    0.000    0.000    0.000 window.py:1290(RollingGroupby)\n",
      "        1    0.000    0.000    0.000    0.000 _converter.py:103(TimeFormatter)\n",
      "        1    0.000    0.000    0.000    0.000 _converter.py:127(PeriodConverter)\n",
      "        1    0.000    0.000    0.000    0.000 _converter.py:953(TimeSeries_DateFormatter)\n",
      "        1    0.000    0.000    0.000    0.000 __init__.py:281(__init__)\n",
      "        1    0.000    0.000    0.000    0.000 __init__.py:697(_decode_filesystem_path)\n",
      "        1    0.000    0.000    0.000    0.000 __init__.py:1031(is_url)\n",
      "        1    0.000    0.000    0.000    0.000 __init__.py:1314(rc_context)\n",
      "        1    0.000    0.000    0.000    0.000 cbook.py:974(Null)\n",
      "        1    0.000    0.000    0.000    0.000 cbook.py:1641(Grouper)\n",
      "        1    0.000    0.000    0.000    0.000 cbook.py:2152(<listcomp>)\n",
      "        1    0.000    0.000    0.000    0.000 cbook.py:2338(_NestedClassGetter)\n",
      "        1    0.000    0.000    0.000    0.000 cbook.py:2710(Locked)\n",
      "        2    0.000    0.000    0.000    0.000 rcsetup.py:165(validate_float_or_None)\n",
      "        2    0.000    0.000    0.000    0.000 rcsetup.py:221(validate_int_or_None)\n",
      "        2    0.000    0.000    0.000    0.000 rcsetup.py:341(<listcomp>)\n",
      "        2    0.000    0.000    0.000    0.000 rcsetup.py:500(update_savefig_format)\n",
      "        2    0.000    0.000    0.000    0.000 rcsetup.py:561(validate_corner_mask)\n",
      "        9    0.000    0.000    0.000    0.000 rcsetup.py:656(__init__)\n",
      "        2    0.000    0.000    0.000    0.000 pyparsing.py:643(<lambda>)\n",
      "        1    0.000    0.000    0.000    0.000 pyparsing.py:2354(__init__)\n",
      "        1    0.000    0.000    0.000    0.000 pyparsing.py:2417(Keyword)\n",
      "        1    0.000    0.000    0.000    0.000 pyparsing.py:3024(White)\n",
      "        1    0.000    0.000    0.000    0.000 pyparsing.py:3422(Or)\n",
      "        1    0.000    0.000    0.000    0.000 pyparsing.py:3693(ParseElementEnhance)\n",
      "        1    0.000    0.000    0.000    0.000 pyparsing.py:3901(ZeroOrMore)\n",
      "        1    0.000    0.000    0.000    0.000 pyparsing.py:4138(__init__)\n",
      "        1    0.000    0.000    0.000    0.000 pyparsing.py:4119(Forward)\n",
      "        4    0.000    0.000    0.000    0.000 pyparsing.py:4361(postParse)\n",
      "        1    0.000    0.000    0.001    0.001 pyparsing.py:4882(makeHTMLTags)\n",
      "        1    0.000    0.000    0.000    0.000 colors.py:402(Colormap)\n",
      "        1    0.000    0.000    0.000    0.000 colors.py:969(SymLogNorm)\n",
      "        1    0.000    0.000    0.000    0.000 units.py:121(__init__)\n",
      "        1    0.000    0.000    0.000    0.000 dates.py:155(_UTC)\n",
      "        1    0.000    0.000    0.000    0.000 dates.py:290(bytespdate2num)\n",
      "        1    0.000    0.000    0.000    0.000 dates.py:705(rrulewrapper)\n",
      "        1    0.000    0.000    0.000    0.000 transforms.py:1060(TransformedBbox)\n",
      "        1    0.000    0.000    0.000    0.000 transforms.py:2193(BlendedAffine2D)\n",
      "        1    0.000    0.000    0.000    0.000 transforms.py:2409(CompositeAffine2D)\n",
      "        1    0.000    0.000    0.000    0.000 rrule.py:91(rrulebase)\n",
      "        1    0.000    0.000    0.000    0.000 rrule.py:302(rrule)\n",
      "        1    0.000    0.000    0.000    0.000 rrule.py:1086(_iterinfo)\n",
      "        1    0.000    0.000    0.000    0.000 ticker.py:203(_DummyAxis)\n",
      "        1    0.000    0.000    0.000    0.000 ticker.py:229(TickHelper)\n",
      "        1    0.000    0.000    0.000    0.000 ticker.py:250(Formatter)\n",
      "        1    0.000    0.000    0.000    0.000 ticker.py:408(StrMethodFormatter)\n",
      "        1    0.000    0.000    0.000    0.000 ticker.py:1147(EngFormatter)\n",
      "        1    0.000    0.000    0.000    0.000 ticker.py:1859(LogLocator)\n",
      "        1    0.000    0.000    0.000    0.000 ticker.py:2054(SymmetricalLogLocator)\n",
      "        1    0.000    0.000    0.000    0.000 ticker.py:2391(OldAutoLocator)\n",
      "        1    0.000    0.000    0.000    0.000 _core.py:769(PlanePlot)\n",
      "        1    0.000    0.000    0.000    0.000 _core.py:1056(AreaPlot)\n",
      "        1    0.000    0.000    0.000    0.000 _core.py:1246(BarhPlot)\n",
      "        1    0.000    0.000    0.000    0.000 _core.py:1268(HistPlot)\n",
      "        1    0.000    0.000    0.000    0.000 _core.py:1349(KdePlot)\n",
      "        1    0.000    0.000    0.000    0.000 expr.py:705(Expr)\n",
      "        1    0.000    0.000    0.000    0.000 ops.py:156(Constant)\n",
      "        1    0.000    0.000    0.000    0.000 ops.py:315(BinOp)\n",
      "        1    0.000    0.000    0.000    0.000 ops.py:478(UnaryOp)\n",
      "        1    0.000    0.000    0.000    0.000 align.py:44(_filter_special_cases)\n",
      "        1    0.000    0.000    0.000    0.000 reshape.py:37(_Unstacker)\n",
      "        1    0.000    0.000    0.000    0.000 resample.py:627(_GroupByMixin)\n",
      "        1    0.000    0.000    0.000    0.000 resample.py:670(DatetimeIndexResampler)\n",
      "        1    0.000    0.000    0.000    0.000 resample.py:787(PeriodIndexResampler)\n",
      "        1    0.000    0.000    0.000    0.000 resample.py:991(TimeGrouper)\n",
      "        1    0.000    0.000    0.000    0.000 _depr_module.py:10(_DeprecatedModule)\n",
      "        1    0.000    0.000    0.000    0.000 concat.py:210(_Concatenator)\n",
      "        1    0.000    0.000    0.000    0.000 merge.py:1102(_AsOfMerge)\n",
      "        1    0.000    0.000    0.000    0.000 parsers.py:1584(CParserWrapper)\n",
      "        1    0.000    0.000    0.000    0.000 excel.py:215(ExcelFile)\n",
      "        1    0.000    0.000    0.000    0.000 excel.py:793(_Openpyxl1Writer)\n",
      "        1    0.000    0.000    0.000    0.000 pytables.py:3856(LegacyFrameTable)\n",
      "        1    0.000    0.000    0.000    0.000 pytables.py:3874(AppendableTable)\n",
      "        1    0.000    0.000    0.000    0.000 pytables.py:4171(AppendableSeriesTable)\n",
      "        1    0.000    0.000    0.000    0.000 html.py:484(_LxmlFrameParser)\n",
      "        1    0.000    0.000    0.000    0.000 sasreader.py:3(<module>)\n",
      "        1    0.000    0.000    0.000    0.000 testing.py:2181(optional_args)\n",
      "        1    0.000    0.000    0.000    0.000 testing.py:2748(SubclassedSeries)\n",
      "        1    0.000    0.000    0.000    0.000 {method 'copy' of 'mappingproxy' objects}\n",
      "        4    0.000    0.000    0.000    0.000 {method 'setdefault' of 'dict' objects}\n",
      "        5    0.000    0.000    0.000    0.000 {method 'values' of 'dict' objects}\n",
      "        2    0.000    0.000    0.000    0.000 {method 'update' of 'set' objects}\n",
      "        2    0.000    0.000    0.000    0.000 {method 'title' of 'str' objects}\n",
      "        2    0.000    0.000    0.000    0.000 {method 'find' of 'str' objects}\n",
      "        2    0.000    0.000    0.000    0.000 {method 'rjust' of 'str' objects}\n",
      "        1    0.000    0.000    0.000    0.000 {built-in method sys.getdefaultencoding}\n",
      "        3    0.000    0.000    0.000    0.000 {built-in method posix.getpid}\n",
      "        4    0.000    0.000    0.000    0.000 {built-in method _stat.S_ISDIR}\n",
      "        1    0.000    0.000    0.000    0.000 {method 'write' of '_io.BufferedRandom' objects}\n",
      "        1    0.000    0.000    0.000    0.000 {method 'write' of '_io.StringIO' objects}\n",
      "        1    0.000    0.000    0.000    0.000 traitlets.py:526(get)\n",
      "        1    0.000    0.000    0.000    0.000 traitlets.py:545(__get__)\n",
      "        1    0.000    0.000    0.000    0.000 six.py:114(_resolve)\n",
      "        1    0.000    0.000    0.000    0.000 six.py:574(iterkeys)\n",
      "        1    0.000    0.000    0.000    0.000 builtin_trap.py:39(__enter__)\n",
      "        1    0.000    0.000    0.000    0.000 syspathcontext.py:45(__init__)\n",
      "        3    0.000    0.000    0.000    0.000 version.py:298(_parse_letter_version)\n",
      "        1    0.000    0.000    0.000    0.000 version.py:332(_parse_local_version)\n",
      "        1    0.000    0.000    0.000    0.000 {method 'disable' of '_lsprof.Profiler' objects}\n",
      "        5    0.000    0.000    0.000    0.000 {method 'ravel' of 'numpy.ndarray' objects}\n",
      "        1    0.000    0.000    0.000    0.000 {method 'reshape' of 'numpy.ndarray' objects}\n",
      "        2    0.000    0.000    0.000    0.000 _methods.py:31(_sum)\n",
      "        1    0.000    0.000    0.000    0.000 __init__.py:292(_CountryTimezoneDict)\n",
      "        1    0.000    0.000    0.000    0.000 __init__.py:350(_CountryNameDict)\n",
      "        1    0.000    0.000    0.000    0.000 exceptions.py:42(NonExistentTimeError)\n",
      "        2    0.000    0.000    0.000    0.000 lazy.py:87(LazyList)\n",
      "        1    0.000    0.000    0.000    0.000 lazy.py:117(LazySet)\n",
      "        1    0.000    0.000    0.000    0.000 tzinfo.py:59(BaseTzInfo)\n",
      "        6    0.000    0.000    0.000    0.000 __init__.py:237(strlen)\n",
      "        1    0.000    0.000    0.000    0.000 __init__.py:327(add_metaclass)\n",
      "        1    0.000    0.000    0.000    0.000 __init__.py:406(is_platform_windows)\n",
      "        1    0.000    0.000    0.000    0.000 chainmap.py:7(DeepChainMap)\n",
      "        1    0.000    0.000    0.000    0.000 config.py:69(OptionError)\n",
      "        1    0.000    0.000    0.000    0.000 config.py:175(DictWrapper)\n",
      "        1    0.000    0.000    0.000    0.000 config.py:217(CallableDynamicDoc)\n",
      "        1    0.000    0.000    0.000    0.000 config.py:374(option_context)\n",
      "        5    0.000    0.000    0.000    0.000 config.py:741(is_type_factory)\n",
      "        1    0.000    0.000    0.000    0.000 printing.py:33(<listcomp>)\n",
      "        1    0.000    0.000    0.000    0.000 inference.py:337(is_named_tuple)\n",
      "        1    0.000    0.000    0.000    0.000 algorithms.py:1020(SelectNSeries)\n",
      "        2    0.000    0.000    0.000    0.000 common.py:787(is_signed_integer_dtype)\n",
      "        1    0.000    0.000    0.000    0.000 common.py:924(is_int_or_datetime_dtype)\n",
      "        1    0.000    0.000    0.000    0.000 dtypes.py:103(CategoricalDtypeType)\n",
      "        1    0.000    0.000    0.000    0.000 dtypes.py:390(IntervalDtypeType)\n",
      "        1    0.000    0.000    0.000    0.000 generic.py:57(_ABCGeneric)\n",
      "       10    0.000    0.000    0.000    0.000 common.py:57(outer)\n",
      "        1    0.000    0.000    0.000    0.000 __init__.py:30(ParserError)\n",
      "        6    0.000    0.000    0.000    0.000 categorical.py:45(_cat_compare_op)\n",
      "        1    0.000    0.000    0.000    0.000 base.py:138(NoNewAttributesMixin)\n",
      "        1    0.000    0.000    0.000    0.000 base.py:252(GroupByError)\n",
      "        1    0.000    0.000    0.000    0.000 base.py:256(DataError)\n",
      "        1    0.000    0.000    0.000    0.000 _decorators.py:156(Appender)\n",
      "        1    0.000    0.000    0.000    0.000 nanops.py:75(bottleneck_switch)\n",
      "        1    0.000    0.000    0.000    0.000 nanops.py:165(_get_fill_value)\n",
      "        1    0.000    0.000    0.000    0.000 nanops.py:242(_na_ok_dtype)\n",
      "        1    0.000    0.000    0.000    0.000 function.py:38(__call__)\n",
      "        1    0.000    0.000    0.000    0.000 function.py:29(CompatValidator)\n",
      "        1    0.000    0.000    0.000    0.000 groupby.py:4434(ArraySplitter)\n",
      "        1    0.000    0.000    0.000    0.000 groupby.py:4444(FrameSplitter)\n",
      "        1    0.000    0.000    0.000    0.000 groupby.py:4469(NDFrameSplitter)\n",
      "        1    0.000    0.000    0.000    0.000 base.py:502(is_)\n",
      "        2    0.000    0.000    0.000    0.000 base.py:549(dtype)\n",
      "       12    0.000    0.000    0.000    0.000 ops.py:749(_comp_method_SERIES)\n",
      "        2    0.000    0.000    0.000    0.000 cpuinfo.py:101(<lambda>)\n",
      "        1    0.000    0.000    0.000    0.000 cpuinfo.py:83(CPUInfoBase)\n",
      "        1    0.000    0.000    0.000    0.000 cpuinfo.py:522(NetBSDCPUInfo)\n",
      "        1    0.000    0.000    0.000    0.000 expressions.py:50(Expression)\n",
      "        1    0.000    0.000    0.000    0.000 expressions.py:67(Context)\n",
      "        1    0.000    0.000    0.000    0.000 expressions.py:483(VariableNode)\n",
      "        1    0.000    0.000    0.000    0.000 expressions.py:490(RawNode)\n",
      "        1    0.000    0.000    0.000    0.000 expressions.py:509(ConstantNode)\n",
      "        1    0.000    0.000    0.000    0.000 expressions.py:526(OpNode)\n",
      "        1    0.000    0.000    0.000    0.000 necompiler.py:216(Register)\n",
      "        1    0.000    0.000    0.000    0.000 necompiler.py:245(Immediate)\n",
      "        1    0.000    0.000    0.000    0.000 test_numexpr.py:294(test_numexpr2)\n",
      "        1    0.000    0.000    0.000    0.000 test_numexpr.py:858(test_irregular_stride)\n",
      "        1    0.000    0.000    0.000    0.000 test_numexpr.py:876(test_zerodim)\n",
      "        1    0.000    0.000    0.000    0.000 test_numexpr.py:912(test_threading_config)\n",
      "        1    0.000    0.000    0.000    0.000 test_numexpr.py:924(test_threading)\n",
      "        1    0.000    0.000    0.000    0.000 test_numexpr.py:968(test_subprocess)\n",
      "        1    0.000    0.000    0.000    0.000 version.py:11(<module>)\n",
      "        1    0.000    0.000    0.000    0.000 expressions.py:34(set_use_numexpr)\n",
      "        6    0.000    0.000    0.000    0.000 range.py:543(_make_evaluate_binop)\n",
      "        1    0.000    0.000    0.000    0.000 frequencies.py:106(<listcomp>)\n",
      "        1    0.000    0.000    0.000    0.000 frequencies.py:1038(_TimedeltaFrequencyInferer)\n",
      "        1    0.000    0.000    0.000    0.000 offsets.py:126(ApplyTypeError)\n",
      "        1    0.000    0.000    0.000    0.000 offsets.py:131(CacheableOffset)\n",
      "        1    0.000    0.000    0.000    0.000 offsets.py:514(SingleConstructorOffset)\n",
      "        1    0.000    0.000    0.000    0.000 offsets.py:924(BusinessHour)\n",
      "        1    0.000    0.000    0.000    0.000 offsets.py:1073(CustomBusinessHour)\n",
      "        1    0.000    0.000    0.000    0.000 offsets.py:1103(MonthOffset)\n",
      "        1    0.000    0.000    0.000    0.000 offsets.py:1258(SemiMonthEnd)\n",
      "        1    0.000    0.000    0.000    0.000 offsets.py:1317(SemiMonthBegin)\n",
      "        1    0.000    0.000    0.000    0.000 offsets.py:1645(WeekDay)\n",
      "        1    0.000    0.000    0.000    0.000 offsets.py:1845(QuarterOffset)\n",
      "        1    0.000    0.000    0.000    0.000 offsets.py:1882(BQuarterEnd)\n",
      "       13    0.000    0.000    0.000    0.000 offsets.py:1929(<genexpr>)\n",
      "        1    0.000    0.000    0.000    0.000 offsets.py:1933(BQuarterBegin)\n",
      "        1    0.000    0.000    0.000    0.000 offsets.py:2113(BYearBegin)\n",
      "        6    0.000    0.000    0.000    0.000 period.py:77(_period_index_cmp)\n",
      "        1    0.000    0.000    0.000    0.000 frame.py:5219(_get_agg_axis)\n",
      "        1    0.000    0.000    0.000    0.000 generic.py:3132(_consolidate_inplace)\n",
      "        1    0.000    0.000    0.000    0.000 generic.py:3256(values)\n",
      "        1    0.000    0.000    0.000    0.000 indexing.py:45(_IndexSlice)\n",
      "        1    0.000    0.000    0.000    0.000 indexing.py:84(IndexingError)\n",
      "        1    0.000    0.000    0.000    0.000 indexing.py:1262(_IXIndexer)\n",
      "        1    0.000    0.000    0.000    0.000 indexing.py:1314(_LocationIndexer)\n",
      "        1    0.000    0.000    0.000    0.000 indexing.py:1364(_LocIndexer)\n",
      "        1    0.000    0.000    0.000    0.000 indexing.py:1805(_AtIndexer)\n",
      "        1    0.000    0.000    0.000    0.000 indexing.py:1837(_iAtIndexer)\n",
      "        1    0.000    0.000    0.000    0.000 internals.py:154(internal_values)\n",
      "        1    0.000    0.000    0.000    0.000 internals.py:1558(NumericBlock)\n",
      "        1    0.000    0.000    0.000    0.000 internals.py:1564(FloatOrComplexBlock)\n",
      "        1    0.000    0.000    0.000    0.000 internals.py:1631(ComplexBlock)\n",
      "        1    0.000    0.000    0.000    0.000 internals.py:2780(<listcomp>)\n",
      "        2    0.000    0.000    0.000    0.000 internals.py:3296(is_consolidated)\n",
      "        1    0.000    0.000    0.000    0.000 internals.py:3305(<listcomp>)\n",
      "        1    0.000    0.000    0.000    0.000 internals.py:3560(consolidate)\n",
      "        1    0.000    0.000    0.000    0.000 internals.py:3576(_consolidate_inplace)\n",
      "        4    0.000    0.000    0.000    0.000 internals.py:4124(_block)\n",
      "        1    0.000    0.000    0.000    0.000 format.py:150(SeriesFormatter)\n",
      "        1    0.000    0.000    0.000    0.000 format.py:282(TextAdjustment)\n",
      "        1    0.000    0.000    0.000    0.000 format.py:823(LatexFormatter)\n",
      "        1    0.000    0.000    0.000    0.000 format.py:1472(CSVFormatter)\n",
      "        1    0.000    0.000    0.000    0.000 format.py:1764(GenericArrayFormatter)\n",
      "        3    0.000    0.000    0.000    0.000 format.py:1938(<genexpr>)\n",
      "        1    0.000    0.000    0.000    0.000 format.py:1831(FloatArrayFormatter)\n",
      "        1    0.000    0.000    0.000    0.000 format.py:1974(Datetime64Formatter)\n",
      "        1    0.000    0.000    0.000    0.000 format.py:2158(Datetime64TZFormatter)\n",
      "        1    0.000    0.000    0.000    0.000 format.py:2173(Timedelta64Formatter)\n",
      "        1    0.000    0.000    0.000    0.000 common.py:80(BaseIterator)\n",
      "        1    0.000    0.000    0.000    0.000 common.py:413(MMapWrapper)\n",
      "        1    0.000    0.000    0.000    0.000 common.py:456(UTF8Recoder)\n",
      "        1    0.000    0.000    0.000    0.000 csv.py:55(excel)\n",
      "        1    0.000    0.000    0.000    0.000 csv.py:131(DictWriter)\n",
      "        1    0.000    0.000    0.000    0.000 common.py:4(<module>)\n",
      "        2    0.000    0.000    0.000    0.000 series.py:324(name)\n",
      "        1    0.000    0.000    0.000    0.000 series.py:384(_values)\n",
      "        1    0.000    0.000    0.000    0.000 accessors.py:87(Properties)\n",
      "        1    0.000    0.000    0.000    0.000 accessors.py:148(DatetimeProperties)\n",
      "        1    0.000    0.000    0.000    0.000 accessors.py:241(CombinedDatetimelikeProperties)\n",
      "        1    0.000    0.000    0.000    0.000 window.py:1532(ExpandingGroupby)\n",
      "        1    0.000    0.000    0.000    0.000 _converter.py:256(PandasAutoDateFormatter)\n",
      "        1    0.000    0.000    0.000    0.000 _converter.py:272(PandasAutoDateLocator)\n",
      "        1    0.000    0.000    0.000    0.000 _converter.py:1019(TimeSeries_TimedeltaFormatter)\n",
      "        1    0.000    0.000    0.000    0.000 __init__.py:263(<listcomp>)\n",
      "        1    0.000    0.000    0.000    0.000 __init__.py:1437(is_interactive)\n",
      "        1    0.000    0.000    0.000    0.000 cbook.py:36(MatplotlibDeprecationWarning)\n",
      "        1    0.000    0.000    0.000    0.000 cbook.py:261(converter)\n",
      "        1    0.000    0.000    0.000    0.000 cbook.py:279(tostr)\n",
      "        1    0.000    0.000    0.000    0.000 cbook.py:285(todatetime)\n",
      "        1    0.000    0.000    0.000    0.000 cbook.py:299(todate)\n",
      "        1    0.000    0.000    0.000    0.000 cbook.py:441(CallbackRegistry)\n",
      "        1    0.000    0.000    0.000    0.000 cbook.py:559(silent_list)\n",
      "        1    0.000    0.000    0.000    0.000 cbook.py:650(Bunch)\n",
      "        1    0.000    0.000    0.000    0.000 cbook.py:866(Sorter)\n",
      "        1    0.000    0.000    0.000    0.000 cbook.py:914(Xlator)\n",
      "        1    0.000    0.000    0.000    0.000 cbook.py:1025(__init__)\n",
      "        1    0.000    0.000    0.000    0.000 cbook.py:1024(GetRealpathAndStat)\n",
      "        1    0.000    0.000    0.000    0.000 cbook.py:1058(__Full)\n",
      "        1    0.000    0.000    0.000    0.000 cbook.py:1052(RingBuffer)\n",
      "        1    0.000    0.000    0.000    0.000 cbook.py:1291(maxdict)\n",
      "        1    0.000    0.000    0.000    0.000 cbook.py:2358(_InstanceMethodPickler)\n",
      "        1    0.000    0.000    0.000    0.000 cbook.py:2724(TimeoutError)\n",
      "        1    0.000    0.000    0.000    0.000 rcsetup.py:54(ValidateInStrings)\n",
      "        2    0.000    0.000    0.000    0.000 rcsetup.py:134(validate_bool_maybe_none)\n",
      "        2    0.000    0.000    0.000    0.000 rcsetup.py:180(validate_string_or_None)\n",
      "        2    0.000    0.000    0.000    0.000 rcsetup.py:202(validate_dpi)\n",
      "        1    0.000    0.000    0.000    0.000 rcsetup.py:300(validate_nseq_float)\n",
      "        4    0.000    0.000    0.000    0.000 rcsetup.py:346(validate_color_or_inherit)\n",
      "        2    0.000    0.000    0.000    0.000 rcsetup.py:353(validate_color_or_auto)\n",
      "        3    0.000    0.000    0.000    0.000 rcsetup.py:517(validate_ps_distiller)\n",
      "        2    0.000    0.000    0.000    0.000 rcsetup.py:639(validate_sketch)\n",
      "        1    0.000    0.000    0.000    0.000 rcsetup.py:652(ValidateInterval)\n",
      "        1    0.000    0.000    0.000    0.000 pyparsing.py:160(<genexpr>)\n",
      "        1    0.000    0.000    0.000    0.000 pyparsing.py:238(ParseException)\n",
      "        1    0.000    0.000    0.000    0.000 pyparsing.py:259(ParseFatalException)\n",
      "        1    0.000    0.000    0.000    0.000 pyparsing.py:283(RecursiveGrammarException)\n",
      "        1    0.000    0.000    0.000    0.000 pyparsing.py:291(_ParseResultsWithOffset)\n",
      "        4    0.000    0.000    0.000    0.000 pyparsing.py:434(__len__)\n",
      "        1    0.000    0.000    0.000    0.000 pyparsing.py:1433(_UnboundedCache)\n",
      "        1    0.000    0.000    0.000    0.000 pyparsing.py:2361(NoMatch)\n",
      "        1    0.000    0.000    0.000    0.000 pyparsing.py:2376(Literal)\n",
      "        1    0.000    0.000    0.000    0.000 pyparsing.py:2482(CaselessLiteral)\n",
      "        1    0.000    0.000    0.000    0.000 pyparsing.py:2505(CaselessKeyword)\n",
      "        1    0.000    0.000    0.000    0.000 pyparsing.py:2523(CloseMatch)\n",
      "        1    0.000    0.000    0.000    0.000 pyparsing.py:2584(Word)\n",
      "        1    0.000    0.000    0.000    0.000 pyparsing.py:2816(QuotedString)\n",
      "        3    0.000    0.000    0.000    0.000 pyparsing.py:3042(<genexpr>)\n",
      "        1    0.000    0.000    0.000    0.000 pyparsing.py:3075(_PositionToken)\n",
      "        1    0.000    0.000    0.000    0.000 pyparsing.py:3082(GoToColumn)\n",
      "        1    0.000    0.000    0.000    0.000 pyparsing.py:3129(__init__)\n",
      "        1    0.000    0.000    0.000    0.000 pyparsing.py:3108(LineStart)\n",
      "        1    0.000    0.000    0.000    0.000 pyparsing.py:3138(LineEnd)\n",
      "        1    0.000    0.000    0.000    0.000 pyparsing.py:3162(__init__)\n",
      "        1    0.000    0.000    0.000    0.000 pyparsing.py:3158(StringStart)\n",
      "        1    0.000    0.000    0.000    0.000 pyparsing.py:3173(StringEnd)\n",
      "        1    0.000    0.000    0.000    0.000 pyparsing.py:3191(WordStart)\n",
      "        1    0.000    0.000    0.000    0.000 pyparsing.py:3211(WordEnd)\n",
      "        1    0.000    0.000    0.000    0.000 pyparsing.py:3331(setResultsName)\n",
      "        1    0.000    0.000    0.000    0.000 pyparsing.py:3501(MatchFirst)\n",
      "        1    0.000    0.000    0.000    0.000 pyparsing.py:3569(Each)\n",
      "        1    0.000    0.000    0.000    0.000 pyparsing.py:3796(NotAny)\n",
      "        1    0.000    0.000    0.000    0.000 pyparsing.py:3828(_MultipleMatch)\n",
      "        1    0.000    0.000    0.000    0.000 pyparsing.py:3892(__str__)\n",
      "        1    0.000    0.000    0.000    0.000 pyparsing.py:3866(OneOrMore)\n",
      "        1    0.000    0.000    0.000    0.000 pyparsing.py:3940(Optional)\n",
      "        1    0.000    0.000    0.000    0.000 pyparsing.py:4004(SkipTo)\n",
      "        1    0.000    0.000    0.000    0.000 pyparsing.py:4154(__ilshift__)\n",
      "        1    0.000    0.000    0.000    0.000 pyparsing.py:4200(_ForwardNoRecurse)\n",
      "        1    0.000    0.000    0.000    0.000 pyparsing.py:4204(TokenConverter)\n",
      "        6    0.000    0.000    0.000    0.000 pyparsing.py:4274(postParse)\n",
      "        1    0.000    0.000    0.000    0.000 pyparsing.py:4256(Group)\n",
      "        1    0.000    0.000    0.000    0.000 pyparsing.py:4313(__init__)\n",
      "        1    0.000    0.000    0.000    0.000 pyparsing.py:4277(Dict)\n",
      "        1    0.000    0.000    0.000    0.000 pyparsing.py:4368(OnlyOnce)\n",
      "        8    0.000    0.000    0.000    0.000 pyparsing.py:4761(<genexpr>)\n",
      "        1    0.000    0.000    0.000    0.000 colors.py:72(_ColorMapping)\n",
      "        1    0.000    0.000    0.000    0.000 colors.py:94(<dictcomp>)\n",
      "        1    0.000    0.000    0.000    0.000 colors.py:703(ListedColormap)\n",
      "        1    0.000    0.000    0.000    0.000 colors.py:775(Normalize)\n",
      "        1    0.000    0.000    0.000    0.000 colors.py:1161(BoundaryNorm)\n",
      "        1    0.000    0.000    0.000    0.000 colors.py:1399(LightSource)\n",
      "        4    0.000    0.000    0.000    0.000 cycler.py:371(<genexpr>)\n",
      "        1    0.000    0.000    0.000    0.000 units.py:117(Registry)\n",
      "        1    0.000    0.000    0.000    0.000 dates.py:274(strpdate2num)\n",
      "        1    0.000    0.000    0.000    0.000 dates.py:576(IndexDateFormatter)\n",
      "        1    0.000    0.000    0.000    0.000 dates.py:603(AutoDateFormatter)\n",
      "        1    0.000    0.000    0.000    0.000 transforms.py:2498(BboxTransform)\n",
      "        1    0.000    0.000    0.000    0.000 transforms.py:2542(BboxTransformTo)\n",
      "        1    0.000    0.000    0.000    0.000 transforms.py:2582(BboxTransformToMaxOnly)\n",
      "        1    0.000    0.000    0.000    0.000 transforms.py:2606(BboxTransformFrom)\n",
      "        1    0.000    0.000    0.000    0.000 transforms.py:2643(ScaledTranslation)\n",
      "        1    0.000    0.000    0.000    0.000 dates.py:1116(YearLocator)\n",
      "        1    0.000    0.000    0.000    0.000 dates.py:1180(MonthLocator)\n",
      "        1    0.000    0.000    0.000    0.000 dates.py:1205(WeekdayLocator)\n",
      "        1    0.000    0.000    0.000    0.000 dates.py:1260(HourLocator)\n",
      "        1    0.000    0.000    0.000    0.000 dates.py:1280(MinuteLocator)\n",
      "        1    0.000    0.000    0.000    0.000 dates.py:1300(SecondLocator)\n",
      "        1    0.000    0.000    0.000    0.000 rrule.py:64(weekday)\n",
      "        4    0.000    0.000    0.000    0.000 rrule.py:78(_invalidates_cache)\n",
      "        1    0.000    0.000    0.000    0.000 rrule.py:1289(_genitem)\n",
      "        1    0.000    0.000    0.000    0.000 ticker.py:303(IndexFormatter)\n",
      "        1    0.000    0.000    0.000    0.000 ticker.py:389(FormatStrFormatter)\n",
      "        1    0.000    0.000    0.000    0.000 ticker.py:429(OldScalarFormatter)\n",
      "        1    0.000    0.000    0.000    0.000 ticker.py:1026(LogFormatterExponent)\n",
      "        1    0.000    0.000    0.000    0.000 ticker.py:1042(LogFormatterMathtext)\n",
      "        1    0.000    0.000    0.000    0.000 ticker.py:1122(LogitFormatter)\n",
      "        1    0.000    0.000    0.000    0.000 ticker.py:1374(FixedLocator)\n",
      "        1    0.000    0.000    0.000    0.000 ticker.py:1440(LinearLocator)\n",
      "        1    0.000    0.000    0.000    0.000 ticker.py:1521(Base)\n",
      "        1    0.000    0.000    0.000    0.000 ticker.py:1562(MultipleLocator)\n",
      "        1    0.000    0.000    0.000    0.000 ticker.py:2316(AutoLocator)\n",
      "        1    0.000    0.000    0.000    0.000 ticker.py:2327(AutoMinorLocator)\n",
      "        1    0.000    0.000    0.000    0.000 _core.py:802(ScatterPlot)\n",
      "        1    0.000    0.000    0.000    0.000 _core.py:866(HexBinPlot)\n",
      "        1    0.000    0.000    0.000    0.000 _core.py:1401(PiePlot)\n",
      "        1    0.000    0.000    0.000    0.000 expr.py:697(PythonExprVisitor)\n",
      "        3    0.000    0.000    0.000    0.000 util.py:68(_compose2)\n",
      "        1    0.000    0.000    0.000    0.000 ops.py:523(MathCall)\n",
      "        1    0.000    0.000    0.000    0.000 ops.py:539(FuncNode)\n",
      "        1    0.000    0.000    0.000    0.000 engines.py:19(NumExprClobberingError)\n",
      "        1    0.000    0.000    0.000    0.000 engines.py:132(PythonEngine)\n",
      "        1    0.000    0.000    0.000    0.000 panel.py:1584(LongPanel)\n",
      "        1    0.000    0.000    0.000    0.000 sorting.py:261(_KeyMapper)\n",
      "        4    0.000    0.000    0.000    0.000 resample.py:141(_make_deprecated_unary)\n",
      "        1    0.000    0.000    0.000    0.000 resample.py:775(DatetimeIndexResamplerGroupby)\n",
      "        1    0.000    0.000    0.000    0.000 resample.py:918(PeriodIndexResamplerGroupby)\n",
      "        1    0.000    0.000    0.000    0.000 resample.py:930(TimedeltaIndexResampler)\n",
      "        1    0.000    0.000    0.000    0.000 resample.py:954(TimedeltaIndexResamplerGroupby)\n",
      "        1    0.000    0.000    0.000    0.000 merge.py:61(MergeError)\n",
      "        1    0.000    0.000    0.000    0.000 parsers.py:3208(FixedWidthReader)\n",
      "        1    0.000    0.000    0.000    0.000 parsers.py:3306(FixedWidthFieldParser)\n",
      "        1    0.000    0.000    0.000    0.000 excel.py:1328(_Openpyxl22Writer)\n",
      "        1    0.000    0.000    0.000    0.000 excel.py:1533(_XlsxWriter)\n",
      "        1    0.000    0.000    0.000    0.000 pytables.py:134(AttributeConflictWarning)\n",
      "        1    0.000    0.000    0.000    0.000 pytables.py:1357(TableIterator)\n",
      "        3    0.000    0.000    0.000    0.000 pytables.py:1496(set_name)\n",
      "        1    0.000    0.000    0.000    0.000 pytables.py:1735(GenericIndexCol)\n",
      "        1    0.000    0.000    0.000    0.000 pytables.py:1822(set_data)\n",
      "        1    0.000    0.000    0.000    0.000 pytables.py:1837(set_metadata)\n",
      "        1    0.000    0.000    0.000    0.000 pytables.py:2170(DataIndexableCol)\n",
      "        1    0.000    0.000    0.000    0.000 pytables.py:2369(<listcomp>)\n",
      "        1    0.000    0.000    0.000    0.000 pytables.py:2739(SeriesFixed)\n",
      "        1    0.000    0.000    0.000    0.000 pytables.py:2776(SparseSeriesFixed)\n",
      "        1    0.000    0.000    0.000    0.000 pytables.py:2800(SparseFrameFixed)\n",
      "        1    0.000    0.000    0.000    0.000 pytables.py:2833(BlockManagerFixed)\n",
      "        1    0.000    0.000    0.000    0.000 pytables.py:2917(FrameFixed)\n",
      "        1    0.000    0.000    0.000    0.000 pytables.py:2922(PanelFixed)\n",
      "        1    0.000    0.000    0.000    0.000 pytables.py:3728(WORMTable)\n",
      "        1    0.000    0.000    0.000    0.000 pytables.py:4315(AppendablePanelTable)\n",
      "        1    0.000    0.000    0.000    0.000 pytables.py:4632(Selection)\n",
      "        1    0.000    0.000    0.000    0.000 pytables.py:20(Scope)\n",
      "        1    0.000    0.000    0.000    0.000 pytables.py:226(FilterBinOp)\n",
      "        1    0.000    0.000    0.000    0.000 pytables.py:298(ConditionBinOp)\n",
      "        1    0.000    0.000    0.000    0.000 pytables.py:479(Expr)\n",
      "        1    0.000    0.000    0.000    0.000 pytables.py:566(TermValue)\n",
      "        1    0.000    0.000    0.000    0.000 json.py:60(Writer)\n",
      "        1    0.000    0.000    0.000    0.000 json.py:118(JSONTableWriter)\n",
      "        1    0.000    0.000    0.000    0.000 json.py:603(FrameParser)\n",
      "        1    0.000    0.000    0.000    0.000 sql.py:30(SQLAlchemyRequired)\n",
      "        1    0.000    0.000    0.000    0.000 sql.py:34(DatabaseError)\n",
      "        1    0.000    0.000    0.000    0.000 sql.py:926(PandasSQL)\n",
      "        1    0.000    0.000    0.000    0.000 stata.py:453(PossiblePrecisionLoss)\n",
      "        1    0.000    0.000    0.000    0.000 stata.py:577(StataValueLabel)\n",
      "        1    0.000    0.000    0.000    0.000 pickle_compat.py:111(Unpickler)\n",
      "        1    0.000    0.000    0.000    0.000 packers.py:712(Packer)\n",
      "        1    0.000    0.000    0.000    0.000 packers.py:728(Unpacker)\n",
      "        1    0.000    0.000    0.000    0.000 __init__.py:9(ExtType)\n",
      "        1    0.000    0.000    0.000    0.000 exceptions.py:9(OutOfData)\n",
      "        1    0.000    0.000    0.000    0.000 exceptions.py:13(UnpackValueError)\n",
      "        1    0.000    0.000    0.000    0.000 exceptions.py:17(ExtraData)\n",
      "        1    0.000    0.000    0.000    0.000 gbq.py:1(<module>)\n",
      "        1    0.000    0.000    0.000    0.000 testing.py:2406(SimpleMock)\n",
      "        1    0.000    0.000    0.000    0.000 testing.py:2660(RNGContext)\n",
      "        1    0.000    0.000    0.000    0.000 testing.py:2760(SubclassedDataFrame)\n",
      "        1    0.000    0.000    0.000    0.000 testing.py:2772(SubclassedSparseSeries)\n",
      "        1    0.000    0.000    0.000    0.000 testing.py:2784(SubclassedSparseDataFrame)\n",
      "        1    0.000    0.000    0.000    0.000 testing.py:2796(SubclassedCategorical)\n",
      "        1    0.000    0.000    0.000    0.000 _version.py:22(get_versions)\n",
      "        8    0.000    0.000    0.000    0.000 {method 'bit_length' of 'int' objects}\n",
      "        1    0.000    0.000    0.000    0.000 {method 'items' of 'collections.OrderedDict' objects}\n",
      "        1    0.000    0.000    0.000    0.000 {method 'discard' of 'set' objects}\n",
      "        4    0.000    0.000    0.000    0.000 {method 'ljust' of 'str' objects}\n",
      "        1    0.000    0.000    0.000    0.000 {method 'upper' of 'str' objects}\n",
      "        1    0.000    0.000    0.000    0.000 {built-in method builtins.globals}\n",
      "        1    0.000    0.000    0.000    0.000 {built-in method builtins.locals}\n",
      "        1    0.000    0.000    0.000    0.000 {built-in method builtins.sum}\n",
      "        6    0.000    0.000    0.000    0.000 {built-in method posix.WIFEXITED}\n",
      "        1    0.000    0.000    0.000    0.000 {method 'getvalue' of '_io.StringIO' objects}\n",
      "        2    0.000    0.000    0.000    0.000 posixpath.py:62(isabs)\n",
      "        1    0.000    0.000    0.000    0.000 sre_parse.py:885(addgroup)\n",
      "        3    0.000    0.000    0.000    0.000 threading.py:506(is_set)\n",
      "        1    0.000    0.000    0.000    0.000 {method 'toordinal' of 'datetime.date' objects}\n",
      "        2    0.000    0.000    0.000    0.000 calendar.py:53(<lambda>)\n",
      "        1    0.000    0.000    0.000    0.000 version.py:352(<lambda>)\n",
      "        1    0.000    0.000    0.000    0.000 exceptions.py:11(UnknownTimeZoneError)\n",
      "        1    0.000    0.000    0.000    0.000 exceptions.py:27(InvalidTimeError)\n",
      "        1    0.000    0.000    0.000    0.000 exceptions.py:31(AmbiguousTimeError)\n",
      "        2    0.000    0.000    0.000    0.000 lazy.py:140(LazySet)\n",
      "        1    0.000    0.000    0.000    0.000 config.py:578(_get_registered_option)\n",
      "        3    0.000    0.000    0.000    0.000 common.py:117(is_sparse)\n",
      "        2    0.000    0.000    0.000    0.000 common.py:836(is_unsigned_integer_dtype)\n",
      "        1    0.000    0.000    0.000    0.000 common.py:1419(is_string_like_dtype)\n",
      "        1    0.000    0.000    0.000    0.000 dtypes.py:158(DatetimeTZDtypeType)\n",
      "        1    0.000    0.000    0.000    0.000 dtypes.py:272(PeriodDtypeType)\n",
      "        2    0.000    0.000    0.000    0.000 missing.py:188(notnull)\n",
      "        1    0.000    0.000    0.000    0.000 common.py:80(SettingWithCopyError)\n",
      "        1    0.000    0.000    0.000    0.000 common.py:84(SettingWithCopyWarning)\n",
      "        1    0.000    0.000    0.000    0.000 common.py:88(AbstractMethodError)\n",
      "        3    0.000    0.000    0.000    0.000 api.py:68(outer)\n",
      "        1    0.000    0.000    0.000    0.000 __init__.py:8(PerformanceWarning)\n",
      "        1    0.000    0.000    0.000    0.000 __init__.py:14(UnsupportedFunctionCall)\n",
      "        1    0.000    0.000    0.000    0.000 __init__.py:20(UnsortedIndexError)\n",
      "        1    0.000    0.000    0.000    0.000 __init__.py:36(DtypeWarning)\n",
      "        1    0.000    0.000    0.000    0.000 __init__.py:44(EmptyDataError)\n",
      "        1    0.000    0.000    0.000    0.000 __init__.py:51(ParserWarning)\n",
      "        1    0.000    0.000    0.000    0.000 base.py:260(SpecificationError)\n",
      "        1    0.000    0.000    0.000    0.000 nanops.py:32(set_use_bottleneck)\n",
      "        1    0.000    0.000    0.000    0.000 nanops.py:246(_view_if_needed)\n",
      "        6    0.000    0.000    0.000    0.000 nanops.py:779(make_nancomp)\n",
      "        1    0.000    0.000    0.000    0.000 groupby.py:4378(NDArrayGroupBy)\n",
      "        1    0.000    0.000    0.000    0.000 groupby.py:4438(SeriesSplitter)\n",
      "        1    0.000    0.000    0.000    0.000 base.py:79(InvalidIndexError)\n",
      "        4    0.000    0.000    0.000    0.000 expressions.py:239(gen_reduce_axis_func)\n",
      "        1    0.000    0.000    0.000    0.000 expressions.py:479(LeafNode)\n",
      "        1    0.000    0.000    0.000    0.000 expressions.py:535(FuncNode)\n",
      "        1    0.000    0.000    0.000    0.000 utils.py:61(set_vml_num_threads)\n",
      "        4    0.000    0.000    0.000    0.000 interval.py:1000(_setop)\n",
      "        1    0.000    0.000    0.000    0.000 numeric.py:75(is_all_dates)\n",
      "        1    0.000    0.000    0.000    0.000 offsets.py:1009(<listcomp>)\n",
      "        1    0.000    0.000    0.000    0.000 offsets.py:1401(BusinessMonthBegin)\n",
      "        1    0.000    0.000    0.000    0.000 internals.py:160(get_values)\n",
      "        1    0.000    0.000    0.000    0.000 internals.py:295(shape)\n",
      "        2    0.000    0.000    0.000    0.000 internals.py:2824(ndim)\n",
      "        1    0.000    0.000    0.000    0.000 format.py:1846(_value_formatter)\n",
      "        1    0.000    0.000    0.000    0.000 format.py:1966(IntArrayFormatter)\n",
      "        1    0.000    0.000    0.000    0.000 format.py:2000(IntervalArrayFormatter)\n",
      "        1    0.000    0.000    0.000    0.000 format.py:2011(PeriodArrayFormatter)\n",
      "        1    0.000    0.000    0.000    0.000 format.py:2026(CategoricalArrayFormatter)\n",
      "        1    0.000    0.000    0.000    0.000 format.py:2235(<listcomp>)\n",
      "        1    0.000    0.000    0.000    0.000 csv.py:65(excel_tab)\n",
      "        1    0.000    0.000    0.000    0.000 csv.py:70(unix_dialect)\n",
      "        1    0.000    0.000    0.000    0.000 accessors.py:216(PeriodProperties)\n",
      "        1    0.000    0.000    0.000    0.000 __init__.py:455(checkdep_ps_distiller)\n",
      "        1    0.000    0.000    0.000    0.000 __init__.py:496(checkdep_usetex)\n",
      "        1    0.000    0.000    0.000    0.000 cbook.py:313(tofloat)\n",
      "        1    0.000    0.000    0.000    0.000 cbook.py:325(toint)\n",
      "        1    0.000    0.000    0.000    0.000 cbook.py:585(IgnoredKeywordWarning)\n",
      "        2    0.000    0.000    0.000    0.000 rcsetup.py:107(validate_any)\n",
      "        2    0.000    0.000    0.000    0.000 rcsetup.py:148(deprecate_axes_hold)\n",
      "        1    0.000    0.000    0.000    0.000 rcsetup.py:326(__init__)\n",
      "        1    0.000    0.000    0.000    0.000 rcsetup.py:325(validate_nseq_int)\n",
      "        2    0.000    0.000    0.000    0.000 rcsetup.py:429(validate_aspect)\n",
      "        1    0.000    0.000    0.000    0.000 pyparsing.py:172(_Constants)\n",
      "        1    0.000    0.000    0.000    0.000 pyparsing.py:264(ParseSyntaxException)\n",
      "        1    0.000    0.000    0.000    0.000 pyparsing.py:1456(_FifoCache)\n",
      "        1    0.000    0.000    0.000    0.000 pyparsing.py:2342(Token)\n",
      "        1    0.000    0.000    0.000    0.000 pyparsing.py:2350(Empty)\n",
      "        3    0.000    0.000    0.000    0.000 pyparsing.py:3044(<genexpr>)\n",
      "        1    0.000    0.000    0.000    0.000 pyparsing.py:3362(_ErrorStop)\n",
      "        1    0.000    0.000    0.000    0.000 pyparsing.py:3932(_NullToken)\n",
      "        1    0.000    0.000    0.000    0.000 pyparsing.py:4342(Suppress)\n",
      "        1    0.000    0.000    0.000    0.000 colors.py:1236(NoNorm)\n",
      "        2    0.000    0.000    0.000    0.000 cycler.py:145(change_key)\n",
      "        1    0.000    0.000    0.000    0.000 units.py:54(AxisInfo)\n",
      "        1    0.000    0.000    0.000    0.000 dates.py:1233(DayLocator)\n",
      "        1    0.000    0.000    0.000    0.000 ticker.py:325(NullFormatter)\n",
      "        1    0.000    0.000    0.000    0.000 ticker.py:369(FuncFormatter)\n",
      "        1    0.000    0.000    0.000    0.000 ticker.py:1102(LogFormatterSciNotation)\n",
      "        1    0.000    0.000    0.000    0.000 ticker.py:1420(NullLocator)\n",
      "        1    0.000    0.000    0.000    0.000 _core.py:2415(BasePlotMethods)\n",
      "        2    0.000    0.000    0.000    0.000 expr.py:135(_is_type)\n",
      "        3    0.000    0.000    0.000    0.000 expr.py:208(disallow)\n",
      "        1    0.000    0.000    0.000    0.000 expr.py:250(add_ops)\n",
      "        1    0.000    0.000    0.000    0.000 ops.py:32(UndefinedVariableError)\n",
      "        1    0.000    0.000    0.000    0.000 common.py:23(NameResolutionError)\n",
      "        1    0.000    0.000    0.000    0.000 panel.py:1574(WidePanel)\n",
      "        1    0.000    0.000    0.000    0.000 merge.py:1001(_OrderedMerge)\n",
      "        1    0.000    0.000    0.000    0.000 excel.py:913(_OpenpyxlWriter)\n",
      "        1    0.000    0.000    0.000    0.000 pytables.py:115(PossibleDataLossError)\n",
      "        1    0.000    0.000    0.000    0.000 pytables.py:119(ClosedFileError)\n",
      "        1    0.000    0.000    0.000    0.000 pytables.py:123(IncompatibilityWarning)\n",
      "        1    0.000    0.000    0.000    0.000 pytables.py:144(DuplicateWarning)\n",
      "        3    0.000    0.000    0.000    0.000 pytables.py:1511(set_pos)\n",
      "        1    0.000    0.000    0.000    0.000 pytables.py:2192(GenericDataIndexableCol)\n",
      "        1    0.000    0.000    0.000    0.000 pytables.py:2711(LegacyFixed)\n",
      "        1    0.000    0.000    0.000    0.000 pytables.py:2720(LegacySeriesFixed)\n",
      "        1    0.000    0.000    0.000    0.000 pytables.py:2729(LegacyFrameFixed)\n",
      "        1    0.000    0.000    0.000    0.000 pytables.py:2763(SparseFixed)\n",
      "        1    0.000    0.000    0.000    0.000 pytables.py:3867(LegacyPanelTable)\n",
      "        1    0.000    0.000    0.000    0.000 pytables.py:4214(AppendableMultiSeriesTable)\n",
      "        1    0.000    0.000    0.000    0.000 pytables.py:4333(AppendableNDimTable)\n",
      "        1    0.000    0.000    0.000    0.000 pytables.py:58(Constant)\n",
      "        1    0.000    0.000    0.000    0.000 pytables.py:289(JointFilterBinOp)\n",
      "        1    0.000    0.000    0.000    0.000 pytables.py:344(JointConditionBinOp)\n",
      "        1    0.000    0.000    0.000    0.000 pytables.py:354(UnaryOp)\n",
      "        1    0.000    0.000    0.000    0.000 json.py:94(SeriesWriter)\n",
      "        1    0.000    0.000    0.000    0.000 json.py:103(FrameWriter)\n",
      "        1    0.000    0.000    0.000    0.000 json.py:557(SeriesParser)\n",
      "        1    0.000    0.000    0.000    0.000 stata.py:463(ValueLabelTypeMismatch)\n",
      "        1    0.000    0.000    0.000    0.000 stata.py:474(InvalidColumnName)\n",
      "        1    0.000    0.000    0.000    0.000 stata.py:822(StataParser)\n",
      "        1    0.000    0.000    0.000    0.000 packers.py:746(Iterator)\n",
      "        1    0.000    0.000    0.000    0.000 exceptions.py:1(UnpackException)\n",
      "        1    0.000    0.000    0.000    0.000 exceptions.py:5(BufferFull)\n",
      "        1    0.000    0.000    0.000    0.000 exceptions.py:27(PackException)\n",
      "        1    0.000    0.000    0.000    0.000 exceptions.py:31(PackValueError)\n",
      "        1    0.000    0.000    0.000    0.000 _version.py:1(<module>)\n",
      "        1    0.000    0.000    0.000    0.000 testing.py:2120(TestSubDict)\n",
      " "
     ]
    }
   ],
   "source": [
    "%run -p ../examples/abc.py"
   ]
  },
  {
   "cell_type": "markdown",
   "metadata": {},
   "source": [
    "The profiling information includes the following information:\n",
    "\n",
    "* `ncalls`: number of calls to function\n",
    "* `tottime`: total time spent in the given function (excluding time in calls to sub-functions)\n",
    "* `percall`: time per call\n",
    "* `cumtime`: cumulative time spent in this and all subfunctions \n",
    "\n",
    "We can see that most of the time in this example is spent inside of core NumPy functions and methods.\n",
    "\n",
    "The `%prun` command does a similar job for single Python expressions (like function calls)."
   ]
  },
  {
   "cell_type": "code",
   "execution_count": 14,
   "metadata": {},
   "outputs": [
    {
     "name": "stdout",
     "output_type": "stream",
     "text": [
      "         100006 function calls in 0.052 seconds\n",
      "\n",
      "   Ordered by: internal time\n",
      "\n",
      "   ncalls  tottime  percall  cumtime  percall filename:lineno(function)\n",
      "   100002    0.027    0.000    0.027    0.000 <ipython-input-8-e6729806342c>:1(f)\n",
      "        1    0.025    0.025    0.051    0.051 <ipython-input-8-e6729806342c>:4(trapez)\n",
      "        1    0.000    0.000    0.052    0.052 {built-in method builtins.exec}\n",
      "        1    0.000    0.000    0.051    0.051 <string>:1(<module>)\n",
      "        1    0.000    0.000    0.000    0.000 {method 'disable' of '_lsprof.Profiler' objects}\n",
      " "
     ]
    }
   ],
   "source": [
    "%prun trapez(2, 6, 100000)"
   ]
  },
  {
   "cell_type": "markdown",
   "metadata": {},
   "source": [
    "For even more fine-grained profiling information, we can use a line profiler to see how long it takes each line of a function to run."
   ]
  },
  {
   "cell_type": "code",
   "execution_count": 15,
   "metadata": {},
   "outputs": [
    {
     "name": "stdout",
     "output_type": "stream",
     "text": [
      "Fetching package metadata ...........\n",
      "Solving package specifications: .\n",
      "\n",
      "Package plan for installation in environment /Users/nick/anaconda/envs/bios8366:\n",
      "\n",
      "The following NEW packages will be INSTALLED:\n",
      "\n",
      "    pprofile: 1.9.2-py36_0 conda-forge\n",
      "\n",
      "pprofile-1.9.2 100% |################################| Time: 0:00:00 626.80 kB/s\n"
     ]
    }
   ],
   "source": [
    "!conda install -y line_profiler pprofile"
   ]
  },
  {
   "cell_type": "code",
   "execution_count": 16,
   "metadata": {},
   "outputs": [
    {
     "name": "stdout",
     "output_type": "stream",
     "text": [
      "Command line: ['../examples/bisection.py']\r\n",
      "Total duration: 0.00182986s\r\n",
      "File: ../examples/bisection.py\r\n",
      "File duration: 0.00174379s (95.30%)\r\n",
      "Line #|      Hits|         Time| Time per hit|      %|Source code\r\n",
      "------+----------+-------------+-------------+-------+-----------\r\n",
      "     1|         3|    4.673e-05|  1.55767e-05|  2.55%|def bisection(f, a, b, tol=1e-9, max_iter=100):\r\n",
      "     2|         0|            0|            0|  0.00%|\r\n",
      "     3|         0|            0|            0|  0.00%|    # Check initial values\r\n",
      "     4|         1|  6.19888e-06|  6.19888e-06|  0.34%|    if a >= b:\r\n",
      "     5|         0|            0|            0|  0.00%|        raise ValueError('Right value must be larger than left')\r\n",
      "     6|         0|            0|            0|  0.00%|\r\n",
      "     7|         1|  3.09944e-05|  3.09944e-05|  1.69%|    fa, fb = f(a), f(b)\r\n",
      "(call)|         2|  1.38283e-05|  6.91414e-06|  0.76%|# ../examples/bisection.py:33 <lambda>\r\n",
      "     8|         0|            0|            0|  0.00%|\r\n",
      "     9|         1|  7.15256e-06|  7.15256e-06|  0.39%|    if fa*fb > 0:\r\n",
      "    10|         0|            0|            0|  0.00%|        raise ValueError('No maximum between specified values')\r\n",
      "    11|         0|            0|            0|  0.00%|\r\n",
      "    12|         1|  4.76837e-06|  4.76837e-06|  0.26%|    i = 0\r\n",
      "    13|        36|  0.000156641|  4.35114e-06|  8.56%|    while (b - a) > tol:\r\n",
      "    14|         0|            0|            0|  0.00%|\r\n",
      "    15|         0|            0|            0|  0.00%|        # More stable than c = (b + a)/2.\r\n",
      "    16|        35|   0.00015378|  4.39371e-06|  8.40%|        c = a + (b - a)/2.\r\n",
      "    17|        35|  0.000433207|  1.23773e-05| 23.67%|        fc = f(c)\r\n",
      "(call)|        35|  0.000235796|  6.73703e-06| 12.89%|# ../examples/bisection.py:33 <lambda>\r\n",
      "    18|         0|            0|            0|  0.00%|\r\n",
      "    19|        35|  0.000187397|   5.3542e-06| 10.24%|        if fa*fc < 0:\r\n",
      "    20|         1|  5.00679e-06|  5.00679e-06|  0.27%|            b,fb = c,fc\r\n",
      "    21|         0|            0|            0|  0.00%|        else:\r\n",
      "    22|        34|  0.000145435|  4.27751e-06|  7.95%|            a,fa = c,fc\r\n",
      "    23|         0|            0|            0|  0.00%|\r\n",
      "    24|        35|  0.000144482|  4.12805e-06|  7.90%|        i +=1\r\n",
      "    25|         0|            0|            0|  0.00%|\r\n",
      "    26|        35|  0.000141382|  4.03949e-06|  7.73%|        if i == max_iter:\r\n",
      "    27|         0|            0|            0|  0.00%|            print('The algorithm did not converge in {0} iterations'.format(max_iter))\r\n",
      "    28|         0|            0|            0|  0.00%|            return(None)\r\n",
      "    29|         0|            0|            0|  0.00%|\r\n",
      "    30|         1|  4.05312e-06|  4.05312e-06|  0.22%|    return((a+b)/2., i)\r\n",
      "    31|         0|            0|            0|  0.00%|\r\n",
      "    32|         1|  5.72205e-06|  5.72205e-06|  0.31%|if __name__ == '__main__':\r\n",
      "    33|        75|  0.000270844|  3.61125e-06| 14.80%|    bisection(lambda x: -2*x + 5, -10, 10)\r\n",
      "(call)|         1|   0.00167489|   0.00167489| 91.53%|# ../examples/bisection.py:1 bisection\r\n"
     ]
    }
   ],
   "source": [
    "!pprofile ../examples/bisection.py"
   ]
  },
  {
   "cell_type": "markdown",
   "metadata": {},
   "source": [
    "This output makes it clear that the biggest cost is in the repeated calling of the function $f$ for which the root is being found. If we could improve the speed of this function, it would be the easiest single way of improving the performance of the code.\n"
   ]
  },
  {
   "cell_type": "markdown",
   "metadata": {},
   "source": [
    "### Snakeviz\n",
    "\n",
    "SnakeViz is a browser based graphical viewer for the output of Python’s cProfile module. Though it is ostensibly a command-line tool, \n",
    "SnakeViz includes IPython line and cell magics for going straight from code to a visualization. "
   ]
  },
  {
   "cell_type": "code",
   "execution_count": 17,
   "metadata": {
    "collapsed": true
   },
   "outputs": [],
   "source": [
    "%load_ext snakeviz"
   ]
  },
  {
   "cell_type": "markdown",
   "metadata": {},
   "source": [
    "Let's load the ABC example from the source, so that we can run it in the notebook."
   ]
  },
  {
   "cell_type": "code",
   "execution_count": null,
   "metadata": {
    "collapsed": true
   },
   "outputs": [],
   "source": [
    "# %load ../examples/abc.py\n",
    "import numpy as np\n",
    "import pandas as pd\n",
    "\n",
    "def abc(y, N, epsilon):\n",
    "\n",
    "    trace = []\n",
    "\n",
    "    while len(trace) < N:\n",
    "\n",
    "        # Simulate from priors\n",
    "        mu = np.random.normal(0, 10)\n",
    "        sigma = np.random.uniform(0, 20)\n",
    "\n",
    "        x = np.random.normal(mu, sigma, 50)\n",
    "\n",
    "        #if (np.linalg.norm(y - x) < epsilon):\n",
    "        if ((abs(x.mean() - y.mean()) < epsilon[0]) &\n",
    "            (abs(x.std() - y.std()) < epsilon[1])):\n",
    "            trace.append([mu, sigma])\n",
    "\n",
    "    return pd.DataFrame(trace, columns=['mu', 'sigma'])\n",
    "\n",
    "if __name__ == '__main__':\n",
    "    y = np.random.normal(4, 2, 50)\n",
    "    N = 20\n",
    "    epsilon = [0.2, 0.8]\n",
    "    print(abc(y, N, epsilon).mean(0))"
   ]
  },
  {
   "cell_type": "code",
   "execution_count": 19,
   "metadata": {},
   "outputs": [
    {
     "name": "stdout",
     "output_type": "stream",
     "text": [
      " \n",
      "*** Profile stats marshalled to file '/var/folders/g6/cz6ytzxs7p18g95z4f47_tww0000gn/T/tmp49gqsukg'. \n"
     ]
    }
   ],
   "source": [
    "%snakeviz abc(y=np.random.normal(4, 2, 50), N=20, epsilon=[0.2, 0.8]).mean(0)"
   ]
  },
  {
   "cell_type": "markdown",
   "metadata": {},
   "source": [
    "The default SnakeViz visualization displays profiles as a *sunburst* that represent function calls as a series of nested arcs, expanding outward. Thus, the root function is represented as a circle at the center, with the functions it calls displayed as arcs wrapping around it, and so forth. The amount of time spent inside a function is represented by the angular width of the arc. Hence, an arc that wraps most of the way around the circle represents a function that is taking up most of the time of its calling function, while a narrow arc represents a function that is using relatively little time.\n",
    "\n",
    "Functions don’t just spend time calling other functions, they also have their own internal time. SnakeViz shows this by putting a special child on each node that represents internal time. Only functions that call other functions will have this, functions with no calls are entirely internal time.\n",
    "\n",
    "SnakeViz is useful for a global overview of the runtime of your project because it might uncover functions that do not seem (at first) to be worth optimizing because of their short runtime, but are in fact called from other functions so that their total runtime is significant.\n",
    "\n",
    "![snakeviz](images/snakeviz.png)"
   ]
  },
  {
   "cell_type": "markdown",
   "metadata": {},
   "source": [
    "### Exercise: Profiling EM\n",
    "\n",
    "Use one or more of the above methods to profile your expectation maximization code, and locate any bottlenecks."
   ]
  },
  {
   "cell_type": "code",
   "execution_count": null,
   "metadata": {
    "collapsed": true
   },
   "outputs": [],
   "source": [
    "# Write your answer here\n",
    "\n"
   ]
  },
  {
   "cell_type": "markdown",
   "metadata": {},
   "source": [
    "## Speeding up Python by being Pythonic\n",
    "\n",
    "When you have decided that your code is unacceptably slow, and have gone through the process of profiling to see if and where your program is experiencing a bottleneck, it can be easy to jump ahead and try speeding it up using external tools. There are several packages that will certainly improve Python's performance (and we will introduce some of them later), but the first place to look for better performance is in **refactoring** your implementation of whichever algorithm you happen to be using. \n",
    "\n",
    "Effective Python programming involves applying particular Python **idioms** effectively; these are idiosyncratic expressions that may only exist in Python (if you are coming from another languate), but when used appropriately they can make your code more readable, faster, or both. You have seen some of these already -- for example, the **list comprehension** as a means for succinctly implementing a `for` loop.\n",
    "\n",
    "### Comprehensions"
   ]
  },
  {
   "cell_type": "code",
   "execution_count": null,
   "metadata": {
    "collapsed": true
   },
   "outputs": [],
   "source": [
    "def do_math(x):\n",
    "    return 3 + x**3"
   ]
  },
  {
   "cell_type": "code",
   "execution_count": null,
   "metadata": {
    "collapsed": true
   },
   "outputs": [],
   "source": [
    "%%timeit\n",
    "squares = []\n",
    "for i in range(10000):\n",
    "    squares.append(do_math(i))"
   ]
  },
  {
   "cell_type": "code",
   "execution_count": null,
   "metadata": {
    "collapsed": true
   },
   "outputs": [],
   "source": [
    "%timeit squares = [do_math(i) for i in range(10000)]"
   ]
  },
  {
   "cell_type": "markdown",
   "metadata": {},
   "source": [
    "Here, not only is the list comprehension easier to write and read, it is also slightly faster.\n",
    "\n",
    "### Generators\n",
    "\n",
    "When you are dealing with a large number of elements that you do not need all at once, you can also consider another Python expression we have already seen, a **generator**. For example, if we enclose the comprehension in parentheses instead of square brackets, we get a **generator expression** object:"
   ]
  },
  {
   "cell_type": "code",
   "execution_count": null,
   "metadata": {
    "collapsed": true
   },
   "outputs": [],
   "source": [
    "(i**2 for i in range(int(1e20)))"
   ]
  },
  {
   "cell_type": "markdown",
   "metadata": {},
   "source": [
    "Now, rather than storing 100,000,000,000,000,000,000,000 elements in memory, we can produce values as needed:"
   ]
  },
  {
   "cell_type": "code",
   "execution_count": null,
   "metadata": {
    "collapsed": true
   },
   "outputs": [],
   "source": [
    "squares = (i**2 for i in range(int(1e10)))\n",
    "next(squares)"
   ]
  },
  {
   "cell_type": "code",
   "execution_count": null,
   "metadata": {
    "collapsed": true
   },
   "outputs": [],
   "source": [
    "next(squares)"
   ]
  },
  {
   "cell_type": "markdown",
   "metadata": {},
   "source": [
    "### Built-in functions\n",
    "\n",
    "Before you go about coding your own functions, make sure that it isn't already provided as a **built-in function**. These are typically highly optimized, and written in C! [Here is a list of built-in functions](https://docs.python.org/3/library/functions.html).\n",
    "\n",
    "### String concatenation\n",
    "\n",
    "Just as you should avoid growing lists or arrays by concatenation or appending, iterating over strings and concatenating them manually is very inefficient. For example, let's say we want to concatente a list of strings into a single string:"
   ]
  },
  {
   "cell_type": "code",
   "execution_count": null,
   "metadata": {
    "collapsed": true
   },
   "outputs": [],
   "source": [
    "words = [\"Six\",\n",
    "\"days\",\n",
    "\"in\",\n",
    "\"to\",\n",
    "\"what\",\n",
    "\"should\",\n",
    "\"be\",\n",
    "\"a\",\n",
    "\"greatest\",\n",
    "\"two\",\n",
    "\"months\",\n",
    "\"of\",\n",
    "\"my\",\n",
    "\"life\",\n",
    "\"and\",\n",
    "\"it’s\",\n",
    "\"turned\",\n",
    "\"in\",\n",
    "\"to\",\n",
    "\"a\",\n",
    "\"nightmare\"]"
   ]
  },
  {
   "cell_type": "markdown",
   "metadata": {},
   "source": [
    "One might be tempted to code the following:"
   ]
  },
  {
   "cell_type": "code",
   "execution_count": null,
   "metadata": {
    "collapsed": true
   },
   "outputs": [],
   "source": [
    "%%timeit\n",
    "sentence = \"\"\n",
    "for word in words:\n",
    "    sentence += word"
   ]
  },
  {
   "cell_type": "markdown",
   "metadata": {},
   "source": [
    "However, this is inefficient; since strings is immutable in Python, every `+` operation involves creating a new string and copying the old content. Instead, we can use the string method `join`, which is not only faster, but more flexible. Here, we would like to separate the words by spaces, which is easily done:"
   ]
  },
  {
   "cell_type": "code",
   "execution_count": null,
   "metadata": {
    "collapsed": true
   },
   "outputs": [],
   "source": [
    "' '.join(words)"
   ]
  },
  {
   "cell_type": "code",
   "execution_count": null,
   "metadata": {
    "collapsed": true
   },
   "outputs": [],
   "source": [
    "%timeit ' '.join(words)"
   ]
  },
  {
   "cell_type": "markdown",
   "metadata": {},
   "source": [
    "### Avoid loops\n",
    "\n",
    "As we have seen, `for` loops in Python are slow. Wherever possible, avoid looping by using alternative strategies or vectorized operations. For example, say we wanted to return the common elements between two arrays. We might naively loop over both lists, comparing them elementwise to return their intersection:"
   ]
  },
  {
   "cell_type": "code",
   "execution_count": null,
   "metadata": {
    "collapsed": true
   },
   "outputs": [],
   "source": [
    "np.random.seed(1)\n",
    "list1 = np.random.choice(np.arange(20), replace=False, size=10)\n",
    "list2 = np.random.choice(np.arange(20), replace=False, size=10)\n",
    "\n",
    "def common_elements(a, b):\n",
    "    for i in a:\n",
    "        for j in b:\n",
    "            if i==j:\n",
    "                yield i"
   ]
  },
  {
   "cell_type": "code",
   "execution_count": null,
   "metadata": {
    "collapsed": true
   },
   "outputs": [],
   "source": [
    "list(common_elements(list1, list2))"
   ]
  },
  {
   "cell_type": "markdown",
   "metadata": {},
   "source": [
    "However, this involves two Python `for` loops and a conditional statement. Instead, we can use set operations on the built-in `set` type provided by Python:"
   ]
  },
  {
   "cell_type": "code",
   "execution_count": null,
   "metadata": {
    "collapsed": true
   },
   "outputs": [],
   "source": [
    "set(list1) & set(list2)"
   ]
  },
  {
   "cell_type": "markdown",
   "metadata": {},
   "source": [
    "###  Use NumPy\n",
    "\n",
    "Often, considerable performance gains can be achieved by replacing Python data structures and functions with corresponding NumPy versions. It provides a high-performance multidimensional array object, and tools for working with these arrays. \n",
    "\n",
    "This example, borrowed from NumPy creator Travis Oliphant, solves Laplace's equation over a 2-d rectangular grid using a simple iterative method. The code finds a two-dimensional function, u, where ∇2 u = 0, given some fixed boundary conditions."
   ]
  },
  {
   "cell_type": "code",
   "execution_count": null,
   "metadata": {
    "collapsed": true
   },
   "outputs": [],
   "source": [
    "dx = 0.1\n",
    "dy = 0.1\n",
    "dx2 = dx*dx\n",
    "dy2 = dy*dy\n",
    "\n",
    "def py_update(u):\n",
    "    nx, ny = u.shape\n",
    "    for i in range(1,nx-1):\n",
    "        for j in range(1, ny-1):\n",
    "            u[i,j] = ((u[i+1, j] + u[i-1, j]) * dy2 +\n",
    "                      (u[i, j+1] + u[i, j-1]) * dx2) / (2*(dx2+dy2))"
   ]
  },
  {
   "cell_type": "code",
   "execution_count": null,
   "metadata": {
    "collapsed": true
   },
   "outputs": [],
   "source": [
    "def calc(N, Niter=100, func=py_update, args=()):\n",
    "    u = np.zeros([N, N])\n",
    "    u[0] = 1\n",
    "    for i in range(Niter):\n",
    "        func(u,*args)\n",
    "    return u"
   ]
  },
  {
   "cell_type": "markdown",
   "metadata": {},
   "source": [
    "This code takes a very long time to run in order to converge to the correct solution. For a 100x100 grid, visually-indistinguishable convergence occurs after about 8000 iterations."
   ]
  },
  {
   "cell_type": "code",
   "execution_count": null,
   "metadata": {
    "collapsed": true
   },
   "outputs": [],
   "source": [
    "%timeit calc(10)"
   ]
  },
  {
   "cell_type": "markdown",
   "metadata": {},
   "source": [
    "Using NumPy, we can speed this code up significantly by using slicing and vectorized (automatic looping) calculations that replace the explicit loops in the Python-only solution. "
   ]
  },
  {
   "cell_type": "code",
   "execution_count": null,
   "metadata": {
    "collapsed": true
   },
   "outputs": [],
   "source": [
    "def num_update(u):\n",
    "    u[1:-1,1:-1] = ((u[2:,1:-1]+u[:-2,1:-1])*dy2 + \n",
    "                    (u[1:-1,2:] + u[1:-1,:-2])*dx2) / (2*(dx2+dy2))"
   ]
  },
  {
   "cell_type": "code",
   "execution_count": null,
   "metadata": {
    "collapsed": true
   },
   "outputs": [],
   "source": [
    "%timeit calc(10, func=num_update)"
   ]
  },
  {
   "cell_type": "markdown",
   "metadata": {},
   "source": [
    "Such speed-ups are not uncommon when using NumPy to replace Python loops where the inner loop is doing simple math on basic data-types."
   ]
  },
  {
   "cell_type": "markdown",
   "metadata": {},
   "source": [
    "## Memoize repeated function calls\n",
    "\n",
    "The fibonacci sequence benchmark cited in the table above on the Julia website uses the following implementation:"
   ]
  },
  {
   "cell_type": "code",
   "execution_count": 30,
   "metadata": {
    "collapsed": true
   },
   "outputs": [],
   "source": [
    "def fib(n): \n",
    "    if n < 2:\n",
    "        return n\n",
    "    return fib(n-1) + fib(n-2)\n",
    "\n",
    "fib2 = lambda n : n if n < 2 else fib(n-1) + fib(n-2)"
   ]
  },
  {
   "cell_type": "markdown",
   "metadata": {},
   "source": [
    "This is a simple recursive function, and as such, grows quickly with the size of `n` passed to it."
   ]
  },
  {
   "cell_type": "code",
   "execution_count": 29,
   "metadata": {},
   "outputs": [
    {
     "data": {
      "text/plain": [
       "5"
      ]
     },
     "execution_count": 29,
     "metadata": {},
     "output_type": "execute_result"
    }
   ],
   "source": [
    "fib(5)"
   ]
  },
  {
   "cell_type": "code",
   "execution_count": 26,
   "metadata": {},
   "outputs": [
    {
     "data": {
      "text/plain": [
       "6765"
      ]
     },
     "execution_count": 26,
     "metadata": {},
     "output_type": "execute_result"
    }
   ],
   "source": [
    "fib(20)"
   ]
  },
  {
   "cell_type": "code",
   "execution_count": 23,
   "metadata": {},
   "outputs": [
    {
     "ename": "KeyboardInterrupt",
     "evalue": "",
     "output_type": "error",
     "traceback": [
      "\u001b[0;31m---------------------------------------------------------------------------\u001b[0m",
      "\u001b[0;31mKeyboardInterrupt\u001b[0m                         Traceback (most recent call last)",
      "\u001b[0;32m<ipython-input-23-596b577af40d>\u001b[0m in \u001b[0;36m<module>\u001b[0;34m()\u001b[0m\n\u001b[0;32m----> 1\u001b[0;31m \u001b[0mfib\u001b[0m\u001b[0;34m(\u001b[0m\u001b[0;36m40\u001b[0m\u001b[0;34m)\u001b[0m\u001b[0;34m\u001b[0m\u001b[0m\n\u001b[0m",
      "\u001b[0;32m<ipython-input-20-3c6ba6e07cbc>\u001b[0m in \u001b[0;36mfib\u001b[0;34m(n)\u001b[0m\n\u001b[1;32m      1\u001b[0m \u001b[0;32mdef\u001b[0m \u001b[0mfib\u001b[0m\u001b[0;34m(\u001b[0m\u001b[0mn\u001b[0m\u001b[0;34m)\u001b[0m\u001b[0;34m:\u001b[0m\u001b[0;34m\u001b[0m\u001b[0m\n\u001b[0;32m----> 2\u001b[0;31m     \u001b[0;32mreturn\u001b[0m \u001b[0mn\u001b[0m \u001b[0;32mif\u001b[0m \u001b[0mn\u001b[0m \u001b[0;34m<\u001b[0m \u001b[0;36m2\u001b[0m \u001b[0;32melse\u001b[0m \u001b[0mfib\u001b[0m\u001b[0;34m(\u001b[0m\u001b[0mn\u001b[0m\u001b[0;34m-\u001b[0m\u001b[0;36m1\u001b[0m\u001b[0;34m)\u001b[0m \u001b[0;34m+\u001b[0m \u001b[0mfib\u001b[0m\u001b[0;34m(\u001b[0m\u001b[0mn\u001b[0m\u001b[0;34m-\u001b[0m\u001b[0;36m2\u001b[0m\u001b[0;34m)\u001b[0m\u001b[0;34m\u001b[0m\u001b[0m\n\u001b[0m",
      "\u001b[0;32m<ipython-input-20-3c6ba6e07cbc>\u001b[0m in \u001b[0;36mfib\u001b[0;34m(n)\u001b[0m\n\u001b[1;32m      1\u001b[0m \u001b[0;32mdef\u001b[0m \u001b[0mfib\u001b[0m\u001b[0;34m(\u001b[0m\u001b[0mn\u001b[0m\u001b[0;34m)\u001b[0m\u001b[0;34m:\u001b[0m\u001b[0;34m\u001b[0m\u001b[0m\n\u001b[0;32m----> 2\u001b[0;31m     \u001b[0;32mreturn\u001b[0m \u001b[0mn\u001b[0m \u001b[0;32mif\u001b[0m \u001b[0mn\u001b[0m \u001b[0;34m<\u001b[0m \u001b[0;36m2\u001b[0m \u001b[0;32melse\u001b[0m \u001b[0mfib\u001b[0m\u001b[0;34m(\u001b[0m\u001b[0mn\u001b[0m\u001b[0;34m-\u001b[0m\u001b[0;36m1\u001b[0m\u001b[0;34m)\u001b[0m \u001b[0;34m+\u001b[0m \u001b[0mfib\u001b[0m\u001b[0;34m(\u001b[0m\u001b[0mn\u001b[0m\u001b[0;34m-\u001b[0m\u001b[0;36m2\u001b[0m\u001b[0;34m)\u001b[0m\u001b[0;34m\u001b[0m\u001b[0m\n\u001b[0m",
      "\u001b[0;32m<ipython-input-20-3c6ba6e07cbc>\u001b[0m in \u001b[0;36mfib\u001b[0;34m(n)\u001b[0m\n\u001b[1;32m      1\u001b[0m \u001b[0;32mdef\u001b[0m \u001b[0mfib\u001b[0m\u001b[0;34m(\u001b[0m\u001b[0mn\u001b[0m\u001b[0;34m)\u001b[0m\u001b[0;34m:\u001b[0m\u001b[0;34m\u001b[0m\u001b[0m\n\u001b[0;32m----> 2\u001b[0;31m     \u001b[0;32mreturn\u001b[0m \u001b[0mn\u001b[0m \u001b[0;32mif\u001b[0m \u001b[0mn\u001b[0m \u001b[0;34m<\u001b[0m \u001b[0;36m2\u001b[0m \u001b[0;32melse\u001b[0m \u001b[0mfib\u001b[0m\u001b[0;34m(\u001b[0m\u001b[0mn\u001b[0m\u001b[0;34m-\u001b[0m\u001b[0;36m1\u001b[0m\u001b[0;34m)\u001b[0m \u001b[0;34m+\u001b[0m \u001b[0mfib\u001b[0m\u001b[0;34m(\u001b[0m\u001b[0mn\u001b[0m\u001b[0;34m-\u001b[0m\u001b[0;36m2\u001b[0m\u001b[0;34m)\u001b[0m\u001b[0;34m\u001b[0m\u001b[0m\n\u001b[0m",
      "\u001b[0;32m<ipython-input-20-3c6ba6e07cbc>\u001b[0m in \u001b[0;36mfib\u001b[0;34m(n)\u001b[0m\n\u001b[1;32m      1\u001b[0m \u001b[0;32mdef\u001b[0m \u001b[0mfib\u001b[0m\u001b[0;34m(\u001b[0m\u001b[0mn\u001b[0m\u001b[0;34m)\u001b[0m\u001b[0;34m:\u001b[0m\u001b[0;34m\u001b[0m\u001b[0m\n\u001b[0;32m----> 2\u001b[0;31m     \u001b[0;32mreturn\u001b[0m \u001b[0mn\u001b[0m \u001b[0;32mif\u001b[0m \u001b[0mn\u001b[0m \u001b[0;34m<\u001b[0m \u001b[0;36m2\u001b[0m \u001b[0;32melse\u001b[0m \u001b[0mfib\u001b[0m\u001b[0;34m(\u001b[0m\u001b[0mn\u001b[0m\u001b[0;34m-\u001b[0m\u001b[0;36m1\u001b[0m\u001b[0;34m)\u001b[0m \u001b[0;34m+\u001b[0m \u001b[0mfib\u001b[0m\u001b[0;34m(\u001b[0m\u001b[0mn\u001b[0m\u001b[0;34m-\u001b[0m\u001b[0;36m2\u001b[0m\u001b[0;34m)\u001b[0m\u001b[0;34m\u001b[0m\u001b[0m\n\u001b[0m",
      "\u001b[0;32m<ipython-input-20-3c6ba6e07cbc>\u001b[0m in \u001b[0;36mfib\u001b[0;34m(n)\u001b[0m\n\u001b[1;32m      1\u001b[0m \u001b[0;32mdef\u001b[0m \u001b[0mfib\u001b[0m\u001b[0;34m(\u001b[0m\u001b[0mn\u001b[0m\u001b[0;34m)\u001b[0m\u001b[0;34m:\u001b[0m\u001b[0;34m\u001b[0m\u001b[0m\n\u001b[0;32m----> 2\u001b[0;31m     \u001b[0;32mreturn\u001b[0m \u001b[0mn\u001b[0m \u001b[0;32mif\u001b[0m \u001b[0mn\u001b[0m \u001b[0;34m<\u001b[0m \u001b[0;36m2\u001b[0m \u001b[0;32melse\u001b[0m \u001b[0mfib\u001b[0m\u001b[0;34m(\u001b[0m\u001b[0mn\u001b[0m\u001b[0;34m-\u001b[0m\u001b[0;36m1\u001b[0m\u001b[0;34m)\u001b[0m \u001b[0;34m+\u001b[0m \u001b[0mfib\u001b[0m\u001b[0;34m(\u001b[0m\u001b[0mn\u001b[0m\u001b[0;34m-\u001b[0m\u001b[0;36m2\u001b[0m\u001b[0;34m)\u001b[0m\u001b[0;34m\u001b[0m\u001b[0m\n\u001b[0m",
      "\u001b[0;32m<ipython-input-20-3c6ba6e07cbc>\u001b[0m in \u001b[0;36mfib\u001b[0;34m(n)\u001b[0m\n\u001b[1;32m      1\u001b[0m \u001b[0;32mdef\u001b[0m \u001b[0mfib\u001b[0m\u001b[0;34m(\u001b[0m\u001b[0mn\u001b[0m\u001b[0;34m)\u001b[0m\u001b[0;34m:\u001b[0m\u001b[0;34m\u001b[0m\u001b[0m\n\u001b[0;32m----> 2\u001b[0;31m     \u001b[0;32mreturn\u001b[0m \u001b[0mn\u001b[0m \u001b[0;32mif\u001b[0m \u001b[0mn\u001b[0m \u001b[0;34m<\u001b[0m \u001b[0;36m2\u001b[0m \u001b[0;32melse\u001b[0m \u001b[0mfib\u001b[0m\u001b[0;34m(\u001b[0m\u001b[0mn\u001b[0m\u001b[0;34m-\u001b[0m\u001b[0;36m1\u001b[0m\u001b[0;34m)\u001b[0m \u001b[0;34m+\u001b[0m \u001b[0mfib\u001b[0m\u001b[0;34m(\u001b[0m\u001b[0mn\u001b[0m\u001b[0;34m-\u001b[0m\u001b[0;36m2\u001b[0m\u001b[0;34m)\u001b[0m\u001b[0;34m\u001b[0m\u001b[0m\n\u001b[0m",
      "\u001b[0;32m<ipython-input-20-3c6ba6e07cbc>\u001b[0m in \u001b[0;36mfib\u001b[0;34m(n)\u001b[0m\n\u001b[1;32m      1\u001b[0m \u001b[0;32mdef\u001b[0m \u001b[0mfib\u001b[0m\u001b[0;34m(\u001b[0m\u001b[0mn\u001b[0m\u001b[0;34m)\u001b[0m\u001b[0;34m:\u001b[0m\u001b[0;34m\u001b[0m\u001b[0m\n\u001b[0;32m----> 2\u001b[0;31m     \u001b[0;32mreturn\u001b[0m \u001b[0mn\u001b[0m \u001b[0;32mif\u001b[0m \u001b[0mn\u001b[0m \u001b[0;34m<\u001b[0m \u001b[0;36m2\u001b[0m \u001b[0;32melse\u001b[0m \u001b[0mfib\u001b[0m\u001b[0;34m(\u001b[0m\u001b[0mn\u001b[0m\u001b[0;34m-\u001b[0m\u001b[0;36m1\u001b[0m\u001b[0;34m)\u001b[0m \u001b[0;34m+\u001b[0m \u001b[0mfib\u001b[0m\u001b[0;34m(\u001b[0m\u001b[0mn\u001b[0m\u001b[0;34m-\u001b[0m\u001b[0;36m2\u001b[0m\u001b[0;34m)\u001b[0m\u001b[0;34m\u001b[0m\u001b[0m\n\u001b[0m",
      "\u001b[0;32m<ipython-input-20-3c6ba6e07cbc>\u001b[0m in \u001b[0;36mfib\u001b[0;34m(n)\u001b[0m\n\u001b[1;32m      1\u001b[0m \u001b[0;32mdef\u001b[0m \u001b[0mfib\u001b[0m\u001b[0;34m(\u001b[0m\u001b[0mn\u001b[0m\u001b[0;34m)\u001b[0m\u001b[0;34m:\u001b[0m\u001b[0;34m\u001b[0m\u001b[0m\n\u001b[0;32m----> 2\u001b[0;31m     \u001b[0;32mreturn\u001b[0m \u001b[0mn\u001b[0m \u001b[0;32mif\u001b[0m \u001b[0mn\u001b[0m \u001b[0;34m<\u001b[0m \u001b[0;36m2\u001b[0m \u001b[0;32melse\u001b[0m \u001b[0mfib\u001b[0m\u001b[0;34m(\u001b[0m\u001b[0mn\u001b[0m\u001b[0;34m-\u001b[0m\u001b[0;36m1\u001b[0m\u001b[0;34m)\u001b[0m \u001b[0;34m+\u001b[0m \u001b[0mfib\u001b[0m\u001b[0;34m(\u001b[0m\u001b[0mn\u001b[0m\u001b[0;34m-\u001b[0m\u001b[0;36m2\u001b[0m\u001b[0;34m)\u001b[0m\u001b[0;34m\u001b[0m\u001b[0m\n\u001b[0m",
      "\u001b[0;32m<ipython-input-20-3c6ba6e07cbc>\u001b[0m in \u001b[0;36mfib\u001b[0;34m(n)\u001b[0m\n\u001b[1;32m      1\u001b[0m \u001b[0;32mdef\u001b[0m \u001b[0mfib\u001b[0m\u001b[0;34m(\u001b[0m\u001b[0mn\u001b[0m\u001b[0;34m)\u001b[0m\u001b[0;34m:\u001b[0m\u001b[0;34m\u001b[0m\u001b[0m\n\u001b[0;32m----> 2\u001b[0;31m     \u001b[0;32mreturn\u001b[0m \u001b[0mn\u001b[0m \u001b[0;32mif\u001b[0m \u001b[0mn\u001b[0m \u001b[0;34m<\u001b[0m \u001b[0;36m2\u001b[0m \u001b[0;32melse\u001b[0m \u001b[0mfib\u001b[0m\u001b[0;34m(\u001b[0m\u001b[0mn\u001b[0m\u001b[0;34m-\u001b[0m\u001b[0;36m1\u001b[0m\u001b[0;34m)\u001b[0m \u001b[0;34m+\u001b[0m \u001b[0mfib\u001b[0m\u001b[0;34m(\u001b[0m\u001b[0mn\u001b[0m\u001b[0;34m-\u001b[0m\u001b[0;36m2\u001b[0m\u001b[0;34m)\u001b[0m\u001b[0;34m\u001b[0m\u001b[0m\n\u001b[0m",
      "\u001b[0;32m<ipython-input-20-3c6ba6e07cbc>\u001b[0m in \u001b[0;36mfib\u001b[0;34m(n)\u001b[0m\n\u001b[1;32m      1\u001b[0m \u001b[0;32mdef\u001b[0m \u001b[0mfib\u001b[0m\u001b[0;34m(\u001b[0m\u001b[0mn\u001b[0m\u001b[0;34m)\u001b[0m\u001b[0;34m:\u001b[0m\u001b[0;34m\u001b[0m\u001b[0m\n\u001b[0;32m----> 2\u001b[0;31m     \u001b[0;32mreturn\u001b[0m \u001b[0mn\u001b[0m \u001b[0;32mif\u001b[0m \u001b[0mn\u001b[0m \u001b[0;34m<\u001b[0m \u001b[0;36m2\u001b[0m \u001b[0;32melse\u001b[0m \u001b[0mfib\u001b[0m\u001b[0;34m(\u001b[0m\u001b[0mn\u001b[0m\u001b[0;34m-\u001b[0m\u001b[0;36m1\u001b[0m\u001b[0;34m)\u001b[0m \u001b[0;34m+\u001b[0m \u001b[0mfib\u001b[0m\u001b[0;34m(\u001b[0m\u001b[0mn\u001b[0m\u001b[0;34m-\u001b[0m\u001b[0;36m2\u001b[0m\u001b[0;34m)\u001b[0m\u001b[0;34m\u001b[0m\u001b[0m\n\u001b[0m",
      "\u001b[0;32m<ipython-input-20-3c6ba6e07cbc>\u001b[0m in \u001b[0;36mfib\u001b[0;34m(n)\u001b[0m\n\u001b[1;32m      1\u001b[0m \u001b[0;32mdef\u001b[0m \u001b[0mfib\u001b[0m\u001b[0;34m(\u001b[0m\u001b[0mn\u001b[0m\u001b[0;34m)\u001b[0m\u001b[0;34m:\u001b[0m\u001b[0;34m\u001b[0m\u001b[0m\n\u001b[0;32m----> 2\u001b[0;31m     \u001b[0;32mreturn\u001b[0m \u001b[0mn\u001b[0m \u001b[0;32mif\u001b[0m \u001b[0mn\u001b[0m \u001b[0;34m<\u001b[0m \u001b[0;36m2\u001b[0m \u001b[0;32melse\u001b[0m \u001b[0mfib\u001b[0m\u001b[0;34m(\u001b[0m\u001b[0mn\u001b[0m\u001b[0;34m-\u001b[0m\u001b[0;36m1\u001b[0m\u001b[0;34m)\u001b[0m \u001b[0;34m+\u001b[0m \u001b[0mfib\u001b[0m\u001b[0;34m(\u001b[0m\u001b[0mn\u001b[0m\u001b[0;34m-\u001b[0m\u001b[0;36m2\u001b[0m\u001b[0;34m)\u001b[0m\u001b[0;34m\u001b[0m\u001b[0m\n\u001b[0m",
      "\u001b[0;32m<ipython-input-20-3c6ba6e07cbc>\u001b[0m in \u001b[0;36mfib\u001b[0;34m(n)\u001b[0m\n\u001b[1;32m      1\u001b[0m \u001b[0;32mdef\u001b[0m \u001b[0mfib\u001b[0m\u001b[0;34m(\u001b[0m\u001b[0mn\u001b[0m\u001b[0;34m)\u001b[0m\u001b[0;34m:\u001b[0m\u001b[0;34m\u001b[0m\u001b[0m\n\u001b[0;32m----> 2\u001b[0;31m     \u001b[0;32mreturn\u001b[0m \u001b[0mn\u001b[0m \u001b[0;32mif\u001b[0m \u001b[0mn\u001b[0m \u001b[0;34m<\u001b[0m \u001b[0;36m2\u001b[0m \u001b[0;32melse\u001b[0m \u001b[0mfib\u001b[0m\u001b[0;34m(\u001b[0m\u001b[0mn\u001b[0m\u001b[0;34m-\u001b[0m\u001b[0;36m1\u001b[0m\u001b[0;34m)\u001b[0m \u001b[0;34m+\u001b[0m \u001b[0mfib\u001b[0m\u001b[0;34m(\u001b[0m\u001b[0mn\u001b[0m\u001b[0;34m-\u001b[0m\u001b[0;36m2\u001b[0m\u001b[0;34m)\u001b[0m\u001b[0;34m\u001b[0m\u001b[0m\n\u001b[0m",
      "\u001b[0;32m<ipython-input-20-3c6ba6e07cbc>\u001b[0m in \u001b[0;36mfib\u001b[0;34m(n)\u001b[0m\n\u001b[1;32m      1\u001b[0m \u001b[0;32mdef\u001b[0m \u001b[0mfib\u001b[0m\u001b[0;34m(\u001b[0m\u001b[0mn\u001b[0m\u001b[0;34m)\u001b[0m\u001b[0;34m:\u001b[0m\u001b[0;34m\u001b[0m\u001b[0m\n\u001b[0;32m----> 2\u001b[0;31m     \u001b[0;32mreturn\u001b[0m \u001b[0mn\u001b[0m \u001b[0;32mif\u001b[0m \u001b[0mn\u001b[0m \u001b[0;34m<\u001b[0m \u001b[0;36m2\u001b[0m \u001b[0;32melse\u001b[0m \u001b[0mfib\u001b[0m\u001b[0;34m(\u001b[0m\u001b[0mn\u001b[0m\u001b[0;34m-\u001b[0m\u001b[0;36m1\u001b[0m\u001b[0;34m)\u001b[0m \u001b[0;34m+\u001b[0m \u001b[0mfib\u001b[0m\u001b[0;34m(\u001b[0m\u001b[0mn\u001b[0m\u001b[0;34m-\u001b[0m\u001b[0;36m2\u001b[0m\u001b[0;34m)\u001b[0m\u001b[0;34m\u001b[0m\u001b[0m\n\u001b[0m",
      "\u001b[0;32m<ipython-input-20-3c6ba6e07cbc>\u001b[0m in \u001b[0;36mfib\u001b[0;34m(n)\u001b[0m\n\u001b[1;32m      1\u001b[0m \u001b[0;32mdef\u001b[0m \u001b[0mfib\u001b[0m\u001b[0;34m(\u001b[0m\u001b[0mn\u001b[0m\u001b[0;34m)\u001b[0m\u001b[0;34m:\u001b[0m\u001b[0;34m\u001b[0m\u001b[0m\n\u001b[0;32m----> 2\u001b[0;31m     \u001b[0;32mreturn\u001b[0m \u001b[0mn\u001b[0m \u001b[0;32mif\u001b[0m \u001b[0mn\u001b[0m \u001b[0;34m<\u001b[0m \u001b[0;36m2\u001b[0m \u001b[0;32melse\u001b[0m \u001b[0mfib\u001b[0m\u001b[0;34m(\u001b[0m\u001b[0mn\u001b[0m\u001b[0;34m-\u001b[0m\u001b[0;36m1\u001b[0m\u001b[0;34m)\u001b[0m \u001b[0;34m+\u001b[0m \u001b[0mfib\u001b[0m\u001b[0;34m(\u001b[0m\u001b[0mn\u001b[0m\u001b[0;34m-\u001b[0m\u001b[0;36m2\u001b[0m\u001b[0;34m)\u001b[0m\u001b[0;34m\u001b[0m\u001b[0m\n\u001b[0m",
      "\u001b[0;32m<ipython-input-20-3c6ba6e07cbc>\u001b[0m in \u001b[0;36mfib\u001b[0;34m(n)\u001b[0m\n\u001b[1;32m      1\u001b[0m \u001b[0;32mdef\u001b[0m \u001b[0mfib\u001b[0m\u001b[0;34m(\u001b[0m\u001b[0mn\u001b[0m\u001b[0;34m)\u001b[0m\u001b[0;34m:\u001b[0m\u001b[0;34m\u001b[0m\u001b[0m\n\u001b[0;32m----> 2\u001b[0;31m     \u001b[0;32mreturn\u001b[0m \u001b[0mn\u001b[0m \u001b[0;32mif\u001b[0m \u001b[0mn\u001b[0m \u001b[0;34m<\u001b[0m \u001b[0;36m2\u001b[0m \u001b[0;32melse\u001b[0m \u001b[0mfib\u001b[0m\u001b[0;34m(\u001b[0m\u001b[0mn\u001b[0m\u001b[0;34m-\u001b[0m\u001b[0;36m1\u001b[0m\u001b[0;34m)\u001b[0m \u001b[0;34m+\u001b[0m \u001b[0mfib\u001b[0m\u001b[0;34m(\u001b[0m\u001b[0mn\u001b[0m\u001b[0;34m-\u001b[0m\u001b[0;36m2\u001b[0m\u001b[0;34m)\u001b[0m\u001b[0;34m\u001b[0m\u001b[0m\n\u001b[0m",
      "\u001b[0;32m<ipython-input-20-3c6ba6e07cbc>\u001b[0m in \u001b[0;36mfib\u001b[0;34m(n)\u001b[0m\n\u001b[1;32m      1\u001b[0m \u001b[0;32mdef\u001b[0m \u001b[0mfib\u001b[0m\u001b[0;34m(\u001b[0m\u001b[0mn\u001b[0m\u001b[0;34m)\u001b[0m\u001b[0;34m:\u001b[0m\u001b[0;34m\u001b[0m\u001b[0m\n\u001b[0;32m----> 2\u001b[0;31m     \u001b[0;32mreturn\u001b[0m \u001b[0mn\u001b[0m \u001b[0;32mif\u001b[0m \u001b[0mn\u001b[0m \u001b[0;34m<\u001b[0m \u001b[0;36m2\u001b[0m \u001b[0;32melse\u001b[0m \u001b[0mfib\u001b[0m\u001b[0;34m(\u001b[0m\u001b[0mn\u001b[0m\u001b[0;34m-\u001b[0m\u001b[0;36m1\u001b[0m\u001b[0;34m)\u001b[0m \u001b[0;34m+\u001b[0m \u001b[0mfib\u001b[0m\u001b[0;34m(\u001b[0m\u001b[0mn\u001b[0m\u001b[0;34m-\u001b[0m\u001b[0;36m2\u001b[0m\u001b[0;34m)\u001b[0m\u001b[0;34m\u001b[0m\u001b[0m\n\u001b[0m",
      "\u001b[0;32m<ipython-input-20-3c6ba6e07cbc>\u001b[0m in \u001b[0;36mfib\u001b[0;34m(n)\u001b[0m\n\u001b[1;32m      1\u001b[0m \u001b[0;32mdef\u001b[0m \u001b[0mfib\u001b[0m\u001b[0;34m(\u001b[0m\u001b[0mn\u001b[0m\u001b[0;34m)\u001b[0m\u001b[0;34m:\u001b[0m\u001b[0;34m\u001b[0m\u001b[0m\n\u001b[0;32m----> 2\u001b[0;31m     \u001b[0;32mreturn\u001b[0m \u001b[0mn\u001b[0m \u001b[0;32mif\u001b[0m \u001b[0mn\u001b[0m \u001b[0;34m<\u001b[0m \u001b[0;36m2\u001b[0m \u001b[0;32melse\u001b[0m \u001b[0mfib\u001b[0m\u001b[0;34m(\u001b[0m\u001b[0mn\u001b[0m\u001b[0;34m-\u001b[0m\u001b[0;36m1\u001b[0m\u001b[0;34m)\u001b[0m \u001b[0;34m+\u001b[0m \u001b[0mfib\u001b[0m\u001b[0;34m(\u001b[0m\u001b[0mn\u001b[0m\u001b[0;34m-\u001b[0m\u001b[0;36m2\u001b[0m\u001b[0;34m)\u001b[0m\u001b[0;34m\u001b[0m\u001b[0m\n\u001b[0m",
      "\u001b[0;32m<ipython-input-20-3c6ba6e07cbc>\u001b[0m in \u001b[0;36mfib\u001b[0;34m(n)\u001b[0m\n\u001b[1;32m      1\u001b[0m \u001b[0;32mdef\u001b[0m \u001b[0mfib\u001b[0m\u001b[0;34m(\u001b[0m\u001b[0mn\u001b[0m\u001b[0;34m)\u001b[0m\u001b[0;34m:\u001b[0m\u001b[0;34m\u001b[0m\u001b[0m\n\u001b[0;32m----> 2\u001b[0;31m     \u001b[0;32mreturn\u001b[0m \u001b[0mn\u001b[0m \u001b[0;32mif\u001b[0m \u001b[0mn\u001b[0m \u001b[0;34m<\u001b[0m \u001b[0;36m2\u001b[0m \u001b[0;32melse\u001b[0m \u001b[0mfib\u001b[0m\u001b[0;34m(\u001b[0m\u001b[0mn\u001b[0m\u001b[0;34m-\u001b[0m\u001b[0;36m1\u001b[0m\u001b[0;34m)\u001b[0m \u001b[0;34m+\u001b[0m \u001b[0mfib\u001b[0m\u001b[0;34m(\u001b[0m\u001b[0mn\u001b[0m\u001b[0;34m-\u001b[0m\u001b[0;36m2\u001b[0m\u001b[0;34m)\u001b[0m\u001b[0;34m\u001b[0m\u001b[0m\n\u001b[0m",
      "\u001b[0;32m<ipython-input-20-3c6ba6e07cbc>\u001b[0m in \u001b[0;36mfib\u001b[0;34m(n)\u001b[0m\n\u001b[1;32m      1\u001b[0m \u001b[0;32mdef\u001b[0m \u001b[0mfib\u001b[0m\u001b[0;34m(\u001b[0m\u001b[0mn\u001b[0m\u001b[0;34m)\u001b[0m\u001b[0;34m:\u001b[0m\u001b[0;34m\u001b[0m\u001b[0m\n\u001b[0;32m----> 2\u001b[0;31m     \u001b[0;32mreturn\u001b[0m \u001b[0mn\u001b[0m \u001b[0;32mif\u001b[0m \u001b[0mn\u001b[0m \u001b[0;34m<\u001b[0m \u001b[0;36m2\u001b[0m \u001b[0;32melse\u001b[0m \u001b[0mfib\u001b[0m\u001b[0;34m(\u001b[0m\u001b[0mn\u001b[0m\u001b[0;34m-\u001b[0m\u001b[0;36m1\u001b[0m\u001b[0;34m)\u001b[0m \u001b[0;34m+\u001b[0m \u001b[0mfib\u001b[0m\u001b[0;34m(\u001b[0m\u001b[0mn\u001b[0m\u001b[0;34m-\u001b[0m\u001b[0;36m2\u001b[0m\u001b[0;34m)\u001b[0m\u001b[0;34m\u001b[0m\u001b[0m\n\u001b[0m",
      "\u001b[0;32m<ipython-input-20-3c6ba6e07cbc>\u001b[0m in \u001b[0;36mfib\u001b[0;34m(n)\u001b[0m\n\u001b[1;32m      1\u001b[0m \u001b[0;32mdef\u001b[0m \u001b[0mfib\u001b[0m\u001b[0;34m(\u001b[0m\u001b[0mn\u001b[0m\u001b[0;34m)\u001b[0m\u001b[0;34m:\u001b[0m\u001b[0;34m\u001b[0m\u001b[0m\n\u001b[0;32m----> 2\u001b[0;31m     \u001b[0;32mreturn\u001b[0m \u001b[0mn\u001b[0m \u001b[0;32mif\u001b[0m \u001b[0mn\u001b[0m \u001b[0;34m<\u001b[0m \u001b[0;36m2\u001b[0m \u001b[0;32melse\u001b[0m \u001b[0mfib\u001b[0m\u001b[0;34m(\u001b[0m\u001b[0mn\u001b[0m\u001b[0;34m-\u001b[0m\u001b[0;36m1\u001b[0m\u001b[0;34m)\u001b[0m \u001b[0;34m+\u001b[0m \u001b[0mfib\u001b[0m\u001b[0;34m(\u001b[0m\u001b[0mn\u001b[0m\u001b[0;34m-\u001b[0m\u001b[0;36m2\u001b[0m\u001b[0;34m)\u001b[0m\u001b[0;34m\u001b[0m\u001b[0m\n\u001b[0m",
      "\u001b[0;32m<ipython-input-20-3c6ba6e07cbc>\u001b[0m in \u001b[0;36mfib\u001b[0;34m(n)\u001b[0m\n\u001b[1;32m      1\u001b[0m \u001b[0;32mdef\u001b[0m \u001b[0mfib\u001b[0m\u001b[0;34m(\u001b[0m\u001b[0mn\u001b[0m\u001b[0;34m)\u001b[0m\u001b[0;34m:\u001b[0m\u001b[0;34m\u001b[0m\u001b[0m\n\u001b[0;32m----> 2\u001b[0;31m     \u001b[0;32mreturn\u001b[0m \u001b[0mn\u001b[0m \u001b[0;32mif\u001b[0m \u001b[0mn\u001b[0m \u001b[0;34m<\u001b[0m \u001b[0;36m2\u001b[0m \u001b[0;32melse\u001b[0m \u001b[0mfib\u001b[0m\u001b[0;34m(\u001b[0m\u001b[0mn\u001b[0m\u001b[0;34m-\u001b[0m\u001b[0;36m1\u001b[0m\u001b[0;34m)\u001b[0m \u001b[0;34m+\u001b[0m \u001b[0mfib\u001b[0m\u001b[0;34m(\u001b[0m\u001b[0mn\u001b[0m\u001b[0;34m-\u001b[0m\u001b[0;36m2\u001b[0m\u001b[0;34m)\u001b[0m\u001b[0;34m\u001b[0m\u001b[0m\n\u001b[0m",
      "\u001b[0;32m<ipython-input-20-3c6ba6e07cbc>\u001b[0m in \u001b[0;36mfib\u001b[0;34m(n)\u001b[0m\n\u001b[1;32m      1\u001b[0m \u001b[0;32mdef\u001b[0m \u001b[0mfib\u001b[0m\u001b[0;34m(\u001b[0m\u001b[0mn\u001b[0m\u001b[0;34m)\u001b[0m\u001b[0;34m:\u001b[0m\u001b[0;34m\u001b[0m\u001b[0m\n\u001b[0;32m----> 2\u001b[0;31m     \u001b[0;32mreturn\u001b[0m \u001b[0mn\u001b[0m \u001b[0;32mif\u001b[0m \u001b[0mn\u001b[0m \u001b[0;34m<\u001b[0m \u001b[0;36m2\u001b[0m \u001b[0;32melse\u001b[0m \u001b[0mfib\u001b[0m\u001b[0;34m(\u001b[0m\u001b[0mn\u001b[0m\u001b[0;34m-\u001b[0m\u001b[0;36m1\u001b[0m\u001b[0;34m)\u001b[0m \u001b[0;34m+\u001b[0m \u001b[0mfib\u001b[0m\u001b[0;34m(\u001b[0m\u001b[0mn\u001b[0m\u001b[0;34m-\u001b[0m\u001b[0;36m2\u001b[0m\u001b[0;34m)\u001b[0m\u001b[0;34m\u001b[0m\u001b[0m\n\u001b[0m",
      "\u001b[0;32m<ipython-input-20-3c6ba6e07cbc>\u001b[0m in \u001b[0;36mfib\u001b[0;34m(n)\u001b[0m\n\u001b[1;32m      1\u001b[0m \u001b[0;32mdef\u001b[0m \u001b[0mfib\u001b[0m\u001b[0;34m(\u001b[0m\u001b[0mn\u001b[0m\u001b[0;34m)\u001b[0m\u001b[0;34m:\u001b[0m\u001b[0;34m\u001b[0m\u001b[0m\n\u001b[0;32m----> 2\u001b[0;31m     \u001b[0;32mreturn\u001b[0m \u001b[0mn\u001b[0m \u001b[0;32mif\u001b[0m \u001b[0mn\u001b[0m \u001b[0;34m<\u001b[0m \u001b[0;36m2\u001b[0m \u001b[0;32melse\u001b[0m \u001b[0mfib\u001b[0m\u001b[0;34m(\u001b[0m\u001b[0mn\u001b[0m\u001b[0;34m-\u001b[0m\u001b[0;36m1\u001b[0m\u001b[0;34m)\u001b[0m \u001b[0;34m+\u001b[0m \u001b[0mfib\u001b[0m\u001b[0;34m(\u001b[0m\u001b[0mn\u001b[0m\u001b[0;34m-\u001b[0m\u001b[0;36m2\u001b[0m\u001b[0;34m)\u001b[0m\u001b[0;34m\u001b[0m\u001b[0m\n\u001b[0m",
      "\u001b[0;32m<ipython-input-20-3c6ba6e07cbc>\u001b[0m in \u001b[0;36mfib\u001b[0;34m(n)\u001b[0m\n\u001b[1;32m      1\u001b[0m \u001b[0;32mdef\u001b[0m \u001b[0mfib\u001b[0m\u001b[0;34m(\u001b[0m\u001b[0mn\u001b[0m\u001b[0;34m)\u001b[0m\u001b[0;34m:\u001b[0m\u001b[0;34m\u001b[0m\u001b[0m\n\u001b[0;32m----> 2\u001b[0;31m     \u001b[0;32mreturn\u001b[0m \u001b[0mn\u001b[0m \u001b[0;32mif\u001b[0m \u001b[0mn\u001b[0m \u001b[0;34m<\u001b[0m \u001b[0;36m2\u001b[0m \u001b[0;32melse\u001b[0m \u001b[0mfib\u001b[0m\u001b[0;34m(\u001b[0m\u001b[0mn\u001b[0m\u001b[0;34m-\u001b[0m\u001b[0;36m1\u001b[0m\u001b[0;34m)\u001b[0m \u001b[0;34m+\u001b[0m \u001b[0mfib\u001b[0m\u001b[0;34m(\u001b[0m\u001b[0mn\u001b[0m\u001b[0;34m-\u001b[0m\u001b[0;36m2\u001b[0m\u001b[0;34m)\u001b[0m\u001b[0;34m\u001b[0m\u001b[0m\n\u001b[0m",
      "\u001b[0;32m<ipython-input-20-3c6ba6e07cbc>\u001b[0m in \u001b[0;36mfib\u001b[0;34m(n)\u001b[0m\n\u001b[1;32m      1\u001b[0m \u001b[0;32mdef\u001b[0m \u001b[0mfib\u001b[0m\u001b[0;34m(\u001b[0m\u001b[0mn\u001b[0m\u001b[0;34m)\u001b[0m\u001b[0;34m:\u001b[0m\u001b[0;34m\u001b[0m\u001b[0m\n\u001b[0;32m----> 2\u001b[0;31m     \u001b[0;32mreturn\u001b[0m \u001b[0mn\u001b[0m \u001b[0;32mif\u001b[0m \u001b[0mn\u001b[0m \u001b[0;34m<\u001b[0m \u001b[0;36m2\u001b[0m \u001b[0;32melse\u001b[0m \u001b[0mfib\u001b[0m\u001b[0;34m(\u001b[0m\u001b[0mn\u001b[0m\u001b[0;34m-\u001b[0m\u001b[0;36m1\u001b[0m\u001b[0;34m)\u001b[0m \u001b[0;34m+\u001b[0m \u001b[0mfib\u001b[0m\u001b[0;34m(\u001b[0m\u001b[0mn\u001b[0m\u001b[0;34m-\u001b[0m\u001b[0;36m2\u001b[0m\u001b[0;34m)\u001b[0m\u001b[0;34m\u001b[0m\u001b[0m\n\u001b[0m",
      "\u001b[0;32m<ipython-input-20-3c6ba6e07cbc>\u001b[0m in \u001b[0;36mfib\u001b[0;34m(n)\u001b[0m\n\u001b[1;32m      1\u001b[0m \u001b[0;32mdef\u001b[0m \u001b[0mfib\u001b[0m\u001b[0;34m(\u001b[0m\u001b[0mn\u001b[0m\u001b[0;34m)\u001b[0m\u001b[0;34m:\u001b[0m\u001b[0;34m\u001b[0m\u001b[0m\n\u001b[0;32m----> 2\u001b[0;31m     \u001b[0;32mreturn\u001b[0m \u001b[0mn\u001b[0m \u001b[0;32mif\u001b[0m \u001b[0mn\u001b[0m \u001b[0;34m<\u001b[0m \u001b[0;36m2\u001b[0m \u001b[0;32melse\u001b[0m \u001b[0mfib\u001b[0m\u001b[0;34m(\u001b[0m\u001b[0mn\u001b[0m\u001b[0;34m-\u001b[0m\u001b[0;36m1\u001b[0m\u001b[0;34m)\u001b[0m \u001b[0;34m+\u001b[0m \u001b[0mfib\u001b[0m\u001b[0;34m(\u001b[0m\u001b[0mn\u001b[0m\u001b[0;34m-\u001b[0m\u001b[0;36m2\u001b[0m\u001b[0;34m)\u001b[0m\u001b[0;34m\u001b[0m\u001b[0m\n\u001b[0m",
      "\u001b[0;32m<ipython-input-20-3c6ba6e07cbc>\u001b[0m in \u001b[0;36mfib\u001b[0;34m(n)\u001b[0m\n\u001b[1;32m      1\u001b[0m \u001b[0;32mdef\u001b[0m \u001b[0mfib\u001b[0m\u001b[0;34m(\u001b[0m\u001b[0mn\u001b[0m\u001b[0;34m)\u001b[0m\u001b[0;34m:\u001b[0m\u001b[0;34m\u001b[0m\u001b[0m\n\u001b[0;32m----> 2\u001b[0;31m     \u001b[0;32mreturn\u001b[0m \u001b[0mn\u001b[0m \u001b[0;32mif\u001b[0m \u001b[0mn\u001b[0m \u001b[0;34m<\u001b[0m \u001b[0;36m2\u001b[0m \u001b[0;32melse\u001b[0m \u001b[0mfib\u001b[0m\u001b[0;34m(\u001b[0m\u001b[0mn\u001b[0m\u001b[0;34m-\u001b[0m\u001b[0;36m1\u001b[0m\u001b[0;34m)\u001b[0m \u001b[0;34m+\u001b[0m \u001b[0mfib\u001b[0m\u001b[0;34m(\u001b[0m\u001b[0mn\u001b[0m\u001b[0;34m-\u001b[0m\u001b[0;36m2\u001b[0m\u001b[0;34m)\u001b[0m\u001b[0;34m\u001b[0m\u001b[0m\n\u001b[0m",
      "\u001b[0;32m<ipython-input-20-3c6ba6e07cbc>\u001b[0m in \u001b[0;36mfib\u001b[0;34m(n)\u001b[0m\n\u001b[1;32m      1\u001b[0m \u001b[0;32mdef\u001b[0m \u001b[0mfib\u001b[0m\u001b[0;34m(\u001b[0m\u001b[0mn\u001b[0m\u001b[0;34m)\u001b[0m\u001b[0;34m:\u001b[0m\u001b[0;34m\u001b[0m\u001b[0m\n\u001b[0;32m----> 2\u001b[0;31m     \u001b[0;32mreturn\u001b[0m \u001b[0mn\u001b[0m \u001b[0;32mif\u001b[0m \u001b[0mn\u001b[0m \u001b[0;34m<\u001b[0m \u001b[0;36m2\u001b[0m \u001b[0;32melse\u001b[0m \u001b[0mfib\u001b[0m\u001b[0;34m(\u001b[0m\u001b[0mn\u001b[0m\u001b[0;34m-\u001b[0m\u001b[0;36m1\u001b[0m\u001b[0;34m)\u001b[0m \u001b[0;34m+\u001b[0m \u001b[0mfib\u001b[0m\u001b[0;34m(\u001b[0m\u001b[0mn\u001b[0m\u001b[0;34m-\u001b[0m\u001b[0;36m2\u001b[0m\u001b[0;34m)\u001b[0m\u001b[0;34m\u001b[0m\u001b[0m\n\u001b[0m",
      "\u001b[0;32m<ipython-input-20-3c6ba6e07cbc>\u001b[0m in \u001b[0;36mfib\u001b[0;34m(n)\u001b[0m\n\u001b[1;32m      1\u001b[0m \u001b[0;32mdef\u001b[0m \u001b[0mfib\u001b[0m\u001b[0;34m(\u001b[0m\u001b[0mn\u001b[0m\u001b[0;34m)\u001b[0m\u001b[0;34m:\u001b[0m\u001b[0;34m\u001b[0m\u001b[0m\n\u001b[0;32m----> 2\u001b[0;31m     \u001b[0;32mreturn\u001b[0m \u001b[0mn\u001b[0m \u001b[0;32mif\u001b[0m \u001b[0mn\u001b[0m \u001b[0;34m<\u001b[0m \u001b[0;36m2\u001b[0m \u001b[0;32melse\u001b[0m \u001b[0mfib\u001b[0m\u001b[0;34m(\u001b[0m\u001b[0mn\u001b[0m\u001b[0;34m-\u001b[0m\u001b[0;36m1\u001b[0m\u001b[0;34m)\u001b[0m \u001b[0;34m+\u001b[0m \u001b[0mfib\u001b[0m\u001b[0;34m(\u001b[0m\u001b[0mn\u001b[0m\u001b[0;34m-\u001b[0m\u001b[0;36m2\u001b[0m\u001b[0;34m)\u001b[0m\u001b[0;34m\u001b[0m\u001b[0m\n\u001b[0m",
      "\u001b[0;32m<ipython-input-20-3c6ba6e07cbc>\u001b[0m in \u001b[0;36mfib\u001b[0;34m(n)\u001b[0m\n\u001b[1;32m      1\u001b[0m \u001b[0;32mdef\u001b[0m \u001b[0mfib\u001b[0m\u001b[0;34m(\u001b[0m\u001b[0mn\u001b[0m\u001b[0;34m)\u001b[0m\u001b[0;34m:\u001b[0m\u001b[0;34m\u001b[0m\u001b[0m\n\u001b[0;32m----> 2\u001b[0;31m     \u001b[0;32mreturn\u001b[0m \u001b[0mn\u001b[0m \u001b[0;32mif\u001b[0m \u001b[0mn\u001b[0m \u001b[0;34m<\u001b[0m \u001b[0;36m2\u001b[0m \u001b[0;32melse\u001b[0m \u001b[0mfib\u001b[0m\u001b[0;34m(\u001b[0m\u001b[0mn\u001b[0m\u001b[0;34m-\u001b[0m\u001b[0;36m1\u001b[0m\u001b[0;34m)\u001b[0m \u001b[0;34m+\u001b[0m \u001b[0mfib\u001b[0m\u001b[0;34m(\u001b[0m\u001b[0mn\u001b[0m\u001b[0;34m-\u001b[0m\u001b[0;36m2\u001b[0m\u001b[0;34m)\u001b[0m\u001b[0;34m\u001b[0m\u001b[0m\n\u001b[0m",
      "\u001b[0;32m<ipython-input-20-3c6ba6e07cbc>\u001b[0m in \u001b[0;36mfib\u001b[0;34m(n)\u001b[0m\n\u001b[1;32m      1\u001b[0m \u001b[0;32mdef\u001b[0m \u001b[0mfib\u001b[0m\u001b[0;34m(\u001b[0m\u001b[0mn\u001b[0m\u001b[0;34m)\u001b[0m\u001b[0;34m:\u001b[0m\u001b[0;34m\u001b[0m\u001b[0m\n\u001b[0;32m----> 2\u001b[0;31m     \u001b[0;32mreturn\u001b[0m \u001b[0mn\u001b[0m \u001b[0;32mif\u001b[0m \u001b[0mn\u001b[0m \u001b[0;34m<\u001b[0m \u001b[0;36m2\u001b[0m \u001b[0;32melse\u001b[0m \u001b[0mfib\u001b[0m\u001b[0;34m(\u001b[0m\u001b[0mn\u001b[0m\u001b[0;34m-\u001b[0m\u001b[0;36m1\u001b[0m\u001b[0;34m)\u001b[0m \u001b[0;34m+\u001b[0m \u001b[0mfib\u001b[0m\u001b[0;34m(\u001b[0m\u001b[0mn\u001b[0m\u001b[0;34m-\u001b[0m\u001b[0;36m2\u001b[0m\u001b[0;34m)\u001b[0m\u001b[0;34m\u001b[0m\u001b[0m\n\u001b[0m",
      "\u001b[0;31mKeyboardInterrupt\u001b[0m: "
     ]
    }
   ],
   "source": [
    "fib(40)"
   ]
  },
  {
   "cell_type": "markdown",
   "metadata": {},
   "source": [
    "Notice how long the last call took. We can use the `timeit` magic to quantify the speed of this naive implementation."
   ]
  },
  {
   "cell_type": "code",
   "execution_count": 33,
   "metadata": {},
   "outputs": [
    {
     "name": "stdout",
     "output_type": "stream",
     "text": [
      "2.65 ms ± 54.2 µs per loop (mean ± std. dev. of 7 runs, 100 loops each)\n"
     ]
    }
   ],
   "source": [
    "%timeit fib(20)"
   ]
  },
  {
   "cell_type": "code",
   "execution_count": 34,
   "metadata": {},
   "outputs": [
    {
     "name": "stdout",
     "output_type": "stream",
     "text": [
      "2.65 ms ± 54.3 µs per loop (mean ± std. dev. of 7 runs, 100 loops each)\n"
     ]
    }
   ],
   "source": [
    "%timeit fib2(20)"
   ]
  },
  {
   "cell_type": "markdown",
   "metadata": {},
   "source": [
    "The first thing you should notice is that, being a recursive function, the same values will tend to be calculated over and over again. What if, instead of re-calculating values that have been calculated before, we instead store calculations so that they can be retrieved when needed the next time. Almost always, looking up a value stored in an array or hash table is going to be faster than performing an expensive calculation. \n",
    "\n",
    "This optimization technique is called **memoization**.\n",
    "\n",
    "Here is a memoization function that is implemented as a **decorator**."
   ]
  },
  {
   "cell_type": "code",
   "execution_count": 35,
   "metadata": {
    "collapsed": true
   },
   "outputs": [],
   "source": [
    "def memoize(f):\n",
    "    memo = {}\n",
    "    def func(arg):\n",
    "        if arg not in memo:            \n",
    "            memo[arg] = f(arg)\n",
    "        return memo[arg]\n",
    "    return func"
   ]
  },
  {
   "cell_type": "markdown",
   "metadata": {},
   "source": [
    "We can simply annotate our function with this decorator, and run it the same way as the original function."
   ]
  },
  {
   "cell_type": "code",
   "execution_count": 38,
   "metadata": {
    "collapsed": true
   },
   "outputs": [],
   "source": [
    "@memoize\n",
    "def fib_memo(n):\n",
    "    return n if n < 2 else fib_memo(n - 1) + fib_memo(n - 2)"
   ]
  },
  {
   "cell_type": "code",
   "execution_count": 39,
   "metadata": {},
   "outputs": [
    {
     "data": {
      "text/plain": [
       "6765"
      ]
     },
     "execution_count": 39,
     "metadata": {},
     "output_type": "execute_result"
    }
   ],
   "source": [
    "fib_memo(20)"
   ]
  },
  {
   "cell_type": "code",
   "execution_count": 40,
   "metadata": {},
   "outputs": [
    {
     "name": "stdout",
     "output_type": "stream",
     "text": [
      "151 ns ± 5.46 ns per loop (mean ± std. dev. of 7 runs, 10000000 loops each)\n"
     ]
    }
   ],
   "source": [
    "%timeit fib_memo(20)"
   ]
  },
  {
   "cell_type": "markdown",
   "metadata": {},
   "source": [
    "This is a massive speedup.\n",
    "\n",
    "The built-in `functools` library includes an efficient memoization function called `lru_cache` (LRU: Least Recently Used)."
   ]
  },
  {
   "cell_type": "code",
   "execution_count": null,
   "metadata": {
    "collapsed": true
   },
   "outputs": [],
   "source": [
    "from functools import lru_cache\n",
    "\n",
    "@lru_cache(maxsize=None)\n",
    "def fib_memo(n):\n",
    "    if n < 2:\n",
    "        return n\n",
    "    return fib_memo(n - 1) + fib_memo(n - 2)"
   ]
  },
  {
   "cell_type": "markdown",
   "metadata": {},
   "source": [
    "The only constraint on `lru_cache` is that the arguments to the function must be hashable."
   ]
  },
  {
   "cell_type": "markdown",
   "metadata": {},
   "source": [
    "## Fast array expression evaluation with `numexpr`\n",
    "\n",
    "[`numexpr`](http://code.google.com/p/numexpr/) allows array expressions to be evaluated far faster that what can be achieved in Python using Numpy arrays. `numexpr` parses a string expression and optimizes and compiles the code on the fly, using a virtual machine that includes a [Just-in-time (JIT) compiler](http://en.wikipedia.org/wiki/Just-in-time_compilation). In addition, `numexpr` offers direct support for parallel multi-threaded computations, since Python's global interpreter lock is bypassed.\n",
    "\n",
    "> Python's global interpreter lock (GIL) ensures that only one thread runs in the interpreter at once. This simplifies many of the low-level activities, such as memory management, and allows for co-operative multi-tasking. But, since the currently-running thread holds onto the interpreter, it makes multi-core parallelization difficult.\n",
    "\n",
    "Part the reason Python can be slow for array calculations is that it creates temporary arrays to store intermediate results from array element calculations, which wastes memory and cache. `numexpr` handles such calculations in manageable chunks, which accellerates computation.\n",
    "\n",
    "The speedup over NumPy by using `numexpr` can be as high as 20x, but is typically in the range of 2-4x.\n",
    "\n",
    "### Example: Computing a polynomial"
   ]
  },
  {
   "cell_type": "code",
   "execution_count": null,
   "metadata": {
    "collapsed": true
   },
   "outputs": [],
   "source": [
    "import numpy as np\n",
    "\n",
    "x = np.linspace(-1, 1, 1000000)\n",
    "\n",
    "0.25*x**3 + 0.75*x**2 - 1.5*x - 2"
   ]
  },
  {
   "cell_type": "code",
   "execution_count": null,
   "metadata": {
    "collapsed": true
   },
   "outputs": [],
   "source": [
    "%timeit 0.25*x**3 + 0.75*x**2 - 1.5*x - 2"
   ]
  },
  {
   "cell_type": "code",
   "execution_count": null,
   "metadata": {
    "collapsed": true
   },
   "outputs": [],
   "source": [
    "import numexpr as ne\n",
    "\n",
    "ne.set_num_threads(1)"
   ]
  },
  {
   "cell_type": "code",
   "execution_count": null,
   "metadata": {
    "collapsed": true
   },
   "outputs": [],
   "source": [
    "ne.evaluate('0.25*x**3 + 0.75*x**2 - 1.5*x - 2')"
   ]
  },
  {
   "cell_type": "code",
   "execution_count": null,
   "metadata": {
    "collapsed": true
   },
   "outputs": [],
   "source": [
    "%timeit ne.evaluate('0.25*x**3 + 0.75*x**2 - 1.5*x - 2')"
   ]
  },
  {
   "cell_type": "markdown",
   "metadata": {},
   "source": [
    "`numexpr` actually expands the polynomial terms so that it does not need to use a transcendental function.\n",
    "\n",
    "We can achieve further gains in performance by multithreading the calculations:"
   ]
  },
  {
   "cell_type": "code",
   "execution_count": null,
   "metadata": {
    "collapsed": true
   },
   "outputs": [],
   "source": [
    "ne.set_num_threads(4)"
   ]
  },
  {
   "cell_type": "code",
   "execution_count": null,
   "metadata": {
    "collapsed": true
   },
   "outputs": [],
   "source": [
    "%timeit ne.evaluate('0.25*x**3 + 0.75*x**2 - 1.5*x - 2')"
   ]
  },
  {
   "cell_type": "markdown",
   "metadata": {},
   "source": [
    "Since the performance of processors has outpaced that of memory in the past several decades, the CPU spends a lot of time waiting for memory to give it computations; this is the ***processor-memory performance gap***.\n",
    "\n",
    "![performance gap](http://www.techdesignforums.com/practice/files/2013/02/tdf-snps-ARMcc-feb13-fig1lg.jpg)\n",
    "(graph courtesy http://www.techdesignforums.com)\n",
    "\n",
    "CPU caches are often used to make up for this difference. CPU caches are more effective when the data are optimally located in memory to take advantage of cache performance. `numexpr` does this by moving contiguous blocks of data from memory to the CPU cache, reusing them as much as possible within the cache to more quickly give the CPU access to the data.\n",
    "\n",
    "### Limitations\n",
    "\n",
    "`numexpr` only implements element-wise operations. So, `a * b` becomes:\n",
    "\n",
    "    for i in range(N):\n",
    "        c[i] = a[i] * b[i]\n",
    "\n",
    "Similarly, it cannot index other parts of arrays in the same expression:\n",
    "\n",
    "    for i in range(N):\n",
    "        c[i] = a[i-1] + a[i] * b[i]"
   ]
  },
  {
   "cell_type": "markdown",
   "metadata": {},
   "source": [
    "## Cython\n",
    "\n",
    "Python developers typically solve performance constraints by building Python extensions by wrapping code written in other languages (for example, SciPy contains more lines of C/C++/Fortran than Python). However, programming with the Python/C API is not straightforward for most users.\n",
    "\n",
    "Cython is a language that allows Python programmers to write fast code without having to write C/C++/Fortran directly. It looks much like Python code, but with type declarations. Cython code is translated it to C (or C++ or others), which is then compiled to create a Python extension that we can import and use. \n",
    "\n",
    "Using Cython, we can achieve speedups of several orders of magnitude, often *faster than hand-coded C code*. In addtion, Cython is compatible with core scientific programming tools like NumPy and IPython.\n",
    "\n",
    "Cython has built-in support for multicore processing.\n",
    "\n",
    "Cython is used to varying degrees by other packages in the Python scientific stack, such as pandas, sympy, scikit-learn and SciPy.\n",
    "\n",
    "### Example: Numerical integration\n",
    "\n",
    "Recall from above the function `trapez` for performing numerical integration using the trapezoidal rule. As a benchmark, let's time the execution of the pure-Python version of the trapezoidal rule:"
   ]
  },
  {
   "cell_type": "code",
   "execution_count": 2,
   "metadata": {},
   "outputs": [
    {
     "ename": "NameError",
     "evalue": "name 'trapez' is not defined",
     "output_type": "error",
     "traceback": [
      "\u001b[0;31m---------------------------------------------------------------------------\u001b[0m",
      "\u001b[0;31mNameError\u001b[0m                                 Traceback (most recent call last)",
      "\u001b[0;32m<ipython-input-2-b24d664251e9>\u001b[0m in \u001b[0;36m<module>\u001b[0;34m()\u001b[0m\n\u001b[0;32m----> 1\u001b[0;31m \u001b[0mget_ipython\u001b[0m\u001b[0;34m(\u001b[0m\u001b[0;34m)\u001b[0m\u001b[0;34m.\u001b[0m\u001b[0mmagic\u001b[0m\u001b[0;34m(\u001b[0m\u001b[0;34m'timeit trapez(1, 5, 1000)'\u001b[0m\u001b[0;34m)\u001b[0m\u001b[0;34m\u001b[0m\u001b[0m\n\u001b[0m",
      "\u001b[0;32m~/anaconda/envs/bios8366/lib/python3.6/site-packages/IPython/core/interactiveshell.py\u001b[0m in \u001b[0;36mmagic\u001b[0;34m(self, arg_s)\u001b[0m\n\u001b[1;32m   2144\u001b[0m         \u001b[0mmagic_name\u001b[0m\u001b[0;34m,\u001b[0m \u001b[0m_\u001b[0m\u001b[0;34m,\u001b[0m \u001b[0mmagic_arg_s\u001b[0m \u001b[0;34m=\u001b[0m \u001b[0marg_s\u001b[0m\u001b[0;34m.\u001b[0m\u001b[0mpartition\u001b[0m\u001b[0;34m(\u001b[0m\u001b[0;34m' '\u001b[0m\u001b[0;34m)\u001b[0m\u001b[0;34m\u001b[0m\u001b[0m\n\u001b[1;32m   2145\u001b[0m         \u001b[0mmagic_name\u001b[0m \u001b[0;34m=\u001b[0m \u001b[0mmagic_name\u001b[0m\u001b[0;34m.\u001b[0m\u001b[0mlstrip\u001b[0m\u001b[0;34m(\u001b[0m\u001b[0mprefilter\u001b[0m\u001b[0;34m.\u001b[0m\u001b[0mESC_MAGIC\u001b[0m\u001b[0;34m)\u001b[0m\u001b[0;34m\u001b[0m\u001b[0m\n\u001b[0;32m-> 2146\u001b[0;31m         \u001b[0;32mreturn\u001b[0m \u001b[0mself\u001b[0m\u001b[0;34m.\u001b[0m\u001b[0mrun_line_magic\u001b[0m\u001b[0;34m(\u001b[0m\u001b[0mmagic_name\u001b[0m\u001b[0;34m,\u001b[0m \u001b[0mmagic_arg_s\u001b[0m\u001b[0;34m)\u001b[0m\u001b[0;34m\u001b[0m\u001b[0m\n\u001b[0m\u001b[1;32m   2147\u001b[0m \u001b[0;34m\u001b[0m\u001b[0m\n\u001b[1;32m   2148\u001b[0m     \u001b[0;31m#-------------------------------------------------------------------------\u001b[0m\u001b[0;34m\u001b[0m\u001b[0;34m\u001b[0m\u001b[0m\n",
      "\u001b[0;32m~/anaconda/envs/bios8366/lib/python3.6/site-packages/IPython/core/interactiveshell.py\u001b[0m in \u001b[0;36mrun_line_magic\u001b[0;34m(self, magic_name, line)\u001b[0m\n\u001b[1;32m   2065\u001b[0m                 \u001b[0mkwargs\u001b[0m\u001b[0;34m[\u001b[0m\u001b[0;34m'local_ns'\u001b[0m\u001b[0;34m]\u001b[0m \u001b[0;34m=\u001b[0m \u001b[0msys\u001b[0m\u001b[0;34m.\u001b[0m\u001b[0m_getframe\u001b[0m\u001b[0;34m(\u001b[0m\u001b[0mstack_depth\u001b[0m\u001b[0;34m)\u001b[0m\u001b[0;34m.\u001b[0m\u001b[0mf_locals\u001b[0m\u001b[0;34m\u001b[0m\u001b[0m\n\u001b[1;32m   2066\u001b[0m             \u001b[0;32mwith\u001b[0m \u001b[0mself\u001b[0m\u001b[0;34m.\u001b[0m\u001b[0mbuiltin_trap\u001b[0m\u001b[0;34m:\u001b[0m\u001b[0;34m\u001b[0m\u001b[0m\n\u001b[0;32m-> 2067\u001b[0;31m                 \u001b[0mresult\u001b[0m \u001b[0;34m=\u001b[0m \u001b[0mfn\u001b[0m\u001b[0;34m(\u001b[0m\u001b[0;34m*\u001b[0m\u001b[0margs\u001b[0m\u001b[0;34m,\u001b[0m\u001b[0;34m**\u001b[0m\u001b[0mkwargs\u001b[0m\u001b[0;34m)\u001b[0m\u001b[0;34m\u001b[0m\u001b[0m\n\u001b[0m\u001b[1;32m   2068\u001b[0m             \u001b[0;32mreturn\u001b[0m \u001b[0mresult\u001b[0m\u001b[0;34m\u001b[0m\u001b[0m\n\u001b[1;32m   2069\u001b[0m \u001b[0;34m\u001b[0m\u001b[0m\n",
      "\u001b[0;32m<decorator-gen-61>\u001b[0m in \u001b[0;36mtimeit\u001b[0;34m(self, line, cell)\u001b[0m\n",
      "\u001b[0;32m~/anaconda/envs/bios8366/lib/python3.6/site-packages/IPython/core/magic.py\u001b[0m in \u001b[0;36m<lambda>\u001b[0;34m(f, *a, **k)\u001b[0m\n\u001b[1;32m    185\u001b[0m     \u001b[0;31m# but it's overkill for just that one bit of state.\u001b[0m\u001b[0;34m\u001b[0m\u001b[0;34m\u001b[0m\u001b[0m\n\u001b[1;32m    186\u001b[0m     \u001b[0;32mdef\u001b[0m \u001b[0mmagic_deco\u001b[0m\u001b[0;34m(\u001b[0m\u001b[0marg\u001b[0m\u001b[0;34m)\u001b[0m\u001b[0;34m:\u001b[0m\u001b[0;34m\u001b[0m\u001b[0m\n\u001b[0;32m--> 187\u001b[0;31m         \u001b[0mcall\u001b[0m \u001b[0;34m=\u001b[0m \u001b[0;32mlambda\u001b[0m \u001b[0mf\u001b[0m\u001b[0;34m,\u001b[0m \u001b[0;34m*\u001b[0m\u001b[0ma\u001b[0m\u001b[0;34m,\u001b[0m \u001b[0;34m**\u001b[0m\u001b[0mk\u001b[0m\u001b[0;34m:\u001b[0m \u001b[0mf\u001b[0m\u001b[0;34m(\u001b[0m\u001b[0;34m*\u001b[0m\u001b[0ma\u001b[0m\u001b[0;34m,\u001b[0m \u001b[0;34m**\u001b[0m\u001b[0mk\u001b[0m\u001b[0;34m)\u001b[0m\u001b[0;34m\u001b[0m\u001b[0m\n\u001b[0m\u001b[1;32m    188\u001b[0m \u001b[0;34m\u001b[0m\u001b[0m\n\u001b[1;32m    189\u001b[0m         \u001b[0;32mif\u001b[0m \u001b[0mcallable\u001b[0m\u001b[0;34m(\u001b[0m\u001b[0marg\u001b[0m\u001b[0;34m)\u001b[0m\u001b[0;34m:\u001b[0m\u001b[0;34m\u001b[0m\u001b[0m\n",
      "\u001b[0;32m~/anaconda/envs/bios8366/lib/python3.6/site-packages/IPython/core/magics/execution.py\u001b[0m in \u001b[0;36mtimeit\u001b[0;34m(self, line, cell)\u001b[0m\n\u001b[1;32m   1078\u001b[0m             \u001b[0;32mfor\u001b[0m \u001b[0mindex\u001b[0m \u001b[0;32min\u001b[0m \u001b[0mrange\u001b[0m\u001b[0;34m(\u001b[0m\u001b[0;36m0\u001b[0m\u001b[0;34m,\u001b[0m \u001b[0;36m10\u001b[0m\u001b[0;34m)\u001b[0m\u001b[0;34m:\u001b[0m\u001b[0;34m\u001b[0m\u001b[0m\n\u001b[1;32m   1079\u001b[0m                 \u001b[0mnumber\u001b[0m \u001b[0;34m=\u001b[0m \u001b[0;36m10\u001b[0m \u001b[0;34m**\u001b[0m \u001b[0mindex\u001b[0m\u001b[0;34m\u001b[0m\u001b[0m\n\u001b[0;32m-> 1080\u001b[0;31m                 \u001b[0mtime_number\u001b[0m \u001b[0;34m=\u001b[0m \u001b[0mtimer\u001b[0m\u001b[0;34m.\u001b[0m\u001b[0mtimeit\u001b[0m\u001b[0;34m(\u001b[0m\u001b[0mnumber\u001b[0m\u001b[0;34m)\u001b[0m\u001b[0;34m\u001b[0m\u001b[0m\n\u001b[0m\u001b[1;32m   1081\u001b[0m                 \u001b[0;32mif\u001b[0m \u001b[0mtime_number\u001b[0m \u001b[0;34m>=\u001b[0m \u001b[0;36m0.2\u001b[0m\u001b[0;34m:\u001b[0m\u001b[0;34m\u001b[0m\u001b[0m\n\u001b[1;32m   1082\u001b[0m                     \u001b[0;32mbreak\u001b[0m\u001b[0;34m\u001b[0m\u001b[0m\n",
      "\u001b[0;32m~/anaconda/envs/bios8366/lib/python3.6/site-packages/IPython/core/magics/execution.py\u001b[0m in \u001b[0;36mtimeit\u001b[0;34m(self, number)\u001b[0m\n\u001b[1;32m    158\u001b[0m         \u001b[0mgc\u001b[0m\u001b[0;34m.\u001b[0m\u001b[0mdisable\u001b[0m\u001b[0;34m(\u001b[0m\u001b[0;34m)\u001b[0m\u001b[0;34m\u001b[0m\u001b[0m\n\u001b[1;32m    159\u001b[0m         \u001b[0;32mtry\u001b[0m\u001b[0;34m:\u001b[0m\u001b[0;34m\u001b[0m\u001b[0m\n\u001b[0;32m--> 160\u001b[0;31m             \u001b[0mtiming\u001b[0m \u001b[0;34m=\u001b[0m \u001b[0mself\u001b[0m\u001b[0;34m.\u001b[0m\u001b[0minner\u001b[0m\u001b[0;34m(\u001b[0m\u001b[0mit\u001b[0m\u001b[0;34m,\u001b[0m \u001b[0mself\u001b[0m\u001b[0;34m.\u001b[0m\u001b[0mtimer\u001b[0m\u001b[0;34m)\u001b[0m\u001b[0;34m\u001b[0m\u001b[0m\n\u001b[0m\u001b[1;32m    161\u001b[0m         \u001b[0;32mfinally\u001b[0m\u001b[0;34m:\u001b[0m\u001b[0;34m\u001b[0m\u001b[0m\n\u001b[1;32m    162\u001b[0m             \u001b[0;32mif\u001b[0m \u001b[0mgcold\u001b[0m\u001b[0;34m:\u001b[0m\u001b[0;34m\u001b[0m\u001b[0m\n",
      "\u001b[0;32m<magic-timeit>\u001b[0m in \u001b[0;36minner\u001b[0;34m(_it, _timer)\u001b[0m\n",
      "\u001b[0;31mNameError\u001b[0m: name 'trapez' is not defined"
     ]
    }
   ],
   "source": [
    "%timeit trapez(1, 5, 1000)"
   ]
  },
  {
   "cell_type": "markdown",
   "metadata": {},
   "source": [
    "Perhaps the easiest way to use Cython, is via the IPython `cythonmagic`, which allows us to run Cython interactively:"
   ]
  },
  {
   "cell_type": "code",
   "execution_count": 1,
   "metadata": {
    "collapsed": true
   },
   "outputs": [],
   "source": [
    "%load_ext cython"
   ]
  },
  {
   "cell_type": "code",
   "execution_count": 3,
   "metadata": {
    "collapsed": true
   },
   "outputs": [],
   "source": [
    "%%cython\n",
    "\n",
    "def f(x):\n",
    "    return 2*x*x + 3*x + 1\n",
    "\n",
    "def trapez2(a, b, n):\n",
    "    h = (b-a)/float(n) \n",
    "    sumy = 0\n",
    "    x=a\n",
    "    for i in range(n):\n",
    "        x += h\n",
    "        sumy += f(x)\n",
    "    sumy += 0.5*(f(a) + f(b))\n",
    "    return sumy*h"
   ]
  },
  {
   "cell_type": "markdown",
   "metadata": {},
   "source": [
    "The Cython magic is doing a lot of work for you: it compiles the code into an extension module, and loads it into the notebook. This allows us to ignore all of the compilation details of building Cython extensions. \n",
    "\n",
    "If we run `trapez2`, we can see a reasonable speedup simply by compiling it, unchanged, using Cython."
   ]
  },
  {
   "cell_type": "code",
   "execution_count": 4,
   "metadata": {},
   "outputs": [
    {
     "name": "stdout",
     "output_type": "stream",
     "text": [
      "154 µs ± 4.44 µs per loop (mean ± std. dev. of 7 runs, 10000 loops each)\n"
     ]
    }
   ],
   "source": [
    "%timeit trapez2(1, 5, 1000)"
   ]
  },
  {
   "cell_type": "markdown",
   "metadata": {},
   "source": [
    "Under the hood, several things are happening in order to deliver this improved performance. The Cython source code is translated into C source code by `cython`. Then, this C source is compiled, using the appropriate compiler, flags and associated library files (if any), into a Python extension. This extension is then loaded by IPython into the current session.\n",
    "\n",
    "![cython flow](images/cython.png)\n",
    "\n",
    "C extensions can also be compiled manually, using a setup file. Here is an example for an extension called `dist` within a package called `probability`:\n",
    "\n",
    "```python\n",
    "from distutils.core import setup\n",
    "from distutils.extension import Extension\n",
    "from Cython.Distutils import build_ext\n",
    "\n",
    "import numpy as np\n",
    "\n",
    "setup(\n",
    "    cmdclass = {'build_ext': build_ext},\n",
    "    ext_modules = [Extension(\"dist\", [\"probability/src/dist.pyx\"], include_dirs=[np.get_include()])]\n",
    ")\n",
    "```\n",
    "    \n",
    "It mainly uses machinery from a core Python package `distutils` that manages the build process."
   ]
  },
  {
   "cell_type": "markdown",
   "metadata": {},
   "source": [
    "To get a closer look at where Cython is improving our unchanged Python code, we can add an `--annotate` flag to the `%%cython` magic declaration:"
   ]
  },
  {
   "cell_type": "code",
   "execution_count": null,
   "metadata": {
    "collapsed": true
   },
   "outputs": [],
   "source": [
    "%%cython --annotate\n",
    "\n",
    "def f(x):\n",
    "    return 2*x*x + 3*x + 1\n",
    "      \n",
    "def trapez2(a, b, n):\n",
    "    h = (b-a)/float(n) \n",
    "    sumy = 0\n",
    "    x=a\n",
    "    for i in range(n):\n",
    "        x += h\n",
    "        sumy += f(x)\n",
    "    sumy += 0.5*(f(a) + f(b))\n",
    "    return sumy*h"
   ]
  },
  {
   "cell_type": "markdown",
   "metadata": {},
   "source": [
    "In the above, the line color indicates the \"typedness\" of the extension, where yellower lines are closer to Python, and therefore require calls to the Python C API, while whiter lines indicate code that is closer to pure C, hence requiring few, if any, Python API calls.\n",
    "\n",
    "If you click on a line, it unravels to show you the C code that results from the call to `cython`.\n",
    "\n",
    "The goal in speeding up code with Cython is to turn as many lines to white as we can. The easiest way to do this is to add type declarations to the Python code:"
   ]
  },
  {
   "cell_type": "code",
   "execution_count": null,
   "metadata": {
    "collapsed": true
   },
   "outputs": [],
   "source": [
    "%%cython --annotate\n",
    "\n",
    "# Add type to argument\n",
    "def ff(double x):\n",
    "    return 2*x*x + 3*x + 1\n",
    "\n",
    "# Add types to arguments\n",
    "def trapez3(double a, double b, int n):\n",
    "    # Declare types of variables\n",
    "    cdef double h, x, sumy\n",
    "    cdef int i\n",
    "    h = (b-a)/float(n) \n",
    "    sumy = 0\n",
    "    x=a\n",
    "    for i in range(n):\n",
    "        x += h\n",
    "        sumy += ff(x)\n",
    "    sumy += 0.5*(ff(a) + ff(b))\n",
    "    return sumy*h"
   ]
  },
  {
   "cell_type": "code",
   "execution_count": null,
   "metadata": {
    "collapsed": true
   },
   "outputs": [],
   "source": [
    "%timeit trapez3(1, 5, 1000)"
   ]
  },
  {
   "cell_type": "markdown",
   "metadata": {},
   "source": [
    "This gives us a considerable speedup. The next thing we might try is to *inline* the polynomial function. By inlining, we mean that we ask the compiler to perform an inline expansion of said function; that is, it will insert a copy of the function itself wherever the function is called, instead of calling the function wherever it is defined.\n",
    "\n",
    "We do three things to the specification of `ff`:\n",
    "\n",
    "* change `def` to `cdef`\n",
    "* add a return type to the function\n",
    "* add an `inline` keyword"
   ]
  },
  {
   "cell_type": "code",
   "execution_count": null,
   "metadata": {
    "collapsed": true
   },
   "outputs": [],
   "source": [
    "%%cython --annotate\n",
    "\n",
    "cdef inline double ff(double x):\n",
    "    return 2*x*x + 3*x + 1\n",
    "\n",
    "cpdef trapez4(double a, double b, int n):\n",
    "    cdef double h, x, sumy\n",
    "    cdef int i\n",
    "    h = (b-a)/float(n) \n",
    "    sumy = 0\n",
    "    x=a\n",
    "    for i in range(n):\n",
    "        x += h\n",
    "        sumy += ff(x)\n",
    "    sumy += 0.5*(ff(a) + ff(b))\n",
    "    return sumy*h"
   ]
  },
  {
   "cell_type": "markdown",
   "metadata": {},
   "source": [
    "The `cdef` keyword declares a C object. Everything that follows it is therefore specified in terms of C; we are essentially writing C, but using a subset of Python's syntax rules. So, when we are creating a function `cdef ff` it is a C function, and is not available to you in Python.\n",
    "\n",
    "`cpdef` is a hybrid declaration that creates both a C interface and a Python interface to the function.\n",
    "\n",
    "Let's see how this performs."
   ]
  },
  {
   "cell_type": "code",
   "execution_count": null,
   "metadata": {
    "collapsed": true
   },
   "outputs": [],
   "source": [
    "%timeit trapez4(1, 5, 1000)"
   ]
  },
  {
   "cell_type": "markdown",
   "metadata": {},
   "source": [
    "Woof! That's a big speedup, and there's not much yellow left in the annotated code. "
   ]
  },
  {
   "cell_type": "markdown",
   "metadata": {},
   "source": [
    "If you would like a very simple way of injecting types into your code with Cython, without modifying any of the code itelf, you can use the `@cython.locals` decorator. Note that you don't get as fast of a speedup as we have just achieved."
   ]
  },
  {
   "cell_type": "code",
   "execution_count": null,
   "metadata": {
    "collapsed": true
   },
   "outputs": [],
   "source": [
    "%%cython\n",
    "import cython\n",
    "\n",
    "@cython.locals(x=cython.double)\n",
    "def f(x):\n",
    "    return 2*x*x + 3*x + 1\n",
    "     \n",
    "@cython.locals(a=cython.double, b=cython.double, n=cython.int,\n",
    "               h=cython.double, sumy=cython.double, i=cython.int,\n",
    "               x=cython.double, func=cython.double)\n",
    "def trapez5(a, b, n):\n",
    "    h = (b-a)/float(n) \n",
    "    sumy = 0\n",
    "    x=a\n",
    "    \n",
    "    for i in range(n):\n",
    "        x += h\n",
    "        sumy += f(x)\n",
    "    sumy += 0.5*(f(a) + f(b))\n",
    "    return sumy*h"
   ]
  },
  {
   "cell_type": "code",
   "execution_count": null,
   "metadata": {
    "collapsed": true
   },
   "outputs": [],
   "source": [
    "%timeit trapez5(1, 5, 1000)"
   ]
  },
  {
   "cell_type": "markdown",
   "metadata": {},
   "source": [
    "If you can stand to look at it, you can peek at all the C code that is generated by Cython just to optimize this short function."
   ]
  },
  {
   "cell_type": "code",
   "execution_count": null,
   "metadata": {
    "collapsed": true
   },
   "outputs": [],
   "source": [
    "%load ../examples/trapezoid.c"
   ]
  },
  {
   "cell_type": "markdown",
   "metadata": {},
   "source": [
    "Due to conveneince, running Cython from IPython is a preferred way of using the language. However, if we have some **legacy C/C++ code** that we wish to use in Python, we can do that by writing a wrapper and calling `cython` from the terminal.\n",
    "\n",
    "Here is the C code:"
   ]
  },
  {
   "cell_type": "code",
   "execution_count": null,
   "metadata": {
    "collapsed": true
   },
   "outputs": [],
   "source": [
    "%load ../examples/fact.h"
   ]
  },
  {
   "cell_type": "markdown",
   "metadata": {},
   "source": [
    "And here is the Cython wrapper. Cython code is stored in files with a `.pyx` extension."
   ]
  },
  {
   "cell_type": "code",
   "execution_count": null,
   "metadata": {
    "collapsed": true
   },
   "outputs": [],
   "source": [
    "%load ../examples/fact.c"
   ]
  },
  {
   "cell_type": "code",
   "execution_count": null,
   "metadata": {
    "collapsed": true
   },
   "outputs": [],
   "source": [
    "%load ../examples/fact.pyx"
   ]
  },
  {
   "cell_type": "code",
   "execution_count": null,
   "metadata": {
    "collapsed": true
   },
   "outputs": [],
   "source": [
    "!cython ../examples/fact.pyx"
   ]
  },
  {
   "cell_type": "markdown",
   "metadata": {},
   "source": [
    "Now we can compile the extension."
   ]
  },
  {
   "cell_type": "code",
   "execution_count": null,
   "metadata": {
    "collapsed": true
   },
   "outputs": [],
   "source": [
    "import os\n",
    "os.chdir('../examples')\n",
    "\n",
    "!gcc -Wall -fno-strict-aliasing -static -undefined dynamic_lookup \\\n",
    "    -bundle -arch x86_64 \\\n",
    "    -I$HOME/anaconda3/include/python3.6m \\\n",
    "    -o fact.so fact.c\n",
    "    \n",
    "os.chdir('../notebooks')"
   ]
  },
  {
   "cell_type": "code",
   "execution_count": null,
   "metadata": {
    "collapsed": true
   },
   "outputs": [],
   "source": [
    "!cp ../examples/fact.so ."
   ]
  },
  {
   "cell_type": "code",
   "execution_count": null,
   "metadata": {
    "collapsed": true
   },
   "outputs": [],
   "source": [
    "import fact\n",
    "\n",
    "fact.fact(5)"
   ]
  },
  {
   "cell_type": "markdown",
   "metadata": {},
   "source": [
    "### Using lists and arrays in Cython\n",
    "\n",
    "The above example used only scalar variables. When we have vector-valued data, we need to declare the appropriate types. Here's a simple example, using a function that calculates the Euclidean distance between two arrays:"
   ]
  },
  {
   "cell_type": "code",
   "execution_count": null,
   "metadata": {
    "collapsed": true
   },
   "outputs": [],
   "source": [
    "def euclidean(x, y):\n",
    "    x = np.array(x)\n",
    "    y = np.array(y)\n",
    "    return np.sqrt(((x - y) ** 2).sum())"
   ]
  },
  {
   "cell_type": "code",
   "execution_count": null,
   "metadata": {
    "collapsed": true
   },
   "outputs": [],
   "source": [
    "%timeit euclidean(np.random.randn(10), np.random.randn(10))"
   ]
  },
  {
   "cell_type": "markdown",
   "metadata": {},
   "source": [
    "In order to get a speedup under Cython, we need to iterate over the elements of each passed array, and aggregate them manually."
   ]
  },
  {
   "cell_type": "code",
   "execution_count": null,
   "metadata": {
    "collapsed": true
   },
   "outputs": [],
   "source": [
    "%%cython --annotate\n",
    "\n",
    "import cython\n",
    "cimport numpy as np\n",
    "from libc.math cimport sqrt\n",
    "\n",
    "@cython.boundscheck(False)\n",
    "@cython.wraparound(False)\n",
    "def euclidean2(np.ndarray[np.float64_t, ndim=1] x, \n",
    "               np.ndarray[np.float64_t, ndim=1] y):\n",
    "    cdef: \n",
    "        double diff\n",
    "        int i\n",
    "    diff = 0\n",
    "    for i in range(x.shape[0]):\n",
    "        diff += (x[i] - y[i])**2\n",
    "    return sqrt(diff)\n"
   ]
  },
  {
   "cell_type": "code",
   "execution_count": null,
   "metadata": {
    "collapsed": true
   },
   "outputs": [],
   "source": [
    "%timeit euclidean2(np.random.randn(10), np.random.randn(10))"
   ]
  },
  {
   "cell_type": "markdown",
   "metadata": {},
   "source": [
    "The decorators for `trapez5` are **compiler directives** that alter the behavior of Cython code. Setting `boundscheck` to False removes boundary checking for indexing operations, forcing us to ensure that we do not try to index arrays using index vlaues that are out of bounds. When we set `wraparound` to False, Cython will not support negative indexes, as is the case with Python. While these directives may increase the speed of our code, it can be dangerous; if we do not ensure that we index our arrays properly, it may cause segmentation faults or data corruption.\n",
    "\n",
    "The full set of compiler directives are described in the [Cython docs](http://docs.cython.org/src/reference/compilation.html#compiler-directives)."
   ]
  },
  {
   "cell_type": "markdown",
   "metadata": {},
   "source": [
    "Here is the same code using lists instead of NumPy arrays:"
   ]
  },
  {
   "cell_type": "code",
   "execution_count": null,
   "metadata": {
    "collapsed": true
   },
   "outputs": [],
   "source": [
    "%%cython --annotate\n",
    "\n",
    "from libc.math cimport sqrt\n",
    "\n",
    "def euclidean3(list x, list y):\n",
    "    cdef: \n",
    "        double diff\n",
    "        int i\n",
    "    diff = 0\n",
    "    for i in range(len(x)):\n",
    "        diff += (x[i] - y[i])**2\n",
    "    return sqrt(diff)\n"
   ]
  },
  {
   "cell_type": "code",
   "execution_count": null,
   "metadata": {
    "collapsed": true
   },
   "outputs": [],
   "source": [
    "%timeit euclidean3(np.random.randn(10).tolist(), np.random.randn(10).tolist())"
   ]
  },
  {
   "cell_type": "markdown",
   "metadata": {},
   "source": [
    "### `pyximport`\n",
    "\n",
    "If we have some Cython source code, we can use `pyximport` to directly import it as if it were a Python module."
   ]
  },
  {
   "cell_type": "code",
   "execution_count": null,
   "metadata": {
    "collapsed": true
   },
   "outputs": [],
   "source": [
    "import pyximport\n",
    "\n",
    "# Move source into current directory\n",
    "!cp ../examples/trapezoid.pyx .\n",
    "\n",
    "# Allow it to use Python's import mechanism\n",
    "pyximport.install()\n",
    "\n",
    "from trapezoid import trapez as trapez_pyx\n",
    "trapez_pyx(1, 10, 10) "
   ]
  },
  {
   "cell_type": "markdown",
   "metadata": {},
   "source": [
    "In other words, it treats `.pyx` files as if they were `.py` files. This includes detecting changes in the source file,, if any, and recompiling it as necessary before importing."
   ]
  },
  {
   "cell_type": "markdown",
   "metadata": {},
   "source": [
    "### Benchmark example: Gibbs sampling\n",
    "\n",
    "Let's see if we can use Cython to speed up MCMC.\n",
    "\n",
    "Gibbs sampler for function:\n",
    "\n",
    "$$f(x,y) = x x^2 \\exp(-xy^2 - y^2 + 2y - 4x)$$\n",
    "\n",
    "using conditional distributions:\n",
    "    \n",
    "$$x|y \\sim Gamma(3, y^2 +4)$$\n",
    "$$y|x \\sim Normal(\\frac{1}{1+x}, \\frac{1}{2(1+x)})$$\n",
    "\n",
    "Here is the pure Python implementation:"
   ]
  },
  {
   "cell_type": "code",
   "execution_count": null,
   "metadata": {
    "collapsed": true
   },
   "outputs": [],
   "source": [
    "from numpy import zeros, random, sqrt\n",
    "gamma = random.gamma\n",
    "normal = random.normal\n",
    "\n",
    "def pygibbs(N=20000, thin=200):\n",
    "    mat = zeros((N,2))\n",
    "    x,y = mat[0]\n",
    "    for i in range(N):\n",
    "        for j in range(thin):\n",
    "            x = gamma(3, y**2 + 4)\n",
    "            y = normal(1./(x+1), 1./sqrt(2*(x+1)))\n",
    "        mat[i] = x,y\n",
    "\n",
    "    return mat"
   ]
  },
  {
   "cell_type": "code",
   "execution_count": null,
   "metadata": {
    "collapsed": true
   },
   "outputs": [],
   "source": [
    "%timeit pygibbs(1000, 10)"
   ]
  },
  {
   "cell_type": "markdown",
   "metadata": {},
   "source": [
    "Unchanged, compiling this code with Cython results in a slight improvement in speed."
   ]
  },
  {
   "cell_type": "code",
   "execution_count": null,
   "metadata": {
    "collapsed": true
   },
   "outputs": [],
   "source": [
    "%%cython\n",
    "\n",
    "from numpy import zeros, random, sqrt\n",
    "gamma = random.gamma\n",
    "normal = random.normal\n",
    "\n",
    "def cygibbs(N=20000, thin=200):\n",
    "    mat = zeros((N,2))\n",
    "    x,y = mat[0]\n",
    "    for i in range(N):\n",
    "        for j in range(thin):\n",
    "            x = gamma(3, y**2 + 4)\n",
    "            y = normal(1./(x+1), 1./sqrt(2*(x+1)))\n",
    "        mat[i] = x,y\n",
    "\n",
    "    return mat"
   ]
  },
  {
   "cell_type": "code",
   "execution_count": null,
   "metadata": {
    "collapsed": true
   },
   "outputs": [],
   "source": [
    "%timeit cygibbs(1000, 10)"
   ]
  },
  {
   "cell_type": "markdown",
   "metadata": {},
   "source": [
    "Now, for some type declarations:"
   ]
  },
  {
   "cell_type": "code",
   "execution_count": null,
   "metadata": {
    "collapsed": true
   },
   "outputs": [],
   "source": [
    "%%cython\n",
    "\n",
    "from numpy import zeros, random, sqrt\n",
    "from numpy cimport *\n",
    "gamma = random.gamma\n",
    "normal = random.normal\n",
    "\n",
    "def cygibbs2(int N=20000, int thin=200):\n",
    "    cdef: \n",
    "        ndarray[float64_t, ndim=2] mat = zeros((N,2))\n",
    "        float64_t x,y = 0\n",
    "        int i,j\n",
    "    for i in range(N):\n",
    "        for j in range(thin):\n",
    "            x = gamma(3, y**2 + 4)\n",
    "            y = normal(1./(x+1), 1./sqrt(2*(x+1)))\n",
    "        mat[i] = x,y\n",
    "\n",
    "    return mat"
   ]
  },
  {
   "cell_type": "code",
   "execution_count": null,
   "metadata": {
    "collapsed": true
   },
   "outputs": [],
   "source": [
    "%timeit cygibbs2(1000, 10)"
   ]
  },
  {
   "cell_type": "markdown",
   "metadata": {},
   "source": [
    "A full-blown \"Cythonization\" involves using GSL's random number generators, and giving Cython a few more instructions:"
   ]
  },
  {
   "cell_type": "code",
   "execution_count": null,
   "metadata": {
    "collapsed": true
   },
   "outputs": [],
   "source": [
    "# If you are using Homebrew on OS X, you can install GSL using \"brew\"\n",
    "!brew install gsl"
   ]
  },
  {
   "cell_type": "code",
   "execution_count": null,
   "metadata": {
    "collapsed": true
   },
   "outputs": [],
   "source": [
    "%%cython -lm -lgsl -lgslcblas\n",
    "\n",
    "cimport cython\n",
    "import numpy as np\n",
    "from numpy cimport *\n",
    "\n",
    "cdef extern from \"math.h\":\n",
    "    double sqrt(double) \n",
    "  \n",
    "cdef extern from \"gsl/gsl_rng.h\":\n",
    "    ctypedef struct gsl_rng_type\n",
    "    ctypedef struct gsl_rng\n",
    "\n",
    "    gsl_rng_type *gsl_rng_mt19937\n",
    "    gsl_rng *gsl_rng_alloc(gsl_rng_type * T) nogil\n",
    "  \n",
    "cdef extern from \"gsl/gsl_randist.h\":\n",
    "    double gamma \"gsl_ran_gamma\"(gsl_rng * r,double,double)\n",
    "    double gaussian \"gsl_ran_gaussian\"(gsl_rng * r,double)\n",
    "  \n",
    "cdef gsl_rng *r = gsl_rng_alloc(gsl_rng_mt19937)\n",
    "\n",
    "@cython.wraparound(False)\n",
    "@cython.boundscheck(False)\n",
    "def gibbs(int N=20000,int thin=500):\n",
    "    cdef: \n",
    "        double x=0\n",
    "        double y=0\n",
    "        int i, j\n",
    "        ndarray[float64_t, ndim=2] samples\n",
    "\n",
    "    samples = np.empty((N,thin))\n",
    "    for i from 0 <= i < N:\n",
    "        for j from 0 <= j < thin:\n",
    "            x = gamma(r,3,1.0/(y*y+4))\n",
    "            y = gaussian(r,1.0/sqrt(x+1))\n",
    "        samples[i,0] = x\n",
    "        samples[i,1] = y\n",
    "    return samples"
   ]
  },
  {
   "cell_type": "code",
   "execution_count": null,
   "metadata": {
    "collapsed": true
   },
   "outputs": [],
   "source": [
    "%timeit gibbs(1000, 10)"
   ]
  },
  {
   "cell_type": "markdown",
   "metadata": {
    "collapsed": true
   },
   "source": [
    "## Numba\n",
    "\n",
    "Cython precompiles parts of Python code before running. Another approach is **Just-in-Time (JIT)** compilation. Numba is a compiler that runs Python code through an LLVM compiler to produce optimized bytecode for fast execution. Numba does not require a C/C++ compiler on your machine.\n",
    "\n",
    "Numba's lone API is a **decorator**.\n",
    "\n",
    "The `@jit` decorator runs the decorated function through bytecode analysis and the function arguments through a type inference engine, and generates an intermediate representation of your code, which is then passed to LLVM for compilation to bytecode."
   ]
  },
  {
   "cell_type": "code",
   "execution_count": null,
   "metadata": {
    "collapsed": true
   },
   "outputs": [],
   "source": [
    "from numba import jit, autojit"
   ]
  },
  {
   "cell_type": "code",
   "execution_count": null,
   "metadata": {
    "collapsed": true
   },
   "outputs": [],
   "source": [
    "@jit\n",
    "def nfibonacci(size):\n",
    "    F = np.empty(size, 'int')\n",
    "    a, b = 0, 1\n",
    "    for i in range(size):\n",
    "        F[i] = a\n",
    "        a, b = b, a + b\n",
    "    return F"
   ]
  },
  {
   "cell_type": "code",
   "execution_count": null,
   "metadata": {
    "collapsed": true
   },
   "outputs": [],
   "source": [
    "nfibonacci(50)"
   ]
  },
  {
   "cell_type": "markdown",
   "metadata": {},
   "source": [
    "Numba is able to compile separate specializations depending on the input types."
   ]
  },
  {
   "cell_type": "markdown",
   "metadata": {},
   "source": [
    "If you want fine-grained control over types chosen by the compiler, you can tell Numba the function signature (types) to expect."
   ]
  },
  {
   "cell_type": "code",
   "execution_count": null,
   "metadata": {
    "collapsed": true
   },
   "outputs": [],
   "source": [
    "from numba import int32\n",
    "\n",
    "@jit(int32[:](int32))\n",
    "def nfibonacci(size):\n",
    "    F = np.empty(size, 'int')\n",
    "    a, b = 0, 1\n",
    "    for i in range(size):\n",
    "        F[i] = a\n",
    "        a, b = b, a + b\n",
    "    return F"
   ]
  },
  {
   "cell_type": "code",
   "execution_count": null,
   "metadata": {
    "collapsed": true
   },
   "outputs": [],
   "source": [
    "nfibonacci(50)"
   ]
  },
  {
   "cell_type": "markdown",
   "metadata": {},
   "source": [
    "Compilation is deferred until the first function execution. Numba will infer the argument types at call time, and generate optimized code based on this information. "
   ]
  },
  {
   "cell_type": "code",
   "execution_count": null,
   "metadata": {
    "collapsed": true
   },
   "outputs": [],
   "source": [
    "def pairwise_python(X):\n",
    "    M = X.shape[0]\n",
    "    N = X.shape[1]\n",
    "    D = np.empty((M, M), dtype=np.float)\n",
    "    for i in range(M):\n",
    "        for j in range(M):\n",
    "            d = 0.0\n",
    "            for k in range(N):\n",
    "                tmp = X[i, k] - X[j, k]\n",
    "                d += tmp * tmp\n",
    "            D[i, j] = np.sqrt(d)\n",
    "    return D\n",
    "\n",
    "X = np.random.random((1000, 3))\n",
    "\n",
    "%timeit pairwise_python(X)"
   ]
  },
  {
   "cell_type": "code",
   "execution_count": null,
   "metadata": {
    "collapsed": true
   },
   "outputs": [],
   "source": [
    "@jit\n",
    "def npairwise_python(X):\n",
    "    M = X.shape[0]\n",
    "    N = X.shape[1]\n",
    "    D = np.empty((M, M), dtype=np.float)\n",
    "    for i in range(M):\n",
    "        for j in range(M):\n",
    "            d = 0.0\n",
    "            for k in range(N):\n",
    "                tmp = X[i, k] - X[j, k]\n",
    "                d += tmp * tmp\n",
    "            D[i, j] = np.sqrt(d)\n",
    "    return D"
   ]
  },
  {
   "cell_type": "code",
   "execution_count": null,
   "metadata": {
    "collapsed": true,
    "scrolled": true
   },
   "outputs": [],
   "source": [
    "%timeit npairwise_python(X)"
   ]
  },
  {
   "cell_type": "markdown",
   "metadata": {},
   "source": [
    "Numba-compiled functions can call other compiled functions. In some situations, the optimizer may even inline the function in the machine code code."
   ]
  },
  {
   "cell_type": "code",
   "execution_count": null,
   "metadata": {
    "collapsed": true
   },
   "outputs": [],
   "source": [
    "def square(x):\n",
    "    return x ** 2\n",
    "\n",
    "def hypot(x, y):\n",
    "    return np.sqrt(square(x) + square(y))"
   ]
  },
  {
   "cell_type": "code",
   "execution_count": null,
   "metadata": {
    "collapsed": true
   },
   "outputs": [],
   "source": [
    "%timeit hypot(10, 8)"
   ]
  },
  {
   "cell_type": "code",
   "execution_count": null,
   "metadata": {
    "collapsed": true
   },
   "outputs": [],
   "source": [
    "@jit\n",
    "def nsquare(x):\n",
    "    return x ** 2\n",
    "\n",
    "@jit\n",
    "def nhypot(x, y):\n",
    "    return np.sqrt(nsquare(x) + nsquare(y))"
   ]
  },
  {
   "cell_type": "code",
   "execution_count": null,
   "metadata": {
    "collapsed": true
   },
   "outputs": [],
   "source": [
    "%timeit nhypot(10, 8)"
   ]
  },
  {
   "cell_type": "markdown",
   "metadata": {},
   "source": [
    "Numba **can** compile *most* NumPy functions, as well as generators.\n",
    "\n",
    "Numba **cannot** compile things like lists, sets, dictionaries (tuples are compiled), comprehensions, and string operations, so there will be no speedup for these.\n",
    "\n",
    "As with all performance tools, the best strategy is not to apply the `@jit` decorator all over your code, but to use Python's profiling tools to identify \"hotspots\" in your program, and selectively apply `@jit`."
   ]
  },
  {
   "cell_type": "markdown",
   "metadata": {},
   "source": [
    "### Exercise: EM speedup\n",
    "\n",
    "Use the method of your choice to speed up the execution of the EM algorithm that was implemented in the previous lecture."
   ]
  },
  {
   "cell_type": "code",
   "execution_count": null,
   "metadata": {
    "collapsed": true
   },
   "outputs": [],
   "source": [
    "# Write your answer here"
   ]
  },
  {
   "cell_type": "markdown",
   "metadata": {},
   "source": [
    "## References\n",
    "\n",
    "van der Plas, J. (2014) [Why Python is Slow: Looking Under the Hood](https://jakevdp.github.io/blog/2014/05/09/why-python-is-slow/)\n",
    "\n",
    "van der Plas, J. (2015) [Optimizing Python in the Real World: NumPy, Numba, and the NUFFT](https://jakevdp.github.io/blog/2015/02/24/optimizing-python-with-numpy-and-numba/)\n",
    "\n",
    "[A guide to analyzing Python performance](http://www.huyng.com/posts/python-performance-analysis/)\n",
    "\n",
    "[Kurt Smith's Cython tutorial from SciPy 2013](https://www.youtube.com/watch?v=JKCjsRDffXo)\n"
   ]
  }
 ],
 "metadata": {
  "anaconda-cloud": {},
  "kernelspec": {
   "display_name": "Python 3",
   "language": "python",
   "name": "python3"
  },
  "language_info": {
   "codemirror_mode": {
    "name": "ipython",
    "version": 3
   },
   "file_extension": ".py",
   "mimetype": "text/x-python",
   "name": "python",
   "nbconvert_exporter": "python",
   "pygments_lexer": "ipython3",
   "version": "3.6.2"
  },
  "latex_envs": {
   "bibliofile": "biblio.bib",
   "cite_by": "apalike",
   "current_citInitial": 1,
   "eqLabelWithNumbers": true,
   "eqNumInitial": 0
  },
  "nav_menu": {},
  "toc": {
   "navigate_menu": true,
   "number_sections": false,
   "sideBar": false,
   "threshold": "3",
   "toc_cell": true,
   "toc_section_display": "block",
   "toc_window_display": false
  }
 },
 "nbformat": 4,
 "nbformat_minor": 1
}
